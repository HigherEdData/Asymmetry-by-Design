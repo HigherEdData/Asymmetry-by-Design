{
 "cells": [
  {
   "cell_type": "markdown",
   "metadata": {},
   "source": [
    "## Replication for \"Asymmetry by Design\", March 22, 2020\n",
    "### By Adam Goldstein and Charlie Eaton\n",
    "\n",
    "### Table A2: Pooled models with and without investor ownership control"
   ]
  },
  {
   "cell_type": "markdown",
   "metadata": {},
   "source": [
    "Install STATA packages"
   ]
  },
  {
   "cell_type": "code",
   "execution_count": 1,
   "metadata": {},
   "outputs": [],
   "source": [
    "*ssc install estout\n",
    "*ssc install reghdfe"
   ]
  },
  {
   "cell_type": "markdown",
   "metadata": {},
   "source": [
    "Download datasets"
   ]
  },
  {
   "cell_type": "code",
   "execution_count": 2,
   "metadata": {},
   "outputs": [],
   "source": [
    "*"
   ]
  },
  {
   "cell_type": "code",
   "execution_count": 3,
   "metadata": {},
   "outputs": [],
   "source": [
    "set more off\n",
    "\n",
    "est clear \n",
    "\n",
    "quietly use data/d_unitidasymmetry, clear\n",
    "\n",
    "quietly collapse (rawsum) sftesale sftetotl (mean) all_under system_under grad_rate_150_p_w ///\n",
    "loan_amount_borrower_c_w tuitionall_c_w selective white_share_w black_share_w hisp_share_w ///\n",
    "pell_grants_per_fte_c_w ft_faculty_per_100fte_w dpcttype_health dpcttype_law ///\n",
    "dpcttype_culinarycosmetic dpcttype_arts dpcttype_tech dpcttype_biz online ///\n",
    "(first) state_n (min) iclevel (max) law_enf_frst_this_yr multi_brand investor ///\n",
    "multi_brand2 multi_brand4, by(systemid year)\n",
    "\n",
    "quietly gen fracsales= sftesale /sftetotl * 100\n",
    "\n",
    "quietly label var fracsales \"% employees sales\"\n",
    "\n",
    "quietly xtset systemid year\n",
    "\n",
    "quietly eststo: reg fracsales i.multi_brand system_under online selective ib3.iclevel ///\n",
    "pell_grants_per_fte_c_w white_share_w black_share_w hisp_share_w dpcttype* i.year i.state_n, cluster(systemid)\n",
    "\n",
    "quietly eststo: reg fracsales i.multi_brand i.investor system_under online selective ib3.iclevel ///\n",
    "pell_grants_per_fte_c_w white_share_w black_share_w hisp_share_w dpcttype* i.year i.state_n, cluster(systemid)\n",
    "\n",
    "quietly eststo: reg fracsales i.multi_brand##i.investor system_under online selective ib3.iclevel ///\n",
    "pell_grants_per_fte_c_w white_share_w black_share_w hisp_share_w dpcttype* i.year i.state_n, cluster(systemid)"
   ]
  },
  {
   "cell_type": "code",
   "execution_count": 4,
   "metadata": {},
   "outputs": [],
   "source": [
    "qui {\n",
    "quietly use data/d_unitidasymmetry, clear\n",
    "quietly xtset unitid year\n",
    "eststo: reg tuitionall_c_w i.multi_brand system_under all_under online selective ib3.iclevel ///\n",
    "pell_grants_per_fte_c_w white_share_w black_share_w hisp_share_w dpcttype* grad_rate_150_p_w ///\n",
    "    i.year i.state_n, cluster(systemid)\n",
    "\n",
    "eststo: reg tuitionall_c_w i.multi_brand i.investor system_under online all_under selective ib3.iclevel ///\n",
    "pell_grants_per_fte_c_w white_share_w black_share_w hisp_share_w dpcttype* grad_rate_150_p_w ///\n",
    "  i.state_n i.year, cluster(systemid)\n",
    "    \n",
    "eststo: reg tuitionall_c_w i.multi_brand##i.investor system_under online all_under selective ib3.iclevel ///\n",
    "pell_grants_per_fte_c_w white_share_w black_share_w hisp_share_w dpcttype* grad_rate_150_p_w ///\n",
    "  i.state_n i.year, cluster(systemid)\n",
    "    \n",
    "eststo: reg loan_amount_borrower_c_w i.multi_brand system_under all_under online selective ib3.iclevel ///\n",
    "pell_grants_per_fte_c_w white_share_w black_share_w hisp_share_w dpcttype* grad_rate_150_p_w ///\n",
    "  i.state_n i.year, cluster(systemid)\n",
    "\n",
    "eststo: reg loan_amount_borrower_c_w i.multi_brand i.investor system_under online all_under selective ib3.iclevel ///\n",
    "pell_grants_per_fte_c_w white_share_w black_share_w hisp_share_w dpcttype* grad_rate_150_p_w ///\n",
    "  i.state_n i.year, cluster(systemid)\n",
    "\n",
    "eststo: reg loan_amount_borrower_c_w i.multi_brand##i.investor system_under online all_under selective ib3.iclevel ///\n",
    "pell_grants_per_fte_c_w white_share_w black_share_w hisp_share_w dpcttype* grad_rate_150_p_w ///\n",
    "  i.state_n i.year, cluster(systemid)\n",
    "}"
   ]
  },
  {
   "cell_type": "code",
   "execution_count": 5,
   "metadata": {},
   "outputs": [],
   "source": [
    "quietly gen l2multi_brand=l2.multi_brand\n",
    "quietly replace multi_brand=l2multi_brand\n",
    "\n",
    "quietly eststo: reg ft_faculty_per_100fte_w i.multi_brand system_under online all_under selective ///\n",
    "pell_grants_per_fte_c_w white_share_w black_share_w hisp_share_w i.iclevel dpcttype* tuitionall_c_w ///\n",
    "  i.state_n i.year, cluster(systemid)\n",
    "\n",
    "quietly eststo: reg ft_faculty_per_100fte_w i.multi_brand i.investor system_under online all_under selective ///\n",
    "pell_grants_per_fte_c_w white_share_w black_share_w hisp_share_w i.iclevel dpcttype* tuitionall_c_w ///\n",
    "  i.state_n i.year, cluster(systemid)\n",
    "\n",
    "quietly eststo: reg ft_faculty_per_100fte_w i.multi_brand##i.investor system_under online all_under selective ///\n",
    "pell_grants_per_fte_c_w white_share_w black_share_w hisp_share_w i.iclevel dpcttype* tuitionall_c_w ///\n",
    "  i.state_n i.year, cluster(systemid)"
   ]
  },
  {
   "cell_type": "code",
   "execution_count": 6,
   "metadata": {},
   "outputs": [],
   "source": [
    "quietly use data/d_unitidasymmetry, clear\n",
    "quietly xtset unitid year\n",
    "\n",
    "quietly eststo: reg grad_rate_150_p4yr_w i.multi_brand system_under online all_under i.iclevel ///\n",
    "pell_grants_per_fte_c_w white_share_w black_share_w hisp_share_w selective dpcttype* tuitionall_c_w ///\n",
    "  i.state_n i.year, cluster(systemid)\n",
    "\n",
    "quietly eststo: reg grad_rate_150_p4yr_w i.multi_brand i.investor system_under online all_under i.iclevel ///\n",
    "pell_grants_per_fte_c_w white_share_w black_share_w hisp_share_w selective dpcttype* tuitionall_c_w ///\n",
    "  i.state_n i.year, cluster(systemid)\n",
    "\n",
    "quietly eststo: reg grad_rate_150_p4yr_w i.multi_brand##i.investor system_under online all_under i.iclevel ///\n",
    "pell_grants_per_fte_c_w white_share_w black_share_w hisp_share_w selective dpcttype* tuitionall_c_w ///\n",
    "  i.state_n i.year, cluster(systemid)\n",
    "\n",
    "quietly eststo: reg grad_rate_150_p2yr_w i.multi_brand system_under online all_under i.iclevel ///\n",
    "pell_grants_per_fte_c_w white_share_w black_share_w hisp_share_w selective dpcttype* tuitionall_c_w ///\n",
    "  i.state_n i.year, cluster(systemid)\n",
    "\n",
    "quietly eststo: reg grad_rate_150_p2yr_w i.multi_brand i.investor system_under online all_under i.iclevel ///\n",
    "pell_grants_per_fte_c_w white_share_w black_share_w hisp_share_w selective dpcttype* tuitionall_c_w ///\n",
    "  i.state_n i.year, cluster(systemid)\n",
    "\n",
    "quietly eststo: reg grad_rate_150_p2yr_w i.multi_brand##i.investor system_under online all_under i.iclevel ///\n",
    "pell_grants_per_fte_c_w white_share_w black_share_w hisp_share_w selective dpcttype* tuitionall_c_w ///\n",
    "  i.state_n i.year, cluster(systemid)"
   ]
  },
  {
   "cell_type": "code",
   "execution_count": 7,
   "metadata": {},
   "outputs": [],
   "source": [
    "quietly use data/d_opeidasymmetry, clear\n",
    "qui keep if rankopeid==1\n",
    "\n",
    "quietly gen l2multi_brand=l2.multi_brand\n",
    "quietly replace multi_brand=l2multi_brand\n",
    "\n",
    "quietly eststo: reg mn_earn_wne_p6_c_w i.multi_brand system_under all_under selective online i.iclevel dpcttype* ///\n",
    "white_share_w black_share_w hisp_share_w earn_pct_lo dpcttype* tuitionall_c_w ///\n",
    "  i.state_n i.year, cluster(systemid)\n",
    "\n",
    "quietly eststo: reg mn_earn_wne_p6_c_w i.multi_brand i.investor system_under all_under selective online i.iclevel dpcttype* ///\n",
    "white_share_w black_share_w hisp_share_w earn_pct_lo dpcttype* tuitionall_c_w ///\n",
    "  i.state_n i.year, cluster(systemid)\n",
    "\n",
    "quietly eststo: reg mn_earn_wne_p6_c_w i.multi_brand##i.investor system_under all_under selective online i.iclevel dpcttype* ///\n",
    "white_share_w black_share_w hisp_share_w earn_pct_lo dpcttype* tuitionall_c_w ///\n",
    "  i.state_n i.year, cluster(systemid)\n",
    " \n",
    "quietly eststo: reg rpy_3yr_rt_supp_w i.multi_brand system_under all_under selective online i.iclevel dpcttype* ///\n",
    "white_share_w black_share_w hisp_share_w rpy_3yr_pct_lo dpcttype* tuitionall_c_w ///\n",
    "  i.state_n i.year, cluster(systemid)\n",
    "\n",
    "quietly eststo: reg rpy_3yr_rt_supp_w i.multi_brand i.investor system_under all_under selective online i.iclevel dpcttype* ///\n",
    "white_share_w black_share_w hisp_share_w rpy_3yr_pct_lo dpcttype* tuitionall_c_w ///\n",
    "  i.state_n i.year, cluster(systemid)\n",
    "\n",
    "quietly eststo: reg rpy_3yr_rt_supp_w i.multi_brand##i.investor system_under all_under selective online i.iclevel dpcttype* ///\n",
    "white_share_w black_share_w hisp_share_w rpy_3yr_pct_lo dpcttype* tuitionall_c_w ///\n",
    "  i.state_n i.year, cluster(systemid)\n",
    "\n",
    "quietly use data/d_opeidasymmetry, clear\n",
    "\n",
    "qui replace pell_grants_per_fte_c_w=l1.pell_grants_per_fte_c_w if year==2016\n",
    "\n",
    "quietly gen l2multi_brand=l2.multi_brand\n",
    "quietly replace multi_brand=l2multi_brand\n",
    "\n",
    "qui eststo: nbreg claimcount i.multi_brand ///\n",
    "all_under system_under online selective ib3.iclevel ///\n",
    "white_share_w black_share_w hisp_share_w dpcttype* ///\n",
    "pell_grants_per_fte_c_w i.state_n, vce(cluster systemid) noomitted\n",
    "\n",
    "qui eststo: nbreg claimcount i.multi_brand i.investor ///\n",
    "all_under system_under online selective ib3.iclevel ///\n",
    "white_share_w black_share_w hisp_share_w dpcttype* ///\n",
    "pell_grants_per_fte_c_w i.state_n, vce(cluster systemid) noomitted\n",
    "\n",
    "qui eststo: nbreg claimcount i.multi_brand##i.investor ///\n",
    "all_under system_under online selective ib3.iclevel ///\n",
    "white_share_w black_share_w hisp_share_w dpcttype* ///\n",
    "pell_grants_per_fte_c_w i.state_n, vce(cluster systemid) noomitted\n",
    "\n",
    "qui esttab est1 est2 est3 est4 est5 est6 est7 est8 est9 using tables/ta2_pooledpredmultiinvestor1.rtf,  replace ///\n",
    "keep (1.multi_brand 1.investor 1.multi_brand#1.investor) ///\n",
    "varlabels(1.multi_brand \"multi-brand\" 1.investor \"investor owned\" 1.multi_brand#1.investor \"multi-brand X investor\") ///\n",
    "se(%9.2fc) b(%9.2fc) nogaps eqlabels(none) ///\n",
    " star(* 0.05 ** 0.01 *** 0.001) varwidth(15) nocon label ///\n",
    "stats(r2 N, fmt(2 %9.0fc) label(\"r2\" \"N\")) ///\n",
    " mtitle(\"sales\" \"sales\" \"sales\" \"tuition (1,000s)\" \"tuition (1,000s)\" \"tuition (1,000s)\"  ///\n",
    "\"loan (1,000s)\" \"loan (1,000s)\" \"loan (1,000s)\")\n",
    "\n",
    "qui esttab est10 est11 est12 est13 est14 est15 est16 est17 est18 using tables/ta2_pooledpredmultiinvestor2.rtf,  replace ///\n",
    "keep (1.multi_brand 1.investor 1.multi_brand#1.investor) ///\n",
    "varlabels(1.multi_brand \"multi-brand\" 1.investor \"investor owned\" 1.multi_brand#1.investor \"multi-brand X investor\") ///\n",
    "se(%9.2fc) b(%9.2fc) nogaps eqlabels(none) ///\n",
    " star(* 0.05 ** 0.01 *** 0.001) varwidth(15) nocon label ///\n",
    "stats(r2 r2_p N, fmt(2 3 %9.0fc) label(\"r2\" \"N\")) ///\n",
    " mtitle(\"faculty\" \"faculty\" \"faculty\" \"BA grad rate\" \"BA grad rate\" \"BA grad rate\" ///\n",
    "\"other grad rate\" \"other grad rate\" \"other grad rate\")\n",
    "\n",
    "qui esttab est19 est20 est21 est22 est23 est24 est25 est26 est27 using tables/ta2_pooledpredmultiinvestor3.rtf,  replace ///\n",
    "keep (1.multi_brand 1.investor 1.multi_brand#1.investor) ///\n",
    "varlabels(1.multi_brand \"multi-brand\" 1.investor \"investor owned\" 1.multi_brand#1.investor \"multi-brand X investor\") ///\n",
    "se(%9.2fc) b(%9.2fc) nogaps eqlabels(none) ///\n",
    " star(* 0.05 ** 0.01 *** 0.001) varwidth(15) nocon label ///\n",
    "stats(r2 r2_p N, fmt(2 3 %9.0fc) label(\"r2\" \"pseudo r2\" \"N\")) ///\n",
    " mtitle(\"earnings (1,000s)\" \"earnings (1,000s)\" \"earnings (1,000s)\" \"% repay\" \"% repay\" \"% repay\" \"claims\" \"claims\" \"claims\")"
   ]
  },
  {
   "cell_type": "code",
   "execution_count": 8,
   "metadata": {},
   "outputs": [
    {
     "data": {
      "text/html": [
       "\n",
       "<table border=\"0\" width=\"*\">\n",
       "<tr><td colspan=28><hr></td></tr>\n",
       "<tr><td>               </td><td>         (1)              </td><td>         (2)              </td><td>         (3)              </td><td>         (4)              </td><td>         (5)              </td><td>         (6)              </td><td>         (7)              </td><td>         (8)              </td><td>         (9)              </td><td>        (10)              </td><td>        (11)              </td><td>        (12)              </td><td>        (13)              </td><td>        (14)              </td><td>        (15)              </td><td>        (16)              </td><td>        (17)              </td><td>        (18)              </td><td>        (19)              </td><td>        (20)              </td><td>        (21)              </td><td>        (22)              </td><td>        (23)              </td><td>        (24)              </td><td>        (25)              </td><td>        (26)              </td><td>        (27)              </td></tr>\n",
       "<tr><td>               </td><td>       sales              </td><td>       sales              </td><td>       sales              </td><td>tuition (1,000s)              </td><td>tuition (1,000s)              </td><td>tuition (1,000s)              </td><td>loan (1,000s)              </td><td>loan (1,000s)              </td><td>loan (1,000s)              </td><td>     faculty              </td><td>     faculty              </td><td>     faculty              </td><td>BA grad rate              </td><td>BA grad rate              </td><td>BA grad rate              </td><td>other grad rate              </td><td>other grad rate              </td><td>other grad rate              </td><td>earnings (1,000s)              </td><td>earnings (1,000s)              </td><td>earnings (1,000s)              </td><td>     % repay              </td><td>     % repay              </td><td>     % repay              </td><td>      claims              </td><td>      claims              </td><td>      claims              </td></tr>\n",
       "<tr><td colspan=28><hr></td></tr>\n",
       "<tr><td>multi-brand    </td><td>        4.41<sup>*</sup>  </td><td>        3.63<sup>*</sup>  </td><td>        4.02              </td><td>        2.84<sup>***</sup></td><td>        2.83<sup>***</sup></td><td>        3.54<sup>**</sup> </td><td>        0.58<sup>*</sup>  </td><td>        0.10              </td><td>        0.80<sup>*</sup>  </td><td>       -0.82<sup>***</sup></td><td>       -0.49<sup>**</sup> </td><td>       -0.77<sup>*</sup>  </td><td>       -5.74<sup>**</sup> </td><td>       -1.78              </td><td>       -6.94              </td><td>       -1.10              </td><td>        1.40              </td><td>        1.31              </td><td>       -1.83<sup>***</sup></td><td>       -1.93<sup>***</sup></td><td>       -2.28<sup>***</sup></td><td>       -3.77<sup>**</sup> </td><td>       -2.17              </td><td>       -2.06              </td><td>        1.32<sup>**</sup> </td><td>        1.28<sup>**</sup> </td><td>        0.26              </td></tr>\n",
       "<tr><td>               </td><td>      (1.74)              </td><td>      (1.81)              </td><td>      (3.04)              </td><td>      (0.66)              </td><td>      (0.66)              </td><td>      (1.20)              </td><td>      (0.23)              </td><td>      (0.24)              </td><td>      (0.34)              </td><td>      (0.14)              </td><td>      (0.15)              </td><td>      (0.37)              </td><td>      (2.07)              </td><td>      (2.33)              </td><td>      (5.98)              </td><td>      (2.14)              </td><td>      (2.07)              </td><td>      (4.61)              </td><td>      (0.43)              </td><td>      (0.42)              </td><td>      (0.50)              </td><td>      (1.23)              </td><td>      (1.20)              </td><td>      (2.24)              </td><td>      (0.47)              </td><td>      (0.47)              </td><td>      (0.26)              </td></tr>\n",
       "<tr><td>investor owned </td><td>                          </td><td>        2.70<sup>**</sup> </td><td>        2.74<sup>**</sup> </td><td>                          </td><td>        0.04              </td><td>        0.28              </td><td>                          </td><td>        1.24<sup>***</sup></td><td>        1.46<sup>***</sup></td><td>                          </td><td>       -0.98<sup>***</sup></td><td>       -1.05<sup>***</sup></td><td>                          </td><td>      -11.67<sup>**</sup> </td><td>      -13.28<sup>**</sup> </td><td>                          </td><td>       -8.16<sup>***</sup></td><td>       -8.19<sup>***</sup></td><td>                          </td><td>        0.58              </td><td>        0.44              </td><td>                          </td><td>       -4.83<sup>***</sup></td><td>       -4.77<sup>***</sup></td><td>                          </td><td>        0.12              </td><td>       -0.09              </td></tr>\n",
       "<tr><td>               </td><td>                          </td><td>      (0.95)              </td><td>      (0.96)              </td><td>                          </td><td>      (0.70)              </td><td>      (0.63)              </td><td>                          </td><td>      (0.27)              </td><td>      (0.29)              </td><td>                          </td><td>      (0.20)              </td><td>      (0.21)              </td><td>                          </td><td>      (3.74)              </td><td>      (4.08)              </td><td>                          </td><td>      (1.74)              </td><td>      (1.76)              </td><td>                          </td><td>      (0.47)              </td><td>      (0.51)              </td><td>                          </td><td>      (0.86)              </td><td>      (0.71)              </td><td>                          </td><td>      (0.23)              </td><td>      (0.24)              </td></tr>\n",
       "<tr><td>multi-brand X investor</td><td>                          </td><td>                          </td><td>       -0.67              </td><td>                          </td><td>                          </td><td>       -1.04              </td><td>                          </td><td>                          </td><td>       -0.99<sup>*</sup>  </td><td>                          </td><td>                          </td><td>        0.35              </td><td>                          </td><td>                          </td><td>        7.08              </td><td>                          </td><td>                          </td><td>        0.14              </td><td>                          </td><td>                          </td><td>        0.73              </td><td>                          </td><td>                          </td><td>       -0.22              </td><td>                          </td><td>                          </td><td>        1.29<sup>*</sup>  </td></tr>\n",
       "<tr><td>               </td><td>                          </td><td>                          </td><td>      (3.71)              </td><td>                          </td><td>                          </td><td>      (1.40)              </td><td>                          </td><td>                          </td><td>      (0.43)              </td><td>                          </td><td>                          </td><td>      (0.40)              </td><td>                          </td><td>                          </td><td>      (6.76)              </td><td>                          </td><td>                          </td><td>      (5.26)              </td><td>                          </td><td>                          </td><td>      (0.80)              </td><td>                          </td><td>                          </td><td>      (2.38)              </td><td>                          </td><td>                          </td><td>      (0.54)              </td></tr>\n",
       "<tr><td colspan=28><hr></td></tr>\n",
       "<tr><td>r2             </td><td>        0.12              </td><td>        0.13              </td><td>        0.13              </td><td>        0.30              </td><td>        0.30              </td><td>        0.30              </td><td>        0.30              </td><td>        0.32              </td><td>        0.32              </td><td>        0.20              </td><td>        0.21              </td><td>        0.21              </td><td>        0.29              </td><td>        0.32              </td><td>        0.32              </td><td>        0.33              </td><td>        0.35              </td><td>        0.35              </td><td>        0.71              </td><td>        0.71              </td><td>        0.71              </td><td>        0.63              </td><td>        0.64              </td><td>        0.64              </td><td>                          </td><td>                          </td><td>                          </td></tr>\n",
       "<tr><td>pseudo r2      </td><td>                          </td><td>                          </td><td>                          </td><td>                          </td><td>                          </td><td>                          </td><td>                          </td><td>                          </td><td>                          </td><td>                          </td><td>                          </td><td>                          </td><td>                          </td><td>                          </td><td>                          </td><td>                          </td><td>                          </td><td>                          </td><td>                          </td><td>                          </td><td>                          </td><td>                          </td><td>                          </td><td>                          </td><td>       0.128              </td><td>       0.128              </td><td>       0.129              </td></tr>\n",
       "<tr><td>N              </td><td>       4,532              </td><td>       4,532              </td><td>       4,532              </td><td>      16,905              </td><td>      16,905              </td><td>      16,905              </td><td>      14,798              </td><td>      14,798              </td><td>      14,798              </td><td>       9,604              </td><td>       9,604              </td><td>       9,604              </td><td>       3,536              </td><td>       3,536              </td><td>       3,536              </td><td>      17,356              </td><td>      17,356              </td><td>      17,356              </td><td>       5,919              </td><td>       5,919              </td><td>       5,919              </td><td>       9,315              </td><td>       9,315              </td><td>       9,315              </td><td>       1,036              </td><td>       1,036              </td><td>       1,036              </td></tr>\n",
       "<tr><td colspan=28><hr></td></tr>\n",
       "<tr><td colspan=28>\n",
       "Standard errors in parentheses\n",
       "<br /><sup>*</sup> <i>p</i> < 0.05, <sup>**</sup> <i>p</i> < 0.01, <sup>***</sup> <i>p</i> < 0.001\n",
       "</td></tr>\n",
       "</table>\n",
       "\n"
      ],
      "text/plain": [
       "This front-end or document format cannot display HTML"
      ]
     },
     "metadata": {},
     "output_type": "display_data"
    }
   ],
   "source": [
    "%html\n",
    "esttab, html ///\n",
    "keep (1.multi_brand 1.investor 1.multi_brand#1.investor) ///\n",
    "varlabels(1.multi_brand \"multi-brand\" 1.investor \"investor owned\" 1.multi_brand#1.investor \"multi-brand X investor\") ///\n",
    "se(%9.2fc) b(%9.2fc) nogaps eqlabels(none) ///\n",
    " star(* 0.05 ** 0.01 *** 0.001) varwidth(15) nocon label ///\n",
    "stats(r2 r2_p N, fmt(2 3 %9.0fc) label(\"r2\" \"pseudo r2\" \"N\")) ///\n",
    " mtitle(\"sales\" \"sales\" \"sales\" \"tuition (1,000s)\" \"tuition (1,000s)\" \"tuition (1,000s)\"  ///\n",
    "\"loan (1,000s)\" \"loan (1,000s)\" \"loan (1,000s)\" \"faculty\" \"faculty\" \"faculty\" \"BA grad rate\" \"BA grad rate\" \"BA grad rate\" ///\n",
    "\"other grad rate\" \"other grad rate\" \"other grad rate\" \"earnings (1,000s)\" \"earnings (1,000s)\" \"earnings (1,000s)\" ///\n",
    "\"% repay\" \"% repay\" \"% repay\" \"claims\" \"claims\" \"claims\")"
   ]
  },
  {
   "cell_type": "code",
   "execution_count": 9,
   "metadata": {},
   "outputs": [],
   "source": [
    "quietly use data/d_unitidasymmetry, clear\n",
    "\n",
    "est clear\n",
    "\n",
    "quietly collapse (rawsum) sftesale sftetotl (mean) all_under system_under grad_rate_150_p_w ///\n",
    "loan_amount_borrower_c_w tuitionall_c_w selective white_share_w black_share_w hisp_share_w ///\n",
    "pell_grants_per_fte_c_w ft_faculty_per_100fte_w dpcttype_health dpcttype_law ///\n",
    "dpcttype_culinarycosmetic dpcttype_arts dpcttype_tech dpcttype_biz online ///\n",
    "(first) state_n (min) iclevel (max) investor law_enf_frst_this_yr multi_brand ///\n",
    "multi_brand2 multi_brand4, by(systemid year)\n",
    "\n",
    "quietly xtset systemid year\n",
    "\n",
    "quietly eststo: logistic f2.law_enf_frst_this_yr i.multi_brand ///\n",
    "system_under online i.iclevel selective white_share_w black_share_w ///\n",
    "hisp_share_w pell_grants_per_fte_c_w dpcttype*, ///\n",
    " cluster(systemid)\n",
    "\n",
    "quietly eststo: logistic f2.law_enf_frst_this_yr i.multi_brand i.investor ///\n",
    "system_under online i.iclevel selective white_share_w black_share_w ///\n",
    "hisp_share_w pell_grants_per_fte_c_w dpcttype*, ///\n",
    " cluster(year)\n",
    "\n",
    "quietly eststo: logistic f2.law_enf_frst_this_yr i.multi_brand##i.investor ///\n",
    "system_under online i.iclevel selective white_share_w black_share_w ///\n",
    "hisp_share_w pell_grants_per_fte_c_w dpcttype*, ///\n",
    " cluster(year)\n",
    "\n",
    "qui esttab est1 est2 est3  using tables/ta4_pooledpredmultiinvestor4.rtf,  replace ///\n",
    "keep (1.multi_brand 1.investor 1.multi_brand#1.investor) eform ///\n",
    "varlabels(1.multi_brand \"multi-brand\" 1.investor \"investor owned\" 1.multi_brand#1.investor \"multi-brand X investor\") ///\n",
    "se(%9.2fc) b(%9.2fc) nogaps eqlabels(none) ///\n",
    " star(* 0.05 ** 0.01 *** 0.001) varwidth(15) nocon label ///\n",
    "stats(r2_p N, fmt(2 %9.0fc) label(\"r2\" \"N\")) ///\n",
    " mtitle(\"+legal\" \"+legal\" \"+legal\")"
   ]
  },
  {
   "cell_type": "code",
   "execution_count": 10,
   "metadata": {},
   "outputs": [
    {
     "data": {
      "text/html": [
       "\n",
       "<table border=\"0\" width=\"*\">\n",
       "<tr><td colspan=4><hr></td></tr>\n",
       "<tr><td>               </td><td>         (1)              </td><td>         (2)              </td><td>         (3)              </td></tr>\n",
       "<tr><td>               </td><td>      +legal              </td><td>      +legal              </td><td>      +legal              </td></tr>\n",
       "<tr><td colspan=4><hr></td></tr>\n",
       "<tr><td>multi-brand    </td><td>        6.72<sup>***</sup></td><td>        3.81<sup>**</sup> </td><td>       13.19<sup>***</sup></td></tr>\n",
       "<tr><td>               </td><td>      (2.90)              </td><td>      (1.93)              </td><td>      (8.40)              </td></tr>\n",
       "<tr><td>investor owned </td><td>                          </td><td>        4.11<sup>*</sup>  </td><td>        6.29<sup>***</sup></td></tr>\n",
       "<tr><td>               </td><td>                          </td><td>      (2.65)              </td><td>      (3.47)              </td></tr>\n",
       "<tr><td>multi-brand X investor</td><td>                          </td><td>                          </td><td>        0.19<sup>***</sup></td></tr>\n",
       "<tr><td>               </td><td>                          </td><td>                          </td><td>      (0.09)              </td></tr>\n",
       "<tr><td colspan=4><hr></td></tr>\n",
       "<tr><td>r2             </td><td>        0.23              </td><td>        0.24              </td><td>        0.25              </td></tr>\n",
       "<tr><td>N              </td><td>      21,849              </td><td>      21,849              </td><td>      21,849              </td></tr>\n",
       "<tr><td colspan=4><hr></td></tr>\n",
       "<tr><td colspan=4>\n",
       "Exponentiated coefficients; Standard errors in parentheses\n",
       "<br /><sup>*</sup> <i>p</i> < 0.05, <sup>**</sup> <i>p</i> < 0.01, <sup>***</sup> <i>p</i> < 0.001\n",
       "</td></tr>\n",
       "</table>\n",
       "\n"
      ],
      "text/plain": [
       "This front-end or document format cannot display HTML"
      ]
     },
     "metadata": {},
     "output_type": "display_data"
    }
   ],
   "source": [
    "%html esttab,  replace html ///\n",
    "keep (1.multi_brand 1.investor 1.multi_brand#1.investor) eform ///\n",
    "varlabels(1.multi_brand \"multi-brand\" 1.investor \"investor owned\" 1.multi_brand#1.investor \"multi-brand X investor\") ///\n",
    "se(%9.2fc) b(%9.2fc) nogaps eqlabels(none) ///\n",
    " star(* 0.05 ** 0.01 *** 0.001) varwidth(15) nocon label ///\n",
    "stats(r2_p N, fmt(2 %9.0fc) label(\"r2\" \"N\")) ///\n",
    " mtitle(\"+legal\" \"+legal\" \"+legal\")"
   ]
  },
  {
   "cell_type": "code",
   "execution_count": 13,
   "metadata": {},
   "outputs": [],
   "source": [
    "qui esttab using tables/ta2_pooledpredmultiinvestoroddsratio.rtf, eform replace ///\n",
    " keep (multi_brand investor) order(multi_brand investor) ///\n",
    "se(%9.2fc) b(%9.2fc) nogaps  ///\n",
    " star(* 0.05 ** 0.01 *** 0.001) varwidth(15) nocon label ///\n",
    "stats(r2_p N, fmt(2 %9.0fc) label(\"r2\" \"N\")) ///\n",
    " mtitle(\"claims\" \"claims\" \"legal\" \"legal\") eqlabel(none)"
   ]
  },
  {
   "cell_type": "code",
   "execution_count": null,
   "metadata": {},
   "outputs": [],
   "source": []
  }
 ],
 "metadata": {
  "kernelspec": {
   "display_name": "Stata",
   "language": "stata",
   "name": "stata"
  },
  "language_info": {
   "codemirror_mode": "stata",
   "file_extension": ".do",
   "mimetype": "text/x-stata",
   "name": "stata",
   "version": "15.1"
  }
 },
 "nbformat": 4,
 "nbformat_minor": 4
}
