{
 "cells": [
  {
   "cell_type": "markdown",
   "metadata": {},
   "source": [
    "## Replication for \"Asymmetry by Design\", October 22, 2020\n",
    "### By Adam Goldstein and Charlie Eaton\n",
    "\n",
    "### Table A6. Multi-brand Strategies (Two-Brand and Four-Brand Cutoffs) and Investor Ownership"
   ]
  },
  {
   "cell_type": "markdown",
   "metadata": {},
   "source": [
    "Install STATA packages"
   ]
  },
  {
   "cell_type": "code",
   "execution_count": 1,
   "metadata": {},
   "outputs": [],
   "source": [
    "*ssc install estout\n",
    "*ssc install reghdfe"
   ]
  },
  {
   "cell_type": "markdown",
   "metadata": {},
   "source": [
    "Download datasets"
   ]
  },
  {
   "cell_type": "code",
   "execution_count": 2,
   "metadata": {},
   "outputs": [],
   "source": [
    "*"
   ]
  },
  {
   "cell_type": "code",
   "execution_count": 3,
   "metadata": {},
   "outputs": [],
   "source": [
    "quietly {\n",
    "quietly use data/d_unitidasymmetry, clear\n",
    "keep if year>1996 & year<2016\n",
    "set more off\n",
    "est clear\n",
    "    \n",
    "quietly collapse (rawsum) sftesale sftetotl (mean) all_under system_under grad_rate_150_p_w ///\n",
    "loan_amount_borrower_c_w tuitionall_c_w selective white_share_w black_share_w hisp_share_w ///\n",
    "pell_grants_per_fte_c_w ft_faculty_per_100fte_w dpcttype_health dpcttype_law ///\n",
    "dpcttype_culinarycosmetic dpcttype_arts dpcttype_tech dpcttype_biz online ///\n",
    "(first) state_n (min) iclevel (max) law_enf_frst_this_yr multi_brand investor ///\n",
    "multi_brand2 multi_brand4, by(systemid year)\n",
    "    \n",
    "xtset systemid year\n",
    "    \n",
    "quietly replace multi_brand=multi_brand2\n",
    "    \n",
    "eststo: reg multi_brand investor system_under online selective ib3.iclevel ///\n",
    "dpcttype* i.year i.state_n, cluster(systemid) ro\n",
    "\n",
    "gen multiyear=year if multi_brand==1\n",
    "bysort systemid: egen minmultiyear=min(multiyear)\n",
    "replace multi_brand=. if year>minmultiyear\n",
    "\n",
    "eststo: reghdfe multi_brand investor system_under online selective ib3.iclevel ///\n",
    "dpcttype* i.year, absorb(systemid year) cluster(systemid year)\n",
    "    \n",
    "    quietly replace multi_brand=multi_brand4\n",
    "\n",
    "eststo: reg multi_brand investor system_under online selective ib3.iclevel ///\n",
    "dpcttype* i.year i.state_n, cluster(systemid) ro\n",
    "\n",
    "    drop multiyear minmultiyear\n",
    "gen multiyear=year if multi_brand==1\n",
    "bysort systemid: egen minmultiyear=min(multiyear)\n",
    "replace multi_brand=. if year>minmultiyear\n",
    "\n",
    "eststo: reghdfe multi_brand investor system_under online selective ib3.iclevel ///\n",
    "dpcttype* i.year, absorb(systemid year) cluster(systemid year)\n",
    "\n",
    "esttab using tables/ta6_2_4brandinvestorfe.rtf, ///\n",
    "title({\\b Table A6:} Multi-brand strategies (2-brand and 4-brand cutoffs) and investor ownership) ///\n",
    " keep (investor system_under) mgroups(\"2-brand cutoff\" \"4-brand cutoff\", pattern(1 0 0 1 0 0)) ///\n",
    "    mtitle(\"Pooled OLS\" \"Pooled logistic\" \"Fixed effects\" \"Pooled OLS\" \"Pooled logistic\" \"Fixed effects\") ///\n",
    "    eqlabels(none) collabels(none) ///\n",
    "stats(r2 r2_p N, fmt(2 2 %9.0fc %9.0fc)  ///\n",
    "label(\"r2\" \"pseudo r2\" N)) b(%9.3fc) se ///\n",
    "nogaps star(* 0.05 ** 0.01 *** 0.001) label varwidth(10) replace\n",
    "}"
   ]
  },
  {
   "cell_type": "code",
   "execution_count": 4,
   "metadata": {},
   "outputs": [
    {
     "data": {
      "text/html": [
       "\n",
       "<table border=\"0\" width=\"*\">\n",
       "<caption>Table A6: Multi-brand strategies (2-brand and 4-brand cutoffs) and investor ownership</caption>\n",
       "<tr><td colspan=5><hr></td></tr>\n",
       "<tr><td>          </td><td>2-brand cutoff              </td><td>                          </td><td>                          </td><td>4-brand cutoff              </td></tr>\n",
       "<tr><td>          </td><td>         (1)              </td><td>         (2)              </td><td>         (3)              </td><td>         (4)              </td></tr>\n",
       "<tr><td>          </td><td>  Pooled OLS              </td><td>Fixed effects              </td><td>  Pooled OLS              </td><td>Fixed effects              </td></tr>\n",
       "<tr><td colspan=5><hr></td></tr>\n",
       "<tr><td>(max) investor</td><td>       0.292<sup>***</sup></td><td>       0.038<sup>**</sup> </td><td>       0.095<sup>**</sup> </td><td>       0.014<sup>*</sup>  </td></tr>\n",
       "<tr><td>          </td><td>     (0.046)              </td><td>     (0.013)              </td><td>     (0.030)              </td><td>     (0.006)              </td></tr>\n",
       "<tr><td>(mean) system_under</td><td>       0.004<sup>**</sup> </td><td>       0.002              </td><td>       0.003              </td><td>       0.000              </td></tr>\n",
       "<tr><td>          </td><td>     (0.001)              </td><td>     (0.002)              </td><td>     (0.002)              </td><td>     (0.000)              </td></tr>\n",
       "<tr><td colspan=5><hr></td></tr>\n",
       "<tr><td>r2        </td><td>        0.18              </td><td>        0.24              </td><td>        0.15              </td><td>        0.22              </td></tr>\n",
       "<tr><td>pseudo r2 </td><td>                          </td><td>                          </td><td>                          </td><td>                          </td></tr>\n",
       "<tr><td>N         </td><td>      27,495              </td><td>      25,398              </td><td>      27,495              </td><td>      26,711              </td></tr>\n",
       "<tr><td colspan=5><hr></td></tr>\n",
       "<tr><td colspan=5>\n",
       "Standard errors in parentheses\n",
       "<br /><sup>*</sup> <i>p</i> < 0.05, <sup>**</sup> <i>p</i> < 0.01, <sup>***</sup> <i>p</i> < 0.001\n",
       "</td></tr>\n",
       "</table>\n",
       "\n"
      ],
      "text/plain": [
       "This front-end or document format cannot display HTML"
      ]
     },
     "metadata": {},
     "output_type": "display_data"
    }
   ],
   "source": [
    "%html\n",
    "esttab, ///\n",
    "title(Table A6: Multi-brand strategies (2-brand and 4-brand cutoffs) and investor ownership) ///\n",
    " keep (investor system_under) mgroups(\"2-brand cutoff\" \"4-brand cutoff\", pattern(1 0 0 1 0 0)) ///\n",
    "    mtitle(\"Pooled OLS\" \"Fixed effects\" \"Pooled OLS\" \"Fixed effects\") ///\n",
    "    eqlabels(none) collabels(none) ///\n",
    "stats(r2 r2_p N, fmt(2 2 %9.0fc %9.0fc)  ///\n",
    "label(\"r2\" \"pseudo r2\" N)) b(%9.3fc) se ///\n",
    "nogaps star(* 0.05 ** 0.01 *** 0.001) html label varwidth(10)"
   ]
  },
  {
   "cell_type": "code",
   "execution_count": 5,
   "metadata": {},
   "outputs": [],
   "source": [
    "quietly {\n",
    "quietly use data/d_unitidasymmetry, clear\n",
    "keep if year<2016 & year>1996\n",
    "est clear\n",
    "    \n",
    "quietly collapse (rawsum) sftesale sftetotl (mean) all_under system_under grad_rate_150_p_w ///\n",
    "loan_amount_borrower_c_w tuitionall_c_w selective white_share_w black_share_w hisp_share_w ///\n",
    "pell_grants_per_fte_c_w ft_faculty_per_100fte_w dpcttype_health dpcttype_law ///\n",
    "dpcttype_culinarycosmetic dpcttype_arts dpcttype_tech dpcttype_biz online ///\n",
    "(first) state_n (min) iclevel (max) law_enf_frst_this_yr multi_brand investor ///\n",
    "multi_brand2 multi_brand4, by(systemid year)\n",
    "    \n",
    "quietly label var investor \"investor ownership\"\n",
    "quietly label var system_under \"enrollment in thousands\"\n",
    "    \n",
    "quietly replace multi_brand=multi_brand2\n",
    "    \n",
    "eststo: logistic multi_brand investor system_under online selective ib3.iclevel ///\n",
    "dpcttype* i.year i.state_n, cluster(systemid) ro\n",
    "    \n",
    "quietly replace multi_brand=multi_brand4\n",
    "\n",
    "eststo: logistic multi_brand investor system_under online selective ib3.iclevel ///\n",
    "dpcttype* i.year i.state_n, cluster(systemid) ro\n",
    "}"
   ]
  },
  {
   "cell_type": "code",
   "execution_count": 6,
   "metadata": {},
   "outputs": [
    {
     "data": {
      "text/html": [
       "\n",
       "<table border=\"0\" width=\"*\">\n",
       "<caption>Table A6: Multi-brand strategies (2-brand and 4-brand cutoffs) and investor ownership</caption>\n",
       "<tr><td colspan=3><hr></td></tr>\n",
       "<tr><td>          </td><td>         (1)              </td><td>         (2)              </td></tr>\n",
       "<tr><td>          </td><td>2-brand logistic odds ratio              </td><td>4-brand logistic odds ratio              </td></tr>\n",
       "<tr><td colspan=3><hr></td></tr>\n",
       "<tr><td>investor ownership</td><td>      10.904<sup>***</sup></td><td>      14.125<sup>***</sup></td></tr>\n",
       "<tr><td>          </td><td>     (3.982)              </td><td>     (7.861)              </td></tr>\n",
       "<tr><td>enrollment in thousands</td><td>       1.064              </td><td>       1.017              </td></tr>\n",
       "<tr><td>          </td><td>     (0.042)              </td><td>     (0.013)              </td></tr>\n",
       "<tr><td colspan=3><hr></td></tr>\n",
       "<tr><td>r2        </td><td>                          </td><td>                          </td></tr>\n",
       "<tr><td>pseudo r2 </td><td>        0.26              </td><td>        0.41              </td></tr>\n",
       "<tr><td>N         </td><td>      27,221              </td><td>      23,766              </td></tr>\n",
       "<tr><td colspan=3><hr></td></tr>\n",
       "<tr><td colspan=3>\n",
       "Exponentiated coefficients; Standard errors in parentheses\n",
       "<br /><sup>*</sup> <i>p</i> < 0.05, <sup>**</sup> <i>p</i> < 0.01, <sup>***</sup> <i>p</i> < 0.001\n",
       "</td></tr>\n",
       "</table>\n",
       "\n"
      ],
      "text/plain": [
       "This front-end or document format cannot display HTML"
      ]
     },
     "metadata": {},
     "output_type": "display_data"
    }
   ],
   "source": [
    "%html\n",
    "esttab, eform ///\n",
    "title(Table A6: Multi-brand strategies (2-brand and 4-brand cutoffs) and investor ownership) ///\n",
    " keep (investor system_under) mtitle(\"2-brand logistic odds ratio\" \"4-brand logistic odds ratio\") ///\n",
    "    eqlabels(none) collabels(none) ///\n",
    "stats(r2 r2_p N, fmt(2 2 %9.0fc %9.0fc)  ///\n",
    "label(\"r2\" \"pseudo r2\" N)) b(%9.3fc) se ///\n",
    "nogaps star(* 0.05 ** 0.01 *** 0.001) html label varwidth(10)"
   ]
  },
  {
   "cell_type": "code",
   "execution_count": null,
   "metadata": {},
   "outputs": [],
   "source": []
  }
 ],
 "metadata": {
  "kernelspec": {
   "display_name": "Stata",
   "language": "stata",
   "name": "stata"
  },
  "language_info": {
   "codemirror_mode": "stata",
   "file_extension": ".do",
   "mimetype": "text/x-stata",
   "name": "stata",
   "version": "15.1"
  }
 },
 "nbformat": 4,
 "nbformat_minor": 4
}
