{
 "cells": [
  {
   "cell_type": "markdown",
   "metadata": {},
   "source": [
    "## Replication for \"Asymmetry by Design\", March 22, 2020\n",
    "### By Adam Goldstein and Charlie Eaton\n",
    "\n",
    "### Table 4 Stratification by Ownership alternative POOLED INTERACTED models"
   ]
  },
  {
   "cell_type": "code",
   "execution_count": 25,
   "metadata": {},
   "outputs": [],
   "source": [
    "quietly use \"/Users/Charlie/Dropbox/asymmetry by Design/Data/asymmetry_20191229.dta\", clear\n",
    "quietly set scheme plotplain\n",
    "quietly set more off\n",
    "quietly est clear\n",
    "quietly xtset unitid year"
   ]
  },
  {
   "cell_type": "code",
   "execution_count": 26,
   "metadata": {},
   "outputs": [],
   "source": [
    "est clear\n",
    "\n",
    "quietly eststo: reg tuitionall_c_w i.pe_po system_under all_under online selective i.iclevel ///\n",
    "pell_grants_per_fte_c_w white_share_w black_share_w hisp_share_w dpcttype* i.year ,    cluster(systemid)\n",
    "\n",
    "quietly eststo: reg tuitionall_c_w   i.pe_po##alt2multi_brands_all system_under all_under online selective i.iclevel ///\n",
    "pell_grants_per_fte_c_w white_share_w black_share_w hisp_share_w dpcttype* i.year ,    cluster(systemid)\n",
    "\n",
    "quietly eststo: reg loan_amount_borrower_c_w i.pe_po  system_under online all_under i.iclevel ///\n",
    "pell_grants_per_fte_c_w white_share_w black_share_w hisp_share_w selective dpcttype* i.year ,    cluster(systemid)\n",
    "\n",
    "quietly eststo: reg loan_amount_borrower_c_w   i.pe_po##alt2multi_brands_all system_under online all_under i.iclevel ///\n",
    "pell_grants_per_fte_c_w white_share_w black_share_w hisp_share_w selective dpcttype* i.year ,    cluster(systemid)\n",
    "\n",
    "**MIGHT BE BETTER TO DO THIS WITH ALL TITLE IV RATHER THAN JUST FOR-PROFITS\n",
    "quietly eststo: reg ft_faculty_per_100fte_w i.pe_po  system_under online all_under selective ///\n",
    "pell_grants_per_fte_c_w white_share_w black_share_w hisp_share_w i.iclevel dpcttype* i.year ,    cluster(systemid)\n",
    "\n",
    "quietly eststo: reg ft_faculty_per_100fte_w   i.pe_po##alt2multi_brands_all system_under online all_under selective ///\n",
    "pell_grants_per_fte_c_w white_share_w black_share_w hisp_share_w i.iclevel dpcttype* i.year ,    cluster(systemid)\n",
    "\n",
    "quietly replace grad_rate_150_p_w=grad_rate_150_p_w*100 if grad_rate_150_p_w!=0\n",
    "\n",
    "quietly eststo: reg grad_rate_150_p_w i.pe_po  system_under online all_under i.iclevel dpcttype* i.year ///\n",
    "pell_grants_per_fte_c_w pctchrtgrbkaat pctchrtgrhispt pctchrtgrwhitt selective ,    cluster(systemid)\n",
    "\n",
    "quietly eststo: reg grad_rate_150_p_w   i.pe_po##alt2multi_brands_all system_under online all_under i.iclevel dpcttype* i.year ///\n",
    "pell_grants_per_fte_c_w pctchrtgrbkaat pctchrtgrhispt pctchrtgrwhitt selective ,    cluster(systemid)\n",
    "\n",
    "quietly use \"/Users/Charlie/Dropbox/asymmetry by Design/Data/d_OPEID_asymmetry.dta\", clear\n",
    "quietly gen pe_po=0\n",
    "quietly replace pe_po=1 if pe_ind==1 | public==1\n",
    "quietly replace alt2multi_brands_all=alt2multi_brands_all4\n",
    "\n",
    "quietly eststo: reg mn_earn_wne_p6_c_w l2.i.pe_po ///\n",
    "all_under system_under online selective iclevel ///\n",
    "white_share_w black_share_w hisp_share_w dpcttype* i.year earn_pct_lo ,  cluster(systemid)\n",
    "\n",
    "quietly eststo: reg mn_earn_wne_p6_c_w l2.i.pe_po##l2.alt2multi_brands_all ///\n",
    "all_under system_under online selective iclevel ///\n",
    "white_share_w black_share_w hisp_share_w dpcttype* i.year earn_pct_lo ,   cluster(systemid)\n",
    " \n",
    "quietly eststo: reg rpy_3yr_rt_supp_w l2.i.pe_po system_under all_under online selective iclevel  ///\n",
    "white_share_w black_share_w hisp_share_w dpcttype* i.year rpy_3yr_pct_lo ,   cluster(systemid)\n",
    "\n",
    "quietly eststo: reg rpy_3yr_rt_supp_w l2.i.pe_po##l2.alt2multi_brands_all system_under all_under online selective iclevel ///\n",
    "white_share_w black_share_w hisp_share_w dpcttype* i.year rpy_3yr_pct_lo ,  cluster(systemid)\n",
    "\n",
    "quietly use \"/Users/Charlie/Dropbox/asymmetry by Design/Data/asymmetry_20191229.dta\", clear\n",
    "quietly replace alt2multi_brands_all=alt2multi_brands_all4\n",
    "quietly collapse (mean) selective online ///\n",
    "white_share_w black_share_w hisp_share_w pell_grants_per_fte_c_w ///\n",
    "dpcttype_health dpcttype_law dpcttype_culinarycosmetic dpcttype_arts dpcttype_tech dpcttype_biz ///\n",
    "(first) state_n (min) iclevel (max) pe_po system_under pe_ind public law_enf_frst_this_yr alt2multi_brands_all, by(systemid year)\n",
    "\n",
    "quietly xtset systemid year\n",
    "\n",
    "quietly eststo: reg f1.law_enf_frst_this_yr i.pe_po ///\n",
    "system_under online i.iclevel dpcttype* i.year ///\n",
    "white_share_w black_share_w hisp_share_w selective pell_grants_per_fte_c_w  , cluster(systemid)\n",
    "\n",
    "quietly eststo: reg f1.law_enf_frst_this_yr i.pe_po##alt2multi_brands_all ///\n",
    "system_under online i.iclevel dpcttype* i.year ///\n",
    "white_share_w black_share_w hisp_share_w selective pell_grants_per_fte_c_w , cluster(systemid)"
   ]
  },
  {
   "cell_type": "code",
   "execution_count": 46,
   "metadata": {},
   "outputs": [
    {
     "data": {
      "text/html": [
       "\n",
       "<table border=\"0\" width=\"*\">\n",
       "<tr><td colspan=29><hr></td></tr>\n",
       "<tr><td> </td><td>(1)</td><td>              </td><td>(2)</td><td>              </td><td>(3)</td><td>              </td><td>(4)</td><td>              </td><td>(5)</td><td>              </td><td>(6)</td><td>              </td><td>(7)</td><td>              </td><td>(8)</td><td>              </td><td>(9)</td><td>              </td><td>(10)</td><td>              </td><td>(11)</td><td>              </td><td>(12)</td><td>              </td><td>(13)</td><td>              </td><td>(14)</td><td>              </td></tr>\n",
       "<tr><td> </td><td>tuitionall_c_w</td><td>              </td><td>tuitionall_c_w</td><td>              </td><td>loan_amount_borrower_c_w</td><td>              </td><td>loan_amount_borrower_c_w</td><td>              </td><td>ft_faculty_per_100fte_w</td><td>              </td><td>ft_faculty_per_100fte_w</td><td>              </td><td>grad_rate_150_p_w</td><td>              </td><td>grad_rate_150_p_w</td><td>              </td><td>mn_earn_wne_p6_c_w</td><td>              </td><td>mn_earn_wne_p6_c_w</td><td>              </td><td>rpy_3yr_rt_supp_w</td><td>              </td><td>rpy_3yr_rt_supp_w</td><td>              </td><td>F.law_enf_frst_this_yr</td><td>              </td><td>F.law_enf_frst_this_yr</td><td>              </td></tr>\n",
       "<tr><td colspan=29><hr></td></tr>\n",
       "<tr><td>1.pe_po</td><td>2169</td><td><sup>***</sup></td><td>1686</td><td><sup>***</sup></td><td>1380</td><td><sup>***</sup></td><td>1388</td><td><sup>***</sup></td><td>-1.3</td><td><sup>***</sup></td><td>-1.2</td><td><sup>***</sup></td><td>-8.9</td><td><sup>***</sup></td><td>-10</td><td><sup>***</sup></td><td> </td><td>              </td><td> </td><td>              </td><td> </td><td>              </td><td> </td><td>              </td><td>.014</td><td><sup>**</sup> </td><td>.0089</td><td><sup>*</sup>  </td></tr>\n",
       "<tr><td> </td><td>[548]</td><td>              </td><td>[526]</td><td>              </td><td>[259]</td><td>              </td><td>[282]</td><td>              </td><td>[.21]</td><td>              </td><td>[.23]</td><td>              </td><td>[1.7]</td><td>              </td><td>[2.3]</td><td>              </td><td> </td><td>              </td><td> </td><td>              </td><td> </td><td>              </td><td> </td><td>              </td><td>[.0059]</td><td>              </td><td>[.0052]</td><td>              </td></tr>\n",
       "<tr><td>1.alt2multi_brands_all</td><td> </td><td>              </td><td>2917</td><td><sup>***</sup></td><td> </td><td>              </td><td>1087</td><td><sup>***</sup></td><td> </td><td>              </td><td>-.75</td><td><sup>*</sup>  </td><td> </td><td>              </td><td>3.2</td><td>              </td><td> </td><td>              </td><td> </td><td>              </td><td> </td><td>              </td><td> </td><td>              </td><td> </td><td>              </td><td>.03</td><td>              </td></tr>\n",
       "<tr><td> </td><td> </td><td>              </td><td>[869]</td><td>              </td><td> </td><td>              </td><td>[287]</td><td>              </td><td> </td><td>              </td><td>[.41]</td><td>              </td><td> </td><td>              </td><td>[5.3]</td><td>              </td><td> </td><td>              </td><td> </td><td>              </td><td> </td><td>              </td><td> </td><td>              </td><td> </td><td>              </td><td>[.023]</td><td>              </td></tr>\n",
       "<tr><td>1.pe_po#1.alt2multi_brands_all</td><td> </td><td>              </td><td>-1576</td><td>              </td><td> </td><td>              </td><td>-951</td><td><sup>***</sup></td><td> </td><td>              </td><td>.45</td><td>              </td><td> </td><td>              </td><td>-.078</td><td>              </td><td> </td><td>              </td><td> </td><td>              </td><td> </td><td>              </td><td> </td><td>              </td><td> </td><td>              </td><td>.015</td><td>              </td></tr>\n",
       "<tr><td> </td><td> </td><td>              </td><td>[1012]</td><td>              </td><td> </td><td>              </td><td>[350]</td><td>              </td><td> </td><td>              </td><td>[.43]</td><td>              </td><td> </td><td>              </td><td>[5.9]</td><td>              </td><td> </td><td>              </td><td> </td><td>              </td><td> </td><td>              </td><td> </td><td>              </td><td> </td><td>              </td><td>[.034]</td><td>              </td></tr>\n",
       "<tr><td>1L2.pe_po</td><td> </td><td>              </td><td> </td><td>              </td><td> </td><td>              </td><td> </td><td>              </td><td> </td><td>              </td><td> </td><td>              </td><td> </td><td>              </td><td> </td><td>              </td><td>497</td><td>              </td><td>938</td><td>              </td><td>-6.1</td><td><sup>***</sup></td><td>-5.4</td><td><sup>***</sup></td><td> </td><td>              </td><td> </td><td>              </td></tr>\n",
       "<tr><td> </td><td> </td><td>              </td><td> </td><td>              </td><td> </td><td>              </td><td> </td><td>              </td><td> </td><td>              </td><td> </td><td>              </td><td> </td><td>              </td><td> </td><td>              </td><td>[603]</td><td>              </td><td>[680]</td><td>              </td><td>[.78]</td><td>              </td><td>[.74]</td><td>              </td><td> </td><td>              </td><td> </td><td>              </td></tr>\n",
       "<tr><td>1L2.alt2multi_brands_all</td><td> </td><td>              </td><td> </td><td>              </td><td> </td><td>              </td><td> </td><td>              </td><td> </td><td>              </td><td> </td><td>              </td><td> </td><td>              </td><td> </td><td>              </td><td> </td><td>              </td><td>-1937</td><td><sup>**</sup> </td><td> </td><td>              </td><td>.11</td><td>              </td><td> </td><td>              </td><td> </td><td>              </td></tr>\n",
       "<tr><td> </td><td> </td><td>              </td><td> </td><td>              </td><td> </td><td>              </td><td> </td><td>              </td><td> </td><td>              </td><td> </td><td>              </td><td> </td><td>              </td><td> </td><td>              </td><td> </td><td>              </td><td>[803]</td><td>              </td><td> </td><td>              </td><td>[3.1]</td><td>              </td><td> </td><td>              </td><td> </td><td>              </td></tr>\n",
       "<tr><td>1L2.pe_po#1L2.alt2multi_brands_all</td><td> </td><td>              </td><td> </td><td>              </td><td> </td><td>              </td><td> </td><td>              </td><td> </td><td>              </td><td> </td><td>              </td><td> </td><td>              </td><td> </td><td>              </td><td> </td><td>              </td><td>-173</td><td>              </td><td> </td><td>              </td><td>-1.8</td><td>              </td><td> </td><td>              </td><td> </td><td>              </td></tr>\n",
       "<tr><td> </td><td> </td><td>              </td><td> </td><td>              </td><td> </td><td>              </td><td> </td><td>              </td><td> </td><td>              </td><td> </td><td>              </td><td> </td><td>              </td><td> </td><td>              </td><td> </td><td>              </td><td>[1148]</td><td>              </td><td> </td><td>              </td><td>[3.3]</td><td>              </td><td> </td><td>              </td><td> </td><td>              </td></tr>\n",
       "<tr><td colspan=29><hr></td></tr>\n",
       "<tr><td><i>N</i></td><td>39103</td><td>              </td><td>39103</td><td>              </td><td>33085</td><td>              </td><td>33085</td><td>              </td><td>9968</td><td>              </td><td>9968</td><td>              </td><td>12381</td><td>              </td><td>12381</td><td>              </td><td>6121</td><td>              </td><td>5936</td><td>              </td><td>9199</td><td>              </td><td>8869</td><td>              </td><td>22015</td><td>              </td><td>22015</td><td>              </td></tr>\n",
       "<tr><td><i>R</i><sup>2</sup></td><td>.24</td><td>              </td><td>.25</td><td>              </td><td>.3</td><td>              </td><td>.3</td><td>              </td><td>.2</td><td>              </td><td>.2</td><td>              </td><td>.38</td><td>              </td><td>.38</td><td>              </td><td>.64</td><td>              </td><td>.64</td><td>              </td><td>.6</td><td>              </td><td>.61</td><td>              </td><td>.024</td><td>              </td><td>.032</td><td>              </td></tr>\n",
       "<tr><td>adj. <i>R</i><sup>2</sup></td><td>0.235</td><td>              </td><td>0.245</td><td>              </td><td>0.298</td><td>              </td><td>0.302</td><td>              </td><td>0.195</td><td>              </td><td>0.199</td><td>              </td><td>0.379</td><td>              </td><td>0.381</td><td>              </td><td>0.637</td><td>              </td><td>0.642</td><td>              </td><td>0.595</td><td>              </td><td>0.608</td><td>              </td><td>0.022</td><td>              </td><td>0.030</td><td>              </td></tr>\n",
       "<tr><td colspan=29><hr></td></tr>\n",
       "<tr><td colspan=29>\n",
       "Standard errors in brackets\n",
       "<br /><sup>*</sup> <i>p</i> < 0.10, <sup>**</sup> <i>p</i> < 0.05, <sup>***</sup> <i>p</i> < 0.01\n",
       "</td></tr>\n",
       "</table>\n",
       "\n"
      ],
      "text/plain": [
       "This front-end or document format cannot display HTML"
      ]
     },
     "metadata": {},
     "output_type": "display_data"
    }
   ],
   "source": [
    "%html\n",
    "esttab, html ///\n",
    "keep(1.pe_po 1.alt2multi_brands_all 1.pe_po#1.alt2multi_brands_all 1L2.pe_po 1L2.alt2multi_brands_all 1L2.pe_po#1L2.alt2multi_brands_all ) ///\n",
    "r2(%9.1g) se(%9.1g) b(%9.1g) nogaps stardetach ///\n",
    " star(* 0.10 ** 0.05 *** 0.01) varwidth(1) replace  ar2  br  nocon modelwidth(1)"
   ]
  },
  {
   "cell_type": "code",
   "execution_count": null,
   "metadata": {},
   "outputs": [],
   "source": []
  }
 ],
 "metadata": {
  "kernelspec": {
   "display_name": "Stata",
   "language": "stata",
   "name": "stata"
  },
  "language_info": {
   "codemirror_mode": "stata",
   "file_extension": ".do",
   "mimetype": "text/x-stata",
   "name": "stata",
   "version": "15.1"
  }
 },
 "nbformat": 4,
 "nbformat_minor": 4
}
