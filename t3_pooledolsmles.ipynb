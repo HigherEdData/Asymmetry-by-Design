{
 "cells": [
  {
   "cell_type": "markdown",
   "metadata": {},
   "source": [
    "## Replication for \"Asymmetry by Design\", August 7, 2021\n",
    "\n",
    "By Adam Goldstein and Charlie Eaton\n",
    "\n",
    "## Table 3: Pooled OLS and MLE Estimates for Predatory Practices"
   ]
  },
  {
   "cell_type": "markdown",
   "metadata": {},
   "source": [
    "Install STATA packages"
   ]
  },
  {
   "cell_type": "code",
   "execution_count": 1,
   "metadata": {},
   "outputs": [
    {
     "name": "stdout",
     "output_type": "stream",
     "text": [
      "checking estout consistency and verifying not already installed...\n",
      "installing into /Users/Charlie/Library/Application Support/Stata/ado/plus/...\n",
      "installation complete.\n"
     ]
    }
   ],
   "source": [
    "ssc install estout"
   ]
  },
  {
   "cell_type": "markdown",
   "metadata": {},
   "source": [
    "Download datasets"
   ]
  },
  {
   "cell_type": "code",
   "execution_count": 2,
   "metadata": {},
   "outputs": [],
   "source": [
    "copy \"https://github.com/HigherEdData/asymmetry/raw/master/data/d_unitidasymmetry.dta\" ///\n",
    "    data/d_unitidasymmetry.dta, replace\n",
    "\n",
    "copy \"https://github.com/HigherEdData/asymmetry/raw/master/data/d_opeidasymmetry.dta\" ///\n",
    "    data/d_opeidasymmetry.dta, replace"
   ]
  },
  {
   "cell_type": "markdown",
   "metadata": {},
   "source": [
    "Report number of total observations and observations that are multi-brand with data for all control variables"
   ]
  },
  {
   "cell_type": "code",
   "execution_count": 3,
   "metadata": {},
   "outputs": [
    {
     "name": "stdout",
     "output_type": "stream",
     "text": [
      "\n",
      "\n",
      "\n",
      "\n",
      "\n",
      "multi-brand |      Freq.     Percent        Cum.\n",
      "------------+-----------------------------------\n",
      "          0 |     12,375       73.20       73.20\n",
      "          1 |      4,530       26.80      100.00\n",
      "------------+-----------------------------------\n",
      "      Total |     16,905      100.00\n"
     ]
    }
   ],
   "source": [
    "quietly use data/d_unitidasymmetry, clear\n",
    "qui gen missing=.\n",
    "foreach var in tuitionall_c_w multi_brand system_under all_under online selective iclevel ///\n",
    "pell_grants_per_fte_c_w white_share_w black_share_w hisp_share_w dpcttype_health ///\n",
    "dpcttype_law dpcttype_culinarycosmetic dpcttype_arts dpcttype_tech dpcttype_biz ///\n",
    "grad_rate_150_p_w year state_n {\n",
    "   qui replace missing=1 if `var'==.\n",
    "}\n",
    "tab multi_brand if missing!=1 & year<2016"
   ]
  },
  {
   "cell_type": "markdown",
   "metadata": {},
   "source": [
    "**********\n",
    "Count 743 colleges operated under 49 multi-brand firms by the first year of operation by the multi-brand firm"
   ]
  },
  {
   "cell_type": "code",
   "execution_count": 4,
   "metadata": {},
   "outputs": [
    {
     "name": "stdout",
     "output_type": "stream",
     "text": [
      "\n",
      "(73,672 missing values generated)\n",
      "\n",
      "\n",
      "       year |      Freq.     Percent        Cum.\n",
      "------------+-----------------------------------\n",
      "       1995 |         29        3.90        3.90\n",
      "       1996 |          1        0.13        4.04\n",
      "       1997 |         12        1.62        5.65\n",
      "       1998 |         58        7.81       13.46\n",
      "       1999 |         23        3.10       16.55\n",
      "       2000 |         25        3.36       19.92\n",
      "       2001 |         34        4.58       24.50\n",
      "       2002 |         40        5.38       29.88\n",
      "       2003 |         40        5.38       35.26\n",
      "       2004 |         63        8.48       43.74\n",
      "       2005 |         30        4.04       47.78\n",
      "       2006 |         40        5.38       53.16\n",
      "       2007 |         61        8.21       61.37\n",
      "       2008 |         56        7.54       68.91\n",
      "       2009 |         25        3.36       72.27\n",
      "       2010 |         75       10.09       82.37\n",
      "       2011 |         72        9.69       92.06\n",
      "       2012 |         42        5.65       97.71\n",
      "       2013 |         17        2.29      100.00\n",
      "------------+-----------------------------------\n",
      "      Total |        743      100.00\n"
     ]
    }
   ],
   "source": [
    "bysort unitid: egen minmulti=min(year) if missing!=1 & multi_brand==1\n",
    "tab year if year==minmulti"
   ]
  },
  {
   "cell_type": "markdown",
   "metadata": {},
   "source": [
    "**********\n",
    "Count 49 multi-brand firms by first year with multi-brand structure for firms with data for all controls"
   ]
  },
  {
   "cell_type": "code",
   "execution_count": 5,
   "metadata": {},
   "outputs": [
    {
     "name": "stdout",
     "output_type": "stream",
     "text": [
      "\n",
      "(61,297 observations deleted)\n",
      "\n",
      "\n",
      "(7,181 missing values generated)\n",
      "\n",
      "\n",
      "       year |      Freq.     Percent        Cum.\n",
      "------------+-----------------------------------\n",
      "       1995 |          9       18.37       18.37\n",
      "       1997 |          2        4.08       22.45\n",
      "       1998 |          4        8.16       30.61\n",
      "       2000 |          5       10.20       40.82\n",
      "       2001 |          5       10.20       51.02\n",
      "       2002 |          3        6.12       57.14\n",
      "       2003 |          4        8.16       65.31\n",
      "       2004 |          3        6.12       71.43\n",
      "       2006 |          3        6.12       77.55\n",
      "       2008 |          3        6.12       83.67\n",
      "       2010 |          3        6.12       89.80\n",
      "       2011 |          2        4.08       93.88\n",
      "       2012 |          2        4.08       97.96\n",
      "       2013 |          1        2.04      100.00\n",
      "------------+-----------------------------------\n",
      "      Total |         49      100.00\n"
     ]
    }
   ],
   "source": [
    "keep if missing!=1\n",
    "collapse (first) multi_brand systemnm, by(systemid year)\n",
    "bysort systemid: egen minmulti=min(year) if multi_brand==1\n",
    "tab year if year==minmulti"
   ]
  },
  {
   "cell_type": "code",
   "execution_count": 6,
   "metadata": {},
   "outputs": [],
   "source": [
    "set more off\n",
    "\n",
    "est clear \n",
    "\n",
    "quietly use data/d_unitidasymmetry, clear\n",
    "\n",
    "quietly collapse (rawsum) sftesale sftetotl (mean) all_under system_under grad_rate_150_p_w ///\n",
    "loan_amount_borrower_c_w tuitionall_c_w selective white_share_w black_share_w hisp_share_w ///\n",
    "pell_grants_per_fte_c_w ft_faculty_per_100fte_w dpcttype_health dpcttype_law ///\n",
    "dpcttype_culinarycosmetic dpcttype_arts dpcttype_tech dpcttype_biz online ///\n",
    "(first) state_n (min) iclevel (max) law_enf_frst_this_yr multi_brand, by(systemid year)\n",
    "\n",
    "quietly gen fracsales= sftesale /sftetotl * 100\n",
    "\n",
    "quietly label var fracsales \"% employees sales\"\n",
    "\n",
    "quietly xtset systemid year\n",
    "\n",
    "quietly eststo: reg fracsales multi_brand system_under online selective ib3.iclevel ///\n",
    "pell_grants_per_fte_c_w white_share_w black_share_w hisp_share_w dpcttype* i.year i.state_n, cluster(systemid)\n",
    "qui estadd scalar schools = e(N_clust)"
   ]
  },
  {
   "cell_type": "code",
   "execution_count": 7,
   "metadata": {
    "tags": []
   },
   "outputs": [],
   "source": [
    "quietly use data/d_unitidasymmetry, clear\n",
    "quietly xtset unitid year\n",
    "\n",
    "qui gen missing=.\n",
    "foreach var in tuitionall_c_w multi_brand system_under all_under online selective iclevel ///\n",
    "pell_grants_per_fte_c_w white_share_w black_share_w hisp_share_w dpcttype_health ///\n",
    "dpcttype_law dpcttype_culinarycosmetic dpcttype_arts dpcttype_tech dpcttype_biz ///\n",
    "year state_n grad_rate_150_p_w {\n",
    " quietly replace missing=1 if `var'==.\n",
    "}\n",
    "\n",
    "foreach var in tuitionall_c_w loan_amount_borrower_c_w {\n",
    "qui egen count = group(unitid) if missing!=1 & `var'!=.\n",
    "qui sum  count\n",
    "qui local l`var'=r(max)\n",
    "qui drop count\n",
    "qui eststo: reg `var' multi_brand system_under all_under online selective ib3.iclevel ///\n",
    "pell_grants_per_fte_c_w white_share_w black_share_w hisp_share_w dpcttype* grad_rate_150_p_w i.year i.state_n, cluster(systemid)\n",
    "qui estadd scalar schools = `l`var''\n",
    "}\n",
    "\n",
    "quietly use data/d_unitidasymmetry, clear\n",
    "\n",
    "quietly xtset unitid year\n",
    "quietly gen l2multi_brand=l2.multi_brand\n",
    "quietly replace multi_brand=l2multi_brand\n",
    "\n",
    "qui  gen missing=.\n",
    "foreach var in tuitionall_c_w multi_brand system_under all_under online selective iclevel ///\n",
    "pell_grants_per_fte_c_w white_share_w black_share_w hisp_share_w dpcttype_health ///\n",
    "dpcttype_law dpcttype_culinarycosmetic dpcttype_arts dpcttype_tech dpcttype_biz year state_n {\n",
    " quietly replace missing=1 if `var'==.\n",
    "}\n",
    "\n",
    "qui egen count = group(unitid) if missing!=1 & ft_faculty_per_100fte_w!=.\n",
    "qui  sum  count\n",
    "qui   local lfac=r(max)\n",
    "\n",
    "quietly eststo: reg ft_faculty_per_100fte_w multi_brand system_under all_under online selective ib3.iclevel ///\n",
    "pell_grants_per_fte_c_w white_share_w black_share_w hisp_share_w dpcttype* tuitionall_c_w ib1.year i.state_n, cluster(systemid)\n",
    "qui estadd scalar schools =`lfac'\n",
    "\n",
    "qui gen fracsales=.\n",
    "quietly label var fracsales \"% employees sales\"\n",
    "\n",
    "quietly esttab using tables/t3a_asymmetryols20200912.rtf, title(Table 3A: OLS estimates for predatory practices) ///\n",
    " keep(multi_brand system_under all_under online selective 1.iclevel 2.iclevel ///\n",
    "pell_grants_per_fte_c_w white_share_w black_share_w hisp_share_w dpcttype_health dpcttype_law ///\n",
    "dpcttype_culinarycosmetic dpcttype_arts dpcttype_tech dpcttype_biz grad_rate_150_p_w tuitionall_c_w _cons) ///\n",
    "order(multi_brand multi_brand system_under all_under) ///\n",
    "stats(r2 schools N_clust N, fmt(2 %9.0fc %9.0fc) label(\"r2\" \"schools/firms\" N)) ///\n",
    "se(%9.3fc) b(%9.3fc) nogaps  ///\n",
    " star(* 0.05 ** 0.01 *** 0.001) label varwidth(10) replace"
   ]
  },
  {
   "cell_type": "code",
   "execution_count": 8,
   "metadata": {},
   "outputs": [
    {
     "data": {
      "text/html": [
       "\n",
       "<table border=\"0\" width=\"*\">\n",
       "<tr><td colspan=5><hr></td></tr>\n",
       "<tr><td>          </td><td>         (1)              </td><td>         (2)              </td><td>         (3)              </td><td>         (4)              </td></tr>\n",
       "<tr><td>          </td><td>% employees sales              </td><td>tuition (1,000s)              </td><td>loans (1,000s)              </td><td>   # faculty              </td></tr>\n",
       "<tr><td colspan=5><hr></td></tr>\n",
       "<tr><td>multi-brand</td><td>       4.413<sup>*</sup>  </td><td>       2.844<sup>***</sup></td><td>       0.575<sup>*</sup>  </td><td>      -0.822<sup>***</sup></td></tr>\n",
       "<tr><td>          </td><td>     (1.739)              </td><td>     (0.655)              </td><td>     (0.226)              </td><td>     (0.144)              </td></tr>\n",
       "<tr><td>firm-level enrollment (1,000s)</td><td>      -0.033              </td><td>      -0.010<sup>*</sup>  </td><td>       0.007<sup>**</sup> </td><td>      -0.003              </td></tr>\n",
       "<tr><td>          </td><td>     (0.027)              </td><td>     (0.004)              </td><td>     (0.003)              </td><td>     (0.002)              </td></tr>\n",
       "<tr><td>campus enrollment (1,000s)</td><td>                          </td><td>      -0.018              </td><td>      -0.010              </td><td>      -0.014<sup>*</sup>  </td></tr>\n",
       "<tr><td>          </td><td>                          </td><td>     (0.027)              </td><td>     (0.012)              </td><td>     (0.006)              </td></tr>\n",
       "<tr><td>online    </td><td>       0.071              </td><td>       1.304              </td><td>      -0.012              </td><td>      -0.417              </td></tr>\n",
       "<tr><td>          </td><td>     (1.318)              </td><td>     (0.710)              </td><td>     (0.273)              </td><td>     (0.304)              </td></tr>\n",
       "<tr><td>selective admissions</td><td>      -0.654              </td><td>       0.289              </td><td>       0.341              </td><td>       0.180              </td></tr>\n",
       "<tr><td>          </td><td>     (1.003)              </td><td>     (0.404)              </td><td>     (0.238)              </td><td>     (0.170)              </td></tr>\n",
       "<tr><td>BA offered</td><td>       1.395              </td><td>       0.581              </td><td>       0.601              </td><td>      -0.583<sup>***</sup></td></tr>\n",
       "<tr><td>          </td><td>     (0.732)              </td><td>     (0.663)              </td><td>     (0.315)              </td><td>     (0.169)              </td></tr>\n",
       "<tr><td>AA offered</td><td>       0.647              </td><td>       0.550              </td><td>      -0.022              </td><td>       0.000              </td></tr>\n",
       "<tr><td>          </td><td>     (0.389)              </td><td>     (0.546)              </td><td>     (0.279)              </td><td>         (.)              </td></tr>\n",
       "<tr><td>Pell $ per student (1,000s)</td><td>       0.012              </td><td>      -0.020              </td><td>       0.001              </td><td>       0.029              </td></tr>\n",
       "<tr><td>          </td><td>     (0.020)              </td><td>     (0.017)              </td><td>     (0.008)              </td><td>     (0.016)              </td></tr>\n",
       "<tr><td>% White   </td><td>      -0.046              </td><td>      -1.828<sup>***</sup></td><td>      -0.208              </td><td>       0.694<sup>**</sup> </td></tr>\n",
       "<tr><td>          </td><td>     (0.689)              </td><td>     (0.489)              </td><td>     (0.289)              </td><td>     (0.238)              </td></tr>\n",
       "<tr><td>% Black   </td><td>       0.746              </td><td>      -1.170              </td><td>      -0.790<sup>*</sup>  </td><td>      -0.883<sup>**</sup> </td></tr>\n",
       "<tr><td>          </td><td>     (0.764)              </td><td>     (0.915)              </td><td>     (0.377)              </td><td>     (0.321)              </td></tr>\n",
       "<tr><td>% Hispanic</td><td>      -0.138              </td><td>      -1.983<sup>*</sup>  </td><td>      -1.690<sup>***</sup></td><td>      -0.666              </td></tr>\n",
       "<tr><td>          </td><td>     (0.745)              </td><td>     (1.009)              </td><td>     (0.366)              </td><td>     (0.367)              </td></tr>\n",
       "<tr><td>% degr. health</td><td>      -0.854              </td><td>      -0.938              </td><td>       0.088              </td><td>      -1.892              </td></tr>\n",
       "<tr><td>          </td><td>     (1.209)              </td><td>     (1.279)              </td><td>     (0.427)              </td><td>     (0.965)              </td></tr>\n",
       "<tr><td>% degr. law</td><td>      -2.528              </td><td>      -5.331<sup>***</sup></td><td>      -0.343              </td><td>      -3.484<sup>***</sup></td></tr>\n",
       "<tr><td>          </td><td>     (1.610)              </td><td>     (1.402)              </td><td>     (0.487)              </td><td>     (1.030)              </td></tr>\n",
       "<tr><td>% degr. personal services</td><td>      -3.589<sup>**</sup> </td><td>      -0.407              </td><td>      -0.267              </td><td>      -1.514              </td></tr>\n",
       "<tr><td>          </td><td>     (1.150)              </td><td>     (1.630)              </td><td>     (0.498)              </td><td>     (1.046)              </td></tr>\n",
       "<tr><td>% degr. art</td><td>      -0.897              </td><td>       3.085<sup>*</sup>  </td><td>       1.551<sup>***</sup></td><td>      -1.681              </td></tr>\n",
       "<tr><td>          </td><td>     (1.563)              </td><td>     (1.374)              </td><td>     (0.464)              </td><td>     (0.984)              </td></tr>\n",
       "<tr><td>% degr. tech</td><td>       0.999              </td><td>       3.483              </td><td>       2.406<sup>**</sup> </td><td>      -2.464<sup>*</sup>  </td></tr>\n",
       "<tr><td>          </td><td>     (1.454)              </td><td>     (1.793)              </td><td>     (0.760)              </td><td>     (1.079)              </td></tr>\n",
       "<tr><td>% degr. biz</td><td>       0.694              </td><td>      -2.379              </td><td>      -0.992<sup>*</sup>  </td><td>      -3.130<sup>***</sup></td></tr>\n",
       "<tr><td>          </td><td>     (1.832)              </td><td>     (1.344)              </td><td>     (0.493)              </td><td>     (0.898)              </td></tr>\n",
       "<tr><td>undergrad grad rate</td><td>                          </td><td>       0.010              </td><td>      -0.001              </td><td>                          </td></tr>\n",
       "<tr><td>          </td><td>                          </td><td>     (0.006)              </td><td>     (0.003)              </td><td>                          </td></tr>\n",
       "<tr><td>tuition (1,000s)</td><td>                          </td><td>                          </td><td>                          </td><td>       0.037<sup>***</sup></td></tr>\n",
       "<tr><td>          </td><td>                          </td><td>                          </td><td>                          </td><td>     (0.009)              </td></tr>\n",
       "<tr><td>Constant  </td><td>       5.725<sup>*</sup>  </td><td>       7.768<sup>***</sup></td><td>       4.896<sup>***</sup></td><td>       5.640<sup>***</sup></td></tr>\n",
       "<tr><td>          </td><td>     (2.542)              </td><td>     (1.748)              </td><td>     (0.617)              </td><td>     (1.194)              </td></tr>\n",
       "<tr><td colspan=5><hr></td></tr>\n",
       "<tr><td>r2        </td><td>        0.12              </td><td>        0.30              </td><td>        0.30              </td><td>        0.20              </td></tr>\n",
       "<tr><td>schools/firms</td><td>       1,637              </td><td>       1,963              </td><td>       1,904              </td><td>       1,541              </td></tr>\n",
       "<tr><td>N         </td><td>       4,532              </td><td>      16,905              </td><td>      14,798              </td><td>       9,604              </td></tr>\n",
       "<tr><td colspan=5><hr></td></tr>\n",
       "<tr><td colspan=5>\n",
       "Standard errors in parentheses\n",
       "<br /><sup>*</sup> <i>p</i> < 0.05, <sup>**</sup> <i>p</i> < 0.01, <sup>***</sup> <i>p</i> < 0.001\n",
       "</td></tr>\n",
       "</table>\n",
       "\n"
      ],
      "text/plain": [
       "This front-end or document format cannot display HTML"
      ]
     },
     "metadata": {},
     "output_type": "display_data"
    }
   ],
   "source": [
    "%html\n",
    "esttab, ///\n",
    " keep(multi_brand system_under all_under online selective 1.iclevel 2.iclevel ///\n",
    "pell_grants_per_fte_c_w white_share_w black_share_w hisp_share_w dpcttype_health dpcttype_law ///\n",
    "dpcttype_culinarycosmetic dpcttype_arts dpcttype_tech dpcttype_biz grad_rate_150_p_w tuitionall_c_w _cons) ///\n",
    "order(multi_brand system_under all_under) se(%9.3fc) b(%9.3fc) nogaps ///\n",
    "stats(r2 schools N, fmt(2 %9.0fc %9.0fc) label(\"r2\" \"schools/firms\" N)) ///\n",
    "star(* 0.05 ** 0.01 *** 0.001) html label varwidth(10)"
   ]
  },
  {
   "cell_type": "code",
   "execution_count": 9,
   "metadata": {},
   "outputs": [],
   "source": [
    "quietly use data/d_unitidasymmetry, clear\n",
    "quietly est clear\n",
    "quietly xtset unitid year\n",
    "  set more off  \n",
    "\n",
    "qui gen missing=.\n",
    "foreach var in tuitionall_c_w multi_brand system_under all_under online selective iclevel ///\n",
    "pell_grants_per_fte_c_w white_share_w black_share_w hisp_share_w dpcttype_health ///\n",
    "dpcttype_law dpcttype_culinarycosmetic dpcttype_arts dpcttype_tech dpcttype_biz ///\n",
    "year state_n {\n",
    " quietly replace missing=1 if `var'==.\n",
    "}\n",
    "    \n",
    "foreach var in grad_rate_150_p4yr_w grad_rate_150_p2yr_w  {\n",
    "\n",
    "qui egen count = group(unitid) if missing!=1 & `var'!=.\n",
    "qui sum  count\n",
    "qui local l`var'=r(max)\n",
    "qui drop count\n",
    "\n",
    "qui eststo: reg `var' multi_brand system_under all_under online selective ib3.iclevel ///\n",
    "pell_grants_per_fte_c_w white_share_w black_share_w hisp_share_w dpcttype* tuitionall_c_w i.year ///\n",
    "    i.state_n, cluster(systemid)\n",
    "qui estadd scalar schools = `l`var''\n",
    "}"
   ]
  },
  {
   "cell_type": "code",
   "execution_count": 10,
   "metadata": {},
   "outputs": [],
   "source": [
    "quietly {\n",
    "    quietly use data/d_opeidasymmetry, clear\n",
    "keep if rankopeid==1\n",
    "xtset opeid year\n",
    "\n",
    "quietly gen l2multi_brand=l2.multi_brand\n",
    "quietly replace multi_brand=l2multi_brand\n",
    "\n",
    "qui  gen missing=.\n",
    "foreach var in tuitionall_c_w multi_brand system_under all_under online selective iclevel ///\n",
    "white_share_w black_share_w hisp_share_w dpcttype_health ///\n",
    "dpcttype_law dpcttype_culinarycosmetic dpcttype_arts dpcttype_tech dpcttype_biz year ///\n",
    "state_n {\n",
    " quietly replace missing=1 if `var'==.\n",
    "}\n",
    "\n",
    "qui egen count = group(opeid) if missing!=1 & mn_earn_wne_p6_c_w!=. & earn_pct_lo!=.\n",
    "qui sum  count\n",
    "qui local learn=r(max)\n",
    "qui drop count\n",
    " \n",
    "quietly eststo: reg mn_earn_wne_p6_c_w multi_brand   ///\n",
    "all_under system_under online selective ib3.iclevel earn_pct_lo ///\n",
    "white_share_w black_share_w hisp_share_w dpcttype* tuitionall_c_w i.year i.state_n ///\n",
    ", cluster(systemid)\n",
    "qui estadd scalar schools = `learn'\n",
    "    \n",
    "quietly replace earn_pct_lo=rpy_3yr_pct_lo\n",
    "\n",
    "qui egen count = group(opeid) if missing!=1 & rpy_3yr_rt_supp_w!=. & earn_pct_lo!=.\n",
    "qui sum  count\n",
    "qui local lrepay=r(max)\n",
    "qui drop count\n",
    "\n",
    "qui eststo: reg rpy_3yr_rt_supp_w multi_brand ///\n",
    "all_under system_under online selective ib3.iclevel earn_pct_lo ///\n",
    "white_share_w black_share_w hisp_share_w dpcttype* tuitionall_c_w i.year i.state_n ///\n",
    ", cluster(systemid)\n",
    "qui estadd scalar schools = `lrepay'\n",
    "    \n",
    "}"
   ]
  },
  {
   "cell_type": "code",
   "execution_count": 11,
   "metadata": {},
   "outputs": [],
   "source": [
    "quietly use data/d_opeidasymmetry, clear\n",
    "\n",
    "qui replace pell_grants_per_fte_c_w=l1.pell_grants_per_fte_c_w if year==2016\n",
    "\n",
    "quietly gen l2multi_brand=l2.multi_brand\n",
    "quietly replace multi_brand=l2multi_brand\n",
    "\n",
    "qui eststo: nbreg claimcount multi_brand ///\n",
    "all_under system_under online selective ib3.iclevel ///\n",
    "white_share_w black_share_w hisp_share_w dpcttype* ///\n",
    "pell_grants_per_fte_c_w i.state_n, vce(cluster systemid) noomitted\n",
    "qui estadd scalar schools = e(N)"
   ]
  },
  {
   "cell_type": "code",
   "execution_count": 12,
   "metadata": {},
   "outputs": [],
   "source": [
    "label var  multi_brand \"multi-brand\"\n",
    "label var system_under \"firm enrollment (1,000s)\"\n",
    "label var all_under \"campus enrollment (1,000s)\"\n",
    "label var online \"online\"\n",
    "label var selective \"selective admissions\"\n",
    "label define iclevel 1 \"BA offered\" 2 \"AA offered\" \n",
    "    label values iclevel iclevel\n",
    "label var black_share_w \"% Black\"\n",
    "label var hisp_share_w \"% Hispanic\"\n",
    "label var white_share_w \"% White\"\n",
    "label var dpcttype_arts \"% degr. art\"\n",
    "label var dpcttype_biz \"% degr. biz\"\n",
    "label var dpcttype_culinarycosmetic \"% degr. personal services\"\n",
    "label var dpcttype_health \"% degr. health\"\n",
    "label var dpcttype_law \"% degr. law (undergrad)\"\n",
    "label var dpcttype_tech \"% degr. tech\"\n",
    "label var tuitionall_c_w \"tuition (1,000s)\"\n",
    "label var grad_rate_150_p_w \"undergrad grad rate\"\n",
    "label var earn_pct_lo \"% low-income\""
   ]
  },
  {
   "cell_type": "code",
   "execution_count": 13,
   "metadata": {},
   "outputs": [
    {
     "data": {
      "text/html": [
       "\n",
       "<table border=\"0\" width=\"*\">\n",
       "<tr><td colspan=6><hr></td></tr>\n",
       "<tr><td>          </td><td>         (1)              </td><td>         (2)              </td><td>         (3)              </td><td>         (4)              </td><td>         (5)              </td></tr>\n",
       "<tr><td>          </td><td>BA grad rate              </td><td>other grad rate              </td><td>earning (1,000s)              </td><td>     % repay              </td><td>fraud claims              </td></tr>\n",
       "<tr><td colspan=6><hr></td></tr>\n",
       "<tr><td>multi-brand</td><td>      -5.743<sup>**</sup> </td><td>      -1.099              </td><td>      -1.834<sup>***</sup></td><td>      -3.771<sup>**</sup> </td><td>       1.320<sup>**</sup> </td></tr>\n",
       "<tr><td>          </td><td>     (2.067)              </td><td>     (2.144)              </td><td>     (0.428)              </td><td>     (1.226)              </td><td>     (0.465)              </td></tr>\n",
       "<tr><td>firm enrollment (1,000s)</td><td>      -0.077<sup>**</sup> </td><td>      -0.108<sup>**</sup> </td><td>      -0.013              </td><td>      -0.043<sup>*</sup>  </td><td>       0.019<sup>*</sup>  </td></tr>\n",
       "<tr><td>          </td><td>     (0.027)              </td><td>     (0.037)              </td><td>     (0.010)              </td><td>     (0.017)              </td><td>     (0.008)              </td></tr>\n",
       "<tr><td>campus enrollment (1,000s)</td><td>      -0.233<sup>**</sup> </td><td>      -0.302<sup>**</sup> </td><td>       0.147<sup>***</sup></td><td>      -0.018              </td><td>       0.007              </td></tr>\n",
       "<tr><td>          </td><td>     (0.087)              </td><td>     (0.110)              </td><td>     (0.015)              </td><td>     (0.025)              </td><td>     (0.007)              </td></tr>\n",
       "<tr><td>online    </td><td>      -3.569              </td><td>       3.642<sup>*</sup>  </td><td>       2.225<sup>*</sup>  </td><td>       4.294<sup>**</sup> </td><td>       1.431<sup>*</sup>  </td></tr>\n",
       "<tr><td>          </td><td>     (3.371)              </td><td>     (1.842)              </td><td>     (1.081)              </td><td>     (1.379)              </td><td>     (0.680)              </td></tr>\n",
       "<tr><td>selective admissions</td><td>       3.494              </td><td>       0.527              </td><td>      -0.112              </td><td>       5.063<sup>***</sup></td><td>      -0.661              </td></tr>\n",
       "<tr><td>          </td><td>     (3.065)              </td><td>     (1.230)              </td><td>     (0.401)              </td><td>     (1.278)              </td><td>     (0.430)              </td></tr>\n",
       "<tr><td>BA offered</td><td>     -10.861<sup>*</sup>  </td><td>     -16.027<sup>***</sup></td><td>       4.062<sup>***</sup></td><td>      -4.103<sup>***</sup></td><td>      -0.783<sup>*</sup>  </td></tr>\n",
       "<tr><td>          </td><td>     (4.858)              </td><td>     (1.502)              </td><td>     (0.679)              </td><td>     (1.065)              </td><td>     (0.350)              </td></tr>\n",
       "<tr><td>AA offered</td><td>       0.000              </td><td>      -4.268<sup>***</sup></td><td>       1.024<sup>*</sup>  </td><td>      -2.567<sup>***</sup></td><td>       0.101              </td></tr>\n",
       "<tr><td>          </td><td>         (.)              </td><td>     (1.237)              </td><td>     (0.405)              </td><td>     (0.676)              </td><td>     (0.255)              </td></tr>\n",
       "<tr><td>Pell $ per student</td><td>       0.448<sup>**</sup> </td><td>      -0.052              </td><td>                          </td><td>                          </td><td>      -0.031<sup>***</sup></td></tr>\n",
       "<tr><td>          </td><td>     (0.146)              </td><td>     (0.039)              </td><td>                          </td><td>                          </td><td>     (0.008)              </td></tr>\n",
       "<tr><td>% White   </td><td>       5.974              </td><td>       3.921<sup>*</sup>  </td><td>      -4.415<sup>***</sup></td><td>       2.974              </td><td>      -2.568<sup>**</sup> </td></tr>\n",
       "<tr><td>          </td><td>     (3.254)              </td><td>     (1.928)              </td><td>     (1.064)              </td><td>     (1.672)              </td><td>     (0.976)              </td></tr>\n",
       "<tr><td>% Black   </td><td>      -4.138              </td><td>     -11.680<sup>***</sup></td><td>      -2.301              </td><td>     -27.015<sup>***</sup></td><td>      -1.579              </td></tr>\n",
       "<tr><td>          </td><td>     (6.272)              </td><td>     (2.351)              </td><td>     (1.266)              </td><td>     (2.030)              </td><td>     (1.029)              </td></tr>\n",
       "<tr><td>% Hispanic</td><td>      -8.310              </td><td>       7.605<sup>**</sup> </td><td>      -4.173<sup>**</sup> </td><td>      -0.958              </td><td>      -1.784<sup>*</sup>  </td></tr>\n",
       "<tr><td>          </td><td>     (5.912)              </td><td>     (2.348)              </td><td>     (1.274)              </td><td>     (2.244)              </td><td>     (0.713)              </td></tr>\n",
       "<tr><td>% degr. health</td><td>      -1.186              </td><td>      -6.800<sup>*</sup>  </td><td>      -8.614<sup>***</sup></td><td>      -1.945              </td><td>       0.415              </td></tr>\n",
       "<tr><td>          </td><td>     (6.700)              </td><td>     (3.032)              </td><td>     (1.964)              </td><td>     (1.652)              </td><td>     (0.775)              </td></tr>\n",
       "<tr><td>% degr. law (undergrad)</td><td>      10.656              </td><td>     -34.976<sup>***</sup></td><td>      -7.937<sup>***</sup></td><td>      -4.744<sup>*</sup>  </td><td>       1.579              </td></tr>\n",
       "<tr><td>          </td><td>     (9.852)              </td><td>     (4.712)              </td><td>     (2.194)              </td><td>     (2.258)              </td><td>     (1.351)              </td></tr>\n",
       "<tr><td>% degr. personal services</td><td>       2.758              </td><td>      -2.321              </td><td>     -15.370<sup>***</sup></td><td>       0.275              </td><td>      -1.082              </td></tr>\n",
       "<tr><td>          </td><td>    (11.032)              </td><td>     (3.166)              </td><td>     (1.951)              </td><td>     (1.626)              </td><td>     (0.734)              </td></tr>\n",
       "<tr><td>% degr. art</td><td>      -3.287              </td><td>     -11.729<sup>**</sup> </td><td>     -12.442<sup>***</sup></td><td>       2.734              </td><td>       0.351              </td></tr>\n",
       "<tr><td>          </td><td>     (5.862)              </td><td>     (3.578)              </td><td>     (2.165)              </td><td>     (1.999)              </td><td>     (0.864)              </td></tr>\n",
       "<tr><td>% degr. tech</td><td>      -8.755              </td><td>     -14.486<sup>**</sup> </td><td>      -1.075              </td><td>      -1.056              </td><td>      -0.089              </td></tr>\n",
       "<tr><td>          </td><td>     (5.981)              </td><td>     (4.749)              </td><td>     (2.032)              </td><td>     (1.996)              </td><td>     (0.685)              </td></tr>\n",
       "<tr><td>% degr. biz</td><td>     -22.111<sup>**</sup> </td><td>     -22.600<sup>***</sup></td><td>     -10.581<sup>***</sup></td><td>      -5.403<sup>*</sup>  </td><td>       0.424              </td></tr>\n",
       "<tr><td>          </td><td>     (7.635)              </td><td>     (3.787)              </td><td>     (2.056)              </td><td>     (2.187)              </td><td>     (0.876)              </td></tr>\n",
       "<tr><td>tuition (1,000s)</td><td>       0.228              </td><td>       0.060              </td><td>       0.161<sup>***</sup></td><td>      -0.033              </td><td>                          </td></tr>\n",
       "<tr><td>          </td><td>     (0.129)              </td><td>     (0.058)              </td><td>     (0.030)              </td><td>     (0.046)              </td><td>                          </td></tr>\n",
       "<tr><td>% low-income</td><td>                          </td><td>                          </td><td>     -26.918<sup>***</sup></td><td>      -0.304<sup>***</sup></td><td>                          </td></tr>\n",
       "<tr><td>          </td><td>                          </td><td>                          </td><td>     (1.881)              </td><td>     (0.016)              </td><td>                          </td></tr>\n",
       "<tr><td>Constant  </td><td>      47.736<sup>***</sup></td><td>      69.146<sup>***</sup></td><td>      70.919<sup>***</sup></td><td>      80.331<sup>***</sup></td><td>       1.793<sup>*</sup>  </td></tr>\n",
       "<tr><td>          </td><td>     (9.864)              </td><td>     (6.586)              </td><td>     (2.943)              </td><td>     (3.276)              </td><td>     (0.867)              </td></tr>\n",
       "<tr><td colspan=6><hr></td></tr>\n",
       "<tr><td>r2 / pseudo r2</td><td>        0.29              </td><td>        0.33              </td><td>        0.71              </td><td>        0.63              </td><td>                          </td></tr>\n",
       "<tr><td>pseudo r2 </td><td>                          </td><td>                          </td><td>                          </td><td>                          </td><td>        0.13              </td></tr>\n",
       "<tr><td>schools/firms</td><td>         570              </td><td>       1,918              </td><td>       1,417              </td><td>       1,809              </td><td>       1,036              </td></tr>\n",
       "<tr><td>N         </td><td>       3,536              </td><td>      17,356              </td><td>       5,919              </td><td>       9,315              </td><td>       1,036              </td></tr>\n",
       "<tr><td colspan=6><hr></td></tr>\n",
       "<tr><td colspan=6>\n",
       "Standard errors in parentheses\n",
       "<br /><sup>*</sup> <i>p</i> < 0.05, <sup>**</sup> <i>p</i> < 0.01, <sup>***</sup> <i>p</i> < 0.001\n",
       "</td></tr>\n",
       "</table>\n",
       "\n"
      ],
      "text/plain": [
       "This front-end or document format cannot display HTML"
      ]
     },
     "metadata": {},
     "output_type": "display_data"
    }
   ],
   "source": [
    "%html\n",
    "esttab, ///\n",
    " keep(multi_brand system_under all_under online selective 1.iclevel 2.iclevel ///\n",
    "pell_grants_per_fte_c_w white_share_w black_share_w hisp_share_w dpcttype_health dpcttype_law ///\n",
    "dpcttype_culinarycosmetic dpcttype_arts dpcttype_tech dpcttype_biz earn_pct_lo tuitionall_c_w _cons) ///\n",
    "order(multi_brand system_under all_under) ///\n",
    "mtitle(\"BA grad rate\" \"other grad rate\" \"earning (1,000s)\" \"% repay\" \"fraud claims\" \"legal action\") ///\n",
    "eqlabels(none) collabels(none) ///\n",
    "stats(r2 r2_p schools N, fmt(2 2 %9.0fc %9.0fc) label(\"r2 / pseudo r2\" \"pseudo r2\" \"schools/firms\" N)) ///\n",
    "se(%9.3fc) b(%9.3fc) nogaps ///\n",
    " star(* 0.05 ** 0.01 *** 0.001) html label varwidth(10)"
   ]
  },
  {
   "cell_type": "code",
   "execution_count": 14,
   "metadata": {},
   "outputs": [
    {
     "name": "stdout",
     "output_type": "stream",
     "text": [
      "(output written to tables/t3b_asymmetryols20200912.rtf)\n"
     ]
    }
   ],
   "source": [
    "esttab using tables/t3b_asymmetryols20200912.rtf, replace ///\n",
    " keep(multi_brand system_under all_under online selective 1.iclevel 2.iclevel ///\n",
    "pell_grants_per_fte_c_w white_share_w black_share_w hisp_share_w dpcttype_health dpcttype_law ///\n",
    "dpcttype_culinarycosmetic dpcttype_arts dpcttype_tech dpcttype_biz earn_pct_lo tuitionall_c_w _cons) ///\n",
    "order(multi_brand system_under all_under) ///\n",
    "mtitle(\"BA grad rate\" \"other grad rate\" \"earning (1,000s)\" \"% repay\" \"fraud claims\" \"legal action\") ///\n",
    "eqlabels(none) collabels(none) ///\n",
    "stats(r2 r2_p schools N, fmt(2 2 %9.0fc %9.0fc) label(\"r2\" \"pseudo r2\" \"schools/firms\" N)) ///\n",
    "se(%9.3fc) b(%9.3fc) nogaps ///\n",
    " star(* 0.05 ** 0.01 *** 0.001) label varwidth(10)"
   ]
  },
  {
   "cell_type": "code",
   "execution_count": 15,
   "metadata": {},
   "outputs": [],
   "source": [
    "quietly {\n",
    "    est clear\n",
    "    quietly use data/d_unitidasymmetry, clear  \n",
    "quietly collapse (rawsum) sftesale sftetotl law_enf_frst_this_yr (mean) grad_rate_150_p_w ///\n",
    "loan_amount_borrower_c_w tuitionall_c_w selective ///\n",
    "white_share_w black_share_w hisp_share_w pell_grants_per_fte_c_w ft_faculty_per_100fte_w ///\n",
    "dpcttype_health dpcttype_law dpcttype_culinarycosmetic dpcttype_arts dpcttype_tech ///\n",
    "dpcttype_biz all_under online (first) state_n system_under (min) iclevel (max) multi_brand  ///\n",
    "grad_rate_150_p4yr_w grad_rate_150_p2yr_w, by(systemid year)\n",
    "\n",
    "replace law_enf_frst_this_yr=1 if law_enf_frst_this_yr<. & law_enf_frst_this_yr>0\n",
    "\n",
    "xtset systemid year\n",
    "\n",
    "quietly xtset systemid year\n",
    "\n",
    "eststo: logistic f2.law_enf_frst_this_yr multi_brand system_under online selective ib3.iclevel ///\n",
    "pell_grants_per_fte_c_w white_share_w black_share_w hisp_share_w dpcttype*, cluster(systemid)\n",
    "qui estadd scalar schools = e(N_clust1)\n",
    "    \n",
    "eststo: logistic f2.law_enf_frst_this_yr multi_brand system_under online selective ib3.iclevel ///\n",
    "pell_grants_per_fte_c_w white_share_w black_share_w hisp_share_w dpcttype* i.year, cluster(systemid)\n",
    "qui estadd scalar schools = e(N_clust1)\n",
    "    \n",
    "eststo: logistic f2.law_enf_frst_this_yr multi_brand system_under online selective ib3.iclevel ///\n",
    "pell_grants_per_fte_c_w white_share_w black_share_w hisp_share_w dpcttype* i.year i.state_n, cluster(systemid)\n",
    "qui estadd scalar schools = e(N_clust1)\n",
    "    \n",
    "quietly label var pell_grants_per_fte_c_w \"Pell $ / student\"\n",
    "\n",
    "label var system_under \"firm enrollment (1,000s)\"\n",
    "label var all_under \"campus enrollment (1,000s)\"\n",
    "label var online \"online\"\n",
    "label var selective \"selective admissions\"\n",
    "    label drop iclevel\n",
    "label define iclevel 1 \"BA offered\" 2 \"AA offered\" \n",
    "    label values iclevel iclevel\n",
    "label var black_share_w \"% Black\"\n",
    "label var hisp_share_w \"% Hispanic\"\n",
    "label var white_share_w \"% White\"\n",
    "label var dpcttype_arts \"% degr. art\"\n",
    "label var dpcttype_biz \"% degr. biz\"\n",
    "label var dpcttype_culinarycosmetic \"% degr. personal services\"\n",
    "label var dpcttype_health \"% degr. health\"\n",
    "label var dpcttype_law \"% degr. law (undergrad)\"\n",
    "label var dpcttype_tech \"% degr. tech\"\n",
    "label var tuitionall_c_w tuition\n",
    "label var loan_amount_borrower_c_w borrowing\n",
    "label var ft_faculty_per_100fte_w \"# faculty\"\n",
    "label var law_enf_frst_this_yr \"law enforcement\"\n",
    "label var grad_rate_150_p4yr_w \"BA grad rate\"\n",
    "label var grad_rate_150_p2yr_w \"other grad rate\"\n",
    "label var tuitionall_c_w \"tuition (1,000s)\"\n",
    "label var grad_rate_150_p_w \"undergrad grad rate\"\n",
    "\n",
    "esttab using tables/t3b_legaloddratios20200912.rtf, eform replace ///\n",
    " keep(multi_brand system_under all_under online selective 1.iclevel ///\n",
    "2.iclevel pell_grants_per_fte_c_w white_share_w black_share_w ///\n",
    "hisp_share_w dpcttype_health dpcttype_law dpcttype_culinarycosmetic ///\n",
    "dpcttype_arts dpcttype_tech dpcttype_biz _cons) order(multi_brand ///\n",
    "system_under all_under) ///\n",
    "mtitle(\"odds ratio\" \"year fixed effects\" \"year and state fixed effects\") ///\n",
    "eqlabels(none) collabels(none) ///\n",
    "stats(r2 r2_p N_clust N, fmt(2 2 %9.0fc %9.0fc) label(\"r2\" \"pseudo r2\" \"schools/firms\" N)) ///\n",
    "se(%9.3fc) b(%9.3fc) nogaps ///\n",
    " star(* 0.05 ** 0.01 *** 0.001) label varwidth(10)\n",
    "}"
   ]
  },
  {
   "cell_type": "code",
   "execution_count": 16,
   "metadata": {},
   "outputs": [
    {
     "data": {
      "text/html": [
       "\n",
       "<table border=\"0\" width=\"*\">\n",
       "<tr><td colspan=4><hr></td></tr>\n",
       "<tr><td>          </td><td>         (1)              </td><td>         (2)              </td><td>         (3)              </td></tr>\n",
       "<tr><td>          </td><td>  odds ratio              </td><td>year fixed effects              </td><td>year and state fixed effects              </td></tr>\n",
       "<tr><td colspan=4><hr></td></tr>\n",
       "<tr><td>(max) multi_brand</td><td>       6.790<sup>***</sup></td><td>       8.767<sup>***</sup></td><td>       8.056<sup>***</sup></td></tr>\n",
       "<tr><td>          </td><td>     (2.908)              </td><td>     (3.588)              </td><td>     (3.797)              </td></tr>\n",
       "<tr><td>firm enrollment (1,000s)</td><td>       1.010<sup>**</sup> </td><td>       1.006<sup>*</sup>  </td><td>       1.006              </td></tr>\n",
       "<tr><td>          </td><td>     (0.004)              </td><td>     (0.003)              </td><td>     (0.004)              </td></tr>\n",
       "<tr><td>online    </td><td>       3.727<sup>*</sup>  </td><td>       1.862              </td><td>       2.946              </td></tr>\n",
       "<tr><td>          </td><td>     (2.265)              </td><td>     (1.088)              </td><td>     (1.979)              </td></tr>\n",
       "<tr><td>selective admissions</td><td>       0.158              </td><td>       0.470              </td><td>       0.358              </td></tr>\n",
       "<tr><td>          </td><td>     (0.180)              </td><td>     (0.427)              </td><td>     (0.281)              </td></tr>\n",
       "<tr><td>BA offered</td><td>      12.426<sup>***</sup></td><td>       9.557<sup>**</sup> </td><td>      11.600<sup>***</sup></td></tr>\n",
       "<tr><td>          </td><td>     (9.375)              </td><td>     (7.022)              </td><td>     (8.482)              </td></tr>\n",
       "<tr><td>AA offered</td><td>       3.041              </td><td>       3.049              </td><td>       3.107              </td></tr>\n",
       "<tr><td>          </td><td>     (2.127)              </td><td>     (2.016)              </td><td>     (2.275)              </td></tr>\n",
       "<tr><td>Pell $ / student</td><td>       1.020<sup>*</sup>  </td><td>       1.016              </td><td>       1.005              </td></tr>\n",
       "<tr><td>          </td><td>     (0.009)              </td><td>     (0.011)              </td><td>     (0.015)              </td></tr>\n",
       "<tr><td>% White   </td><td>       0.145<sup>*</sup>  </td><td>       0.206<sup>*</sup>  </td><td>       0.111              </td></tr>\n",
       "<tr><td>          </td><td>     (0.118)              </td><td>     (0.164)              </td><td>     (0.125)              </td></tr>\n",
       "<tr><td>% Black   </td><td>       1.585              </td><td>       1.274              </td><td>       1.656              </td></tr>\n",
       "<tr><td>          </td><td>     (1.106)              </td><td>     (0.928)              </td><td>     (1.233)              </td></tr>\n",
       "<tr><td>% Hispanic</td><td>       0.601              </td><td>       0.446              </td><td>       0.515              </td></tr>\n",
       "<tr><td>          </td><td>     (0.454)              </td><td>     (0.366)              </td><td>     (0.461)              </td></tr>\n",
       "<tr><td>% degr. health</td><td>       2.269              </td><td>       2.493              </td><td>       2.372              </td></tr>\n",
       "<tr><td>          </td><td>     (2.211)              </td><td>     (2.807)              </td><td>     (2.933)              </td></tr>\n",
       "<tr><td>% degr. law (undergrad)</td><td>       0.417              </td><td>       0.340              </td><td>       0.354              </td></tr>\n",
       "<tr><td>          </td><td>     (0.727)              </td><td>     (0.654)              </td><td>     (0.629)              </td></tr>\n",
       "<tr><td>% degr. personal services</td><td>       0.651              </td><td>       0.811              </td><td>       0.728              </td></tr>\n",
       "<tr><td>          </td><td>     (0.690)              </td><td>     (0.989)              </td><td>     (0.954)              </td></tr>\n",
       "<tr><td>% degr. art</td><td>       0.651              </td><td>       0.890              </td><td>       0.744              </td></tr>\n",
       "<tr><td>          </td><td>     (0.886)              </td><td>     (1.326)              </td><td>     (1.272)              </td></tr>\n",
       "<tr><td>% degr. tech</td><td>       1.444              </td><td>       4.017              </td><td>       3.480              </td></tr>\n",
       "<tr><td>          </td><td>     (1.572)              </td><td>     (4.883)              </td><td>     (4.512)              </td></tr>\n",
       "<tr><td>% degr. biz</td><td>       0.857              </td><td>       3.155              </td><td>       2.498              </td></tr>\n",
       "<tr><td>          </td><td>     (0.937)              </td><td>     (3.596)              </td><td>     (3.177)              </td></tr>\n",
       "<tr><td colspan=4><hr></td></tr>\n",
       "<tr><td>pseudo r2 </td><td>        0.22              </td><td>        0.24              </td><td>        0.30              </td></tr>\n",
       "<tr><td>schools/firms</td><td>       2,383              </td><td>       2,091              </td><td>       1,350              </td></tr>\n",
       "<tr><td>N         </td><td>      21,866              </td><td>      12,056              </td><td>       7,494              </td></tr>\n",
       "<tr><td colspan=4><hr></td></tr>\n",
       "<tr><td colspan=4>\n",
       "Exponentiated coefficients; Standard errors in parentheses\n",
       "<br /><sup>*</sup> <i>p</i> < 0.05, <sup>**</sup> <i>p</i> < 0.01, <sup>***</sup> <i>p</i> < 0.001\n",
       "</td></tr>\n",
       "</table>\n",
       "\n"
      ],
      "text/plain": [
       "This front-end or document format cannot display HTML"
      ]
     },
     "metadata": {},
     "output_type": "display_data"
    }
   ],
   "source": [
    "%html\n",
    "esttab, eform html ///\n",
    "keep(multi_brand system_under online selective 1.iclevel 2.iclevel ///\n",
    "pell_grants_per_fte_c_w white_share_w black_share_w hisp_share_w dpcttype_health dpcttype_law ///\n",
    "dpcttype_culinarycosmetic dpcttype_arts dpcttype_tech dpcttype_biz _cons) ///\n",
    "order(multi_brand system_under all_under) ///\n",
    "mtitle(\"odds ratio\" \"year fixed effects\" \"year and state fixed effects\") ///\n",
    "eqlabels(none) collabels(none) ///\n",
    "stats(r2_p N_clust N, fmt(2 %9.0fc %9.0fc) label(\"pseudo r2\" \"schools/firms\" N)) ///\n",
    "se(%9.3fc) b(%9.3fc) nogaps ///\n",
    " star(* 0.05 ** 0.01 *** 0.001) label varwidth(10)"
   ]
  },
  {
   "cell_type": "code",
   "execution_count": null,
   "metadata": {},
   "outputs": [],
   "source": []
  }
 ],
 "metadata": {
  "kernelspec": {
   "display_name": "Stata",
   "language": "stata",
   "name": "stata"
  },
  "language_info": {
   "codemirror_mode": "stata",
   "file_extension": ".do",
   "mimetype": "text/x-stata",
   "name": "stata",
   "version": "15.1"
  }
 },
 "nbformat": 4,
 "nbformat_minor": 4
}
