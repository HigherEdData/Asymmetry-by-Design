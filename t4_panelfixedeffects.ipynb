{
 "cells": [
  {
   "cell_type": "markdown",
   "metadata": {},
   "source": [
    "## Replication for \"Asymmetry by Design\", October 22, 2020\n",
    "### By Adam Goldstein and Charlie Eaton\n",
    "\n",
    "### Table 4: Panel Fixed Effects Estimates for Predatory Practices"
   ]
  },
  {
   "cell_type": "markdown",
   "metadata": {},
   "source": [
    "Install STATA packages"
   ]
  },
  {
   "cell_type": "code",
   "execution_count": 1,
   "metadata": {},
   "outputs": [],
   "source": [
    "*ssc install estout\n",
    "*ssc install reghdfe"
   ]
  },
  {
   "cell_type": "markdown",
   "metadata": {},
   "source": [
    "Download datasets"
   ]
  },
  {
   "cell_type": "code",
   "execution_count": 2,
   "metadata": {},
   "outputs": [],
   "source": [
    "*"
   ]
  },
  {
   "cell_type": "code",
   "execution_count": 3,
   "metadata": {},
   "outputs": [],
   "source": [
    "est clear\n",
    "quietly use data/d_unitidasymmetry, clear\n",
    "quietly xtset unitid year\n",
    "\n",
    "foreach var in tuitionall_c_w loan_amount_borrower_c_w { \n",
    "qui eststo: reghdfe `var' multi_brand system_under all_under online selective ib3.iclevel ///\n",
    "pell_grants_per_fte_c_w white_share_w black_share_w hisp_share_w dpcttype* grad_rate_150_p_w, absorb(unitid year) cluster(systemid year)\n",
    "qui estadd scalar schools = e(df_a)\n",
    "}\n",
    "\n",
    "quietly xtset unitid year\n",
    "quietly gen l2multi_brand=l2.multi_brand\n",
    "quietly replace multi_brand=l2multi_brand\n",
    "\n",
    "quietly eststo: reghdfe ft_faculty_per_100fte_w multi_brand system_under all_under online selective ib3.iclevel ///\n",
    "pell_grants_per_fte_c_w white_share_w black_share_w hisp_share_w dpcttype* tuitionall_c_w, absorb(unitid year) cluster(systemid year)\n",
    "qui estadd scalar schools = e(df_a)"
   ]
  },
  {
   "cell_type": "code",
   "execution_count": 4,
   "metadata": {},
   "outputs": [],
   "source": [
    "quietly {\n",
    "quietly use data/d_unitidasymmetry, clear\n",
    "quietly xtset unitid year\n",
    "  set more off  \n",
    "    label var grad_rate_150_p_w \"grad rate\"\n",
    "    foreach var in grad_rate_150_p_w  { \n",
    "qui eststo: reghdfe `var' multi_brand system_under all_under online selective ib3.iclevel ///\n",
    "pell_grants_per_fte_c_w white_share_w black_share_w hisp_share_w dpcttype* tuitionall_c_w, absorb(unitid year) cluster(systemid year)        \n",
    "qui estadd scalar schools = e(df_a)\n",
    "    }\n",
    "}"
   ]
  },
  {
   "cell_type": "code",
   "execution_count": 5,
   "metadata": {},
   "outputs": [],
   "source": [
    "quietly {\n",
    "   quietly use data/d_opeidasymmetry, clear\n",
    "keep if rankopeid==1\n",
    "xtset opeid year\n",
    "\n",
    "quietly gen l2multi_brand=l2.multi_brand\n",
    "quietly replace multi_brand=l2multi_brand\n",
    "\n",
    "quietly eststo: reghdfe mn_earn_wne_p6_c_w multi_brand  ///\n",
    "all_under system_under online selective ib3.iclevel earn_pct_lo  ///\n",
    "white_share_w black_share_w hisp_share_w dpcttype* tuitionall_c_w, absorb(opeid year) cluster(systemid year)\n",
    "qui estadd scalar schools = e(df_a)\n",
    "    \n",
    "quietly replace earn_pct_lo=rpy_3yr_pct_lo\n",
    "\n",
    "quietly eststo: reghdfe rpy_3yr_rt_supp_w multi_brand ///\n",
    "all_under system_under online selective ib3.iclevel earn_pct_lo ///\n",
    "white_share_w black_share_w hisp_share_w dpcttype* tuitionall_c_w, absorb(opeid year) cluster(systemid year)\n",
    "qui estadd scalar schools = e(df_a)  \n",
    "}"
   ]
  },
  {
   "cell_type": "code",
   "execution_count": 6,
   "metadata": {},
   "outputs": [
    {
     "name": "stdout",
     "output_type": "stream",
     "text": [
      "\n",
      "\n",
      ". qui estadd scalar schools = e(N_clust1)\n"
     ]
    }
   ],
   "source": [
    "quietly {\n",
    "    quietly use data/d_unitidasymmetry, clear\n",
    "\n",
    "quietly collapse (rawsum) sftesale sftetotl (mean) all_under system_under grad_rate_150_p_w ///\n",
    "loan_amount_borrower_c_w tuitionall_c_w selective white_share_w black_share_w hisp_share_w ///\n",
    "pell_grants_per_fte_c_w ft_faculty_per_100fte_w dpcttype_health dpcttype_law ///\n",
    "dpcttype_culinarycosmetic dpcttype_arts dpcttype_tech dpcttype_biz online ///\n",
    "(first) state_n (min) iclevel (max) law_enf_frst_this_yr multi_brand, by(systemid year)\n",
    "\n",
    "replace law_enf_frst_this_yr=1 if law_enf_frst_this_yr<. & law_enf_frst_this_yr>0\n",
    "tab year if law_enf_frst_this_yr==1\n",
    "xtset systemid year\n",
    "quietly xtset systemid year\n",
    "\n",
    "eststo: reghdfe f2.law_enf_frst_this_yr multi_brand system_under online selective ib3.iclevel ///\n",
    "pell_grants_per_fte_c_w white_share_w black_share_w hisp_share_w dpcttype*, absorb(systemid year) cluster(systemid year)\n",
    "\n",
    "gen claimcount=.\n",
    "gen mn_earn_wne_p6_c_w=.\n",
    "gen rpy_3yr_rt_supp_w=.\n",
    "gen earn_pct_lo=.\n",
    "quietly label var pell_grants_per_fte_c_w \"Pell $ / student\"\n",
    "quietly label var mn_earn_wne_p6_c_w \"earnings\"\n",
    "quietly label var rpy_3yr_rt_supp_w \"repay\"\n",
    "quietly label var claimcount \"fraud claims\"\n",
    "quietly label var earn_pct_lo \"% low-income\"\n",
    "label var multi_brand \"multi-brand\"\n",
    "label var system_under \"firm enrollment (1,000s)\"\n",
    "label var all_under \"campus enrollment (1,000s)\"\n",
    "label var online \"online\"\n",
    "label var selective \"selective admissions\"\n",
    "    label drop iclevel\n",
    "label define iclevel 1 \"BA offered\" 2 \"AA offered\" \n",
    "    label values iclevel iclevel\n",
    "label var black_share_w \"% Black\"\n",
    "label var hisp_share_w \"% Hispanic\"\n",
    "label var white_share_w \"% White\"\n",
    "label var dpcttype_arts \"% degr. art\"\n",
    "label var dpcttype_biz \"% degr. biz\"\n",
    "label var dpcttype_culinarycosmetic \"% degr. personal service\"\n",
    "label var dpcttype_health \"% degr. health\"\n",
    "label var dpcttype_law \"% degr. law)\"\n",
    "label var dpcttype_tech \"% degr. tech\"\n",
    "label var tuitionall_c_w \"tuition (1,000s)\"\n",
    "label var loan_amount_borrower_c_w \"loans (1,000s)\"\n",
    "label var ft_faculty_per_100fte_w \"faculty\"\n",
    "label var law_enf_frst_this_yr \"law enforcement\"\n",
    "label var grad_rate_150_p_w \"undergrad grad rate\"\n",
    "}\n",
    "qui estadd scalar schools = e(N_clust1)"
   ]
  },
  {
   "cell_type": "code",
   "execution_count": 7,
   "metadata": {},
   "outputs": [
    {
     "data": {
      "text/html": [
       "\n",
       "<table border=\"0\" width=\"*\">\n",
       "<tr><td colspan=8><hr></td></tr>\n",
       "<tr><td>          </td><td>         (1)              </td><td>         (2)              </td><td>         (3)              </td><td>         (4)              </td><td>         (5)              </td><td>         (6)              </td><td>         (7)              </td></tr>\n",
       "<tr><td>          </td><td>     tuition              </td><td>   borrowing              </td><td>     faculty              </td><td> % grad rate              </td><td>     earning              </td><td>     % repay              </td><td>       legal              </td></tr>\n",
       "<tr><td colspan=8><hr></td></tr>\n",
       "<tr><td>multi-brand</td><td>        0.99<sup>*</sup>  </td><td>        0.57              </td><td>       -0.39<sup>*</sup>  </td><td>       -2.56<sup>*</sup>  </td><td>       -1.00<sup>*</sup>  </td><td>       -1.35<sup>*</sup>  </td><td>        0.02<sup>*</sup>  </td></tr>\n",
       "<tr><td>          </td><td>      (0.37)              </td><td>      (0.33)              </td><td>      (0.16)              </td><td>      (0.98)              </td><td>      (0.37)              </td><td>      (0.39)              </td><td>      (0.01)              </td></tr>\n",
       "<tr><td>firm enrollment (1,000s)</td><td>       -0.01<sup>***</sup></td><td>        0.00              </td><td>        0.00              </td><td>       -0.01              </td><td>       -0.04<sup>*</sup>  </td><td>       -0.02              </td><td>        0.00              </td></tr>\n",
       "<tr><td>          </td><td>      (0.00)              </td><td>      (0.00)              </td><td>      (0.00)              </td><td>      (0.03)              </td><td>      (0.01)              </td><td>      (0.02)              </td><td>      (0.00)              </td></tr>\n",
       "<tr><td>campus enrollment (1,000s)</td><td>       -0.05              </td><td>        0.01              </td><td>       -0.01              </td><td>       -0.05              </td><td>       -0.16<sup>***</sup></td><td>       -0.02              </td><td>                          </td></tr>\n",
       "<tr><td>          </td><td>      (0.03)              </td><td>      (0.02)              </td><td>      (0.01)              </td><td>      (0.09)              </td><td>      (0.02)              </td><td>      (0.03)              </td><td>                          </td></tr>\n",
       "<tr><td>online    </td><td>        0.15              </td><td>       -0.17              </td><td>       -0.46              </td><td>       -3.10<sup>*</sup>  </td><td>        0.23              </td><td>       -2.07              </td><td>        0.01              </td></tr>\n",
       "<tr><td>          </td><td>      (0.46)              </td><td>      (0.24)              </td><td>      (0.25)              </td><td>      (1.42)              </td><td>      (0.55)              </td><td>      (1.39)              </td><td>      (0.01)              </td></tr>\n",
       "<tr><td>selective admissions</td><td>        0.10              </td><td>        0.07              </td><td>        0.21              </td><td>        2.14              </td><td>       -0.01              </td><td>       -0.37              </td><td>       -0.00              </td></tr>\n",
       "<tr><td>          </td><td>      (0.28)              </td><td>      (0.33)              </td><td>      (0.16)              </td><td>      (1.10)              </td><td>      (0.31)              </td><td>      (1.25)              </td><td>      (0.00)              </td></tr>\n",
       "<tr><td>BA offered</td><td>        1.61              </td><td>        0.65<sup>*</sup>  </td><td>        0.01              </td><td>       -4.74<sup>*</sup>  </td><td>        1.11              </td><td>       -0.41              </td><td>        0.02              </td></tr>\n",
       "<tr><td>          </td><td>      (1.10)              </td><td>      (0.30)              </td><td>      (0.21)              </td><td>      (1.69)              </td><td>      (1.40)              </td><td>      (1.31)              </td><td>      (0.01)              </td></tr>\n",
       "<tr><td>AA offered</td><td>        0.91              </td><td>        0.28              </td><td>        0.00              </td><td>       -2.12              </td><td>        0.74              </td><td>       -0.23              </td><td>        0.00              </td></tr>\n",
       "<tr><td>          </td><td>      (0.65)              </td><td>      (0.24)              </td><td>      (0.00)              </td><td>      (1.58)              </td><td>      (0.47)              </td><td>      (0.85)              </td><td>      (0.00)              </td></tr>\n",
       "<tr><td>Pell $ / student</td><td>        0.00              </td><td>        0.00              </td><td>        0.07<sup>*</sup>  </td><td>       -0.01              </td><td>                          </td><td>                          </td><td>        0.00              </td></tr>\n",
       "<tr><td>          </td><td>      (0.01)              </td><td>      (0.01)              </td><td>      (0.03)              </td><td>      (0.03)              </td><td>                          </td><td>                          </td><td>      (0.00)              </td></tr>\n",
       "<tr><td>% White   </td><td>       -0.12              </td><td>        0.10              </td><td>        0.54              </td><td>        1.28              </td><td>        0.95              </td><td>        2.06<sup>*</sup>  </td><td>       -0.00              </td></tr>\n",
       "<tr><td>          </td><td>      (0.27)              </td><td>      (0.41)              </td><td>      (0.28)              </td><td>      (1.61)              </td><td>      (0.73)              </td><td>      (0.74)              </td><td>      (0.00)              </td></tr>\n",
       "<tr><td>% Black   </td><td>       -0.63              </td><td>       -0.39              </td><td>       -0.40              </td><td>       -8.33<sup>**</sup> </td><td>       -2.13<sup>*</sup>  </td><td>       -6.42<sup>*</sup>  </td><td>       -0.00              </td></tr>\n",
       "<tr><td>          </td><td>      (0.54)              </td><td>      (0.51)              </td><td>      (0.43)              </td><td>      (2.28)              </td><td>      (0.72)              </td><td>      (1.73)              </td><td>      (0.00)              </td></tr>\n",
       "<tr><td>% Hispanic</td><td>       -0.97              </td><td>       -0.66              </td><td>       -0.35              </td><td>       -1.03              </td><td>       -1.44              </td><td>        0.07              </td><td>       -0.01<sup>*</sup>  </td></tr>\n",
       "<tr><td>          </td><td>      (0.51)              </td><td>      (0.59)              </td><td>      (0.26)              </td><td>      (2.67)              </td><td>      (0.98)              </td><td>      (1.15)              </td><td>      (0.00)              </td></tr>\n",
       "<tr><td>% degr. health</td><td>       -2.97<sup>*</sup>  </td><td>        0.83              </td><td>       -0.50              </td><td>       -3.80              </td><td>       -3.58              </td><td>       -3.74              </td><td>        0.01<sup>***</sup></td></tr>\n",
       "<tr><td>          </td><td>      (1.33)              </td><td>      (0.93)              </td><td>      (1.01)              </td><td>      (5.06)              </td><td>      (2.81)              </td><td>      (2.73)              </td><td>      (0.00)              </td></tr>\n",
       "<tr><td>% degr. law)</td><td>       -3.81<sup>*</sup>  </td><td>       -0.58              </td><td>       -1.98<sup>*</sup>  </td><td>      -17.16<sup>*</sup>  </td><td>       -3.34              </td><td>       -7.58              </td><td>        0.01              </td></tr>\n",
       "<tr><td>          </td><td>      (1.32)              </td><td>      (1.14)              </td><td>      (0.94)              </td><td>      (6.72)              </td><td>      (3.11)              </td><td>      (3.73)              </td><td>      (0.01)              </td></tr>\n",
       "<tr><td>% degr. personal service</td><td>       -1.51              </td><td>        1.08              </td><td>        0.12              </td><td>       -9.87              </td><td>       -3.47              </td><td>       -1.89              </td><td>        0.01<sup>*</sup>  </td></tr>\n",
       "<tr><td>          </td><td>      (1.56)              </td><td>      (0.99)              </td><td>      (1.37)              </td><td>      (6.03)              </td><td>      (2.83)              </td><td>      (4.07)              </td><td>      (0.00)              </td></tr>\n",
       "<tr><td>% degr. art</td><td>       -0.48              </td><td>        0.93              </td><td>       -1.10              </td><td>       -8.77              </td><td>        0.02              </td><td>       -0.86              </td><td>       -0.00              </td></tr>\n",
       "<tr><td>          </td><td>      (1.43)              </td><td>      (0.84)              </td><td>      (0.82)              </td><td>      (6.21)              </td><td>      (3.61)              </td><td>      (3.24)              </td><td>      (0.01)              </td></tr>\n",
       "<tr><td>% degr. tech</td><td>       -1.02              </td><td>        0.72              </td><td>       -0.57              </td><td>       -4.76              </td><td>        6.90<sup>*</sup>  </td><td>        0.79              </td><td>       -0.01              </td></tr>\n",
       "<tr><td>          </td><td>      (1.25)              </td><td>      (0.61)              </td><td>      (0.92)              </td><td>      (4.74)              </td><td>      (2.15)              </td><td>      (3.18)              </td><td>      (0.00)              </td></tr>\n",
       "<tr><td>% degr. biz</td><td>       -2.05              </td><td>        0.26              </td><td>       -1.27              </td><td>      -11.22<sup>*</sup>  </td><td>       -2.09              </td><td>       -5.74              </td><td>        0.01              </td></tr>\n",
       "<tr><td>          </td><td>      (1.27)              </td><td>      (0.96)              </td><td>      (0.77)              </td><td>      (4.79)              </td><td>      (2.55)              </td><td>      (3.23)              </td><td>      (0.00)              </td></tr>\n",
       "<tr><td>undergrad grad rate</td><td>        0.00              </td><td>        0.00              </td><td>                          </td><td>                          </td><td>                          </td><td>                          </td><td>                          </td></tr>\n",
       "<tr><td>          </td><td>      (0.00)              </td><td>      (0.00)              </td><td>                          </td><td>                          </td><td>                          </td><td>                          </td><td>                          </td></tr>\n",
       "<tr><td>tuition (1,000s)</td><td>                          </td><td>                          </td><td>        0.02              </td><td>        0.00              </td><td>       -0.05              </td><td>        0.05              </td><td>                          </td></tr>\n",
       "<tr><td>          </td><td>                          </td><td>                          </td><td>      (0.01)              </td><td>      (0.05)              </td><td>      (0.03)              </td><td>      (0.04)              </td><td>                          </td></tr>\n",
       "<tr><td>% low-income</td><td>                          </td><td>                          </td><td>                          </td><td>                          </td><td>       -8.53<sup>**</sup> </td><td>       -0.14<sup>***</sup></td><td>                          </td></tr>\n",
       "<tr><td>          </td><td>                          </td><td>                          </td><td>                          </td><td>                          </td><td>      (1.84)              </td><td>      (0.02)              </td><td>                          </td></tr>\n",
       "<tr><td>Constant  </td><td>       16.20<sup>***</sup></td><td>        5.99<sup>***</sup></td><td>        3.30<sup>***</sup></td><td>       65.29<sup>***</sup></td><td>       41.62<sup>***</sup></td><td>       52.30<sup>***</sup></td><td>       -0.00              </td></tr>\n",
       "<tr><td>          </td><td>      (1.25)              </td><td>      (1.03)              </td><td>      (0.83)              </td><td>      (4.91)              </td><td>      (2.42)              </td><td>      (3.47)              </td><td>      (0.00)              </td></tr>\n",
       "<tr><td colspan=8><hr></td></tr>\n",
       "<tr><td>r2        </td><td>        0.74              </td><td>        0.54              </td><td>        0.64              </td><td>        0.66              </td><td>        0.94              </td><td>        0.92              </td><td>        0.09              </td></tr>\n",
       "<tr><td>schools/firms</td><td>       1,798              </td><td>       1,737              </td><td>       1,339              </td><td>       1,798              </td><td>       1,246              </td><td>       1,637              </td><td>       2,156              </td></tr>\n",
       "<tr><td>N         </td><td>      16,740              </td><td>      14,629              </td><td>       9,402              </td><td>      16,740              </td><td>       5,748              </td><td>       9,143              </td><td>      21,622              </td></tr>\n",
       "<tr><td colspan=8><hr></td></tr>\n",
       "<tr><td colspan=8>\n",
       "Standard errors in parentheses\n",
       "<br /><sup>*</sup> <i>p</i> < 0.05, <sup>**</sup> <i>p</i> < 0.01, <sup>***</sup> <i>p</i> < 0.001\n",
       "</td></tr>\n",
       "</table>\n",
       "\n"
      ],
      "text/plain": [
       "This front-end or document format cannot display HTML"
      ]
     },
     "metadata": {},
     "output_type": "display_data"
    }
   ],
   "source": [
    "%html\n",
    "esttab, ///\n",
    " keep(multi_brand system_under all_under online selective 1.iclevel 2.iclevel ///\n",
    "pell_grants_per_fte_c_w white_share_w black_share_w hisp_share_w dpcttype_health dpcttype_law ///\n",
    "dpcttype_culinarycosmetic dpcttype_arts dpcttype_tech dpcttype_biz earn_pct_lo ///\n",
    "grad_rate_150_p_w tuitionall_c_w _cons) ///\n",
    "order(multi_brand system_under all_under) ///\n",
    "mlabel(\"tuition\" \"borrowing\" \"faculty\" \"% grad rate\" \"earning\" \"% repay\" \"legal\") ///\n",
    "stats(r2 schools N, fmt(2 %9.0fc %9.0fc) label(\"r2\" \"schools/firms\" N)) ///\n",
    "se(%9.2fc) b(%9.2fc) nogaps eqlabels(\"\")  ///\n",
    " star(* 0.05 ** 0.01 *** 0.001) html label varwidth(10)"
   ]
  },
  {
   "cell_type": "code",
   "execution_count": 8,
   "metadata": {},
   "outputs": [
    {
     "name": "stdout",
     "output_type": "stream",
     "text": [
      "> \n",
      "(output written to tables/t4_panelfixed.rtf)\n"
     ]
    }
   ],
   "source": [
    "esttab using tables/t4_panelfixed.rtf, title(Table 4: Panel fixed effects estimates) ///\n",
    " keep(multi_brand system_under all_under online selective 1.iclevel 2.iclevel ///\n",
    "pell_grants_per_fte_c_w white_share_w black_share_w hisp_share_w dpcttype_health dpcttype_law ///\n",
    "dpcttype_culinarycosmetic dpcttype_arts dpcttype_tech dpcttype_biz earn_pct_lo grad_rate_150_p_w tuitionall_c_w _cons) ///\n",
    "order(multi_brand system_under all_under) ///\n",
    "mlabel(\"tuition 1,000s\" \"loans (1,000s)\" \"faculty\" \"% grad rate\" \"earnings (1,000s)\" \"% repay\" \"legal\") ///\n",
    "stats(r2 schools N, fmt(2 %9.0fc %9.0fc) label(\"r2\" \"schools/firms\" N)) ///\n",
    "se(%9.2fc) b(%9.2fc) nogaps eqlabels(\"\") ///\n",
    " star(* 0.05 ** 0.01 *** 0.001) label varwidth(10) replace"
   ]
  },
  {
   "cell_type": "code",
   "execution_count": null,
   "metadata": {},
   "outputs": [],
   "source": []
  }
 ],
 "metadata": {
  "kernelspec": {
   "display_name": "Stata",
   "language": "stata",
   "name": "stata"
  },
  "language_info": {
   "codemirror_mode": "stata",
   "file_extension": ".do",
   "mimetype": "text/x-stata",
   "name": "stata",
   "version": "15.1"
  }
 },
 "nbformat": 4,
 "nbformat_minor": 4
}
