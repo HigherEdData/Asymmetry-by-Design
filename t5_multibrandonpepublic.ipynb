{
 "cells": [
  {
   "cell_type": "markdown",
   "metadata": {},
   "source": [
    "## Replication for \"Asymmetry by Design\", October 22, 2020\n",
    "### By Adam Goldstein and Charlie Eaton\n",
    "\n",
    "### Table 5: Coefficients for regression of multi-brand strategy on ownership forms"
   ]
  },
  {
   "cell_type": "markdown",
   "metadata": {},
   "source": [
    "Install STATA packages"
   ]
  },
  {
   "cell_type": "code",
   "execution_count": 1,
   "metadata": {},
   "outputs": [],
   "source": [
    "ssc install estout\n",
    "ssc install reghdfe"
   ]
  },
  {
   "cell_type": "markdown",
   "metadata": {},
   "source": [
    "Download datasets"
   ]
  },
  {
   "cell_type": "code",
   "execution_count": 2,
   "metadata": {},
   "outputs": [],
   "source": [
    "copy \"https://github.com/HigherEdData/asymmetry/raw/master/data/d_unitidasymmetry.dta\" ///\n",
    "    data/d_unitidasymmetry.dta, replace"
   ]
  },
  {
   "cell_type": "code",
   "execution_count": 3,
   "metadata": {},
   "outputs": [],
   "source": [
    "quietly {\n",
    "quietly use data/d_unitidasymmetry, clear\n",
    "qui keep if year>1991 & year<2016\n",
    "\n",
    "est clear\n",
    "    \n",
    "quietly collapse (rawsum) sftesale sftetotl (mean) all_under system_under grad_rate_150_p_w ///\n",
    "loan_amount_borrower_c_w tuitionall_c_w selective white_share_w black_share_w hisp_share_w ///\n",
    "pell_grants_per_fte_c_w ft_faculty_per_100fte_w dpcttype_health dpcttype_law ///\n",
    "dpcttype_culinarycosmetic dpcttype_arts dpcttype_tech dpcttype_biz online ///\n",
    "(first) state_n (min) iclevel (max)investor law_enf_frst_this_yr multi_brand, by(systemid year)\n",
    "\n",
    "xtset systemid year\n",
    "\n",
    "quietly eststo:reg multi_brand investor system_under online selective ib3.iclevel ///\n",
    "dpcttype* i.year i.state_n, cluster(systemid) ro\n",
    "\n",
    "gen multiyear=year if multi_brand==1\n",
    "bysort systemid: egen minmultiyear=min(multiyear)\n",
    "replace multi_brand=. if year>minmultiyear\n",
    "\n",
    "eststo: reghdfe multi_brand investor system_under online selective ib3.iclevel ///\n",
    "dpcttype*, absorb(systemid year) cluster(systemid)\n",
    "\n",
    "quietly label var investor \"investor ownership\"\n",
    "quietly label var pell_grants_per_fte_c_w \"Pell $ / student\"\n",
    "label var multi_brand \"multi-brand\"\n",
    "label var system_under \"firm enrollment (1,000s)\"\n",
    "label var all_under \"campus enrollment (1,000s)\"\n",
    "label var online \"online\"\n",
    "label var selective \"selective admissions\"\n",
    "    label drop iclevel\n",
    "label define iclevel 1 \"BA offered\" 2 \"AA offered\" \n",
    "    label values iclevel iclevel\n",
    "label var dpcttype_arts \"% degr. art\"\n",
    "label var dpcttype_biz \"% degr. biz\"\n",
    "label var dpcttype_culinarycosmetic \"% degr. personal service\"\n",
    "label var dpcttype_health \"% degr. health\"\n",
    "label var dpcttype_law \"% degr. law\"\n",
    "label var dpcttype_tech \"% degr. tech\"\n",
    "\n",
    "esttab using tables/t5_multibrandownership.rtf, ///\n",
    "keep (investor system_under online selective 1.iclevel 2.iclevel dpcttype_health dpcttype_law ///\n",
    "dpcttype_culinarycosmetic dpcttype_arts dpcttype_tech dpcttype_biz _cons) ///\n",
    "mtitle(\"Pooled OLS\" \"Fixed effects\") eqlabels(none) collabels(none) ///\n",
    "stats(r2 r2_p N_clust N, fmt(2 2 %9.0fc %9.0fc)  ///\n",
    "label(\"r2\" \"pseudo r2\" \"firm clusters\" N)) b(%9.3fc) se(%9.3fc) /// \n",
    "nogaps star(* 0.05 ** 0.01 *** 0.001) label varwidth(10)\n",
    "}"
   ]
  },
  {
   "cell_type": "code",
   "execution_count": 4,
   "metadata": {},
   "outputs": [
    {
     "data": {
      "text/html": [
       "\n",
       "<table border=\"0\" width=\"*\">\n",
       "<tr><td colspan=3><hr></td></tr>\n",
       "<tr><td>          </td><td>         (1)              </td><td>         (2)              </td></tr>\n",
       "<tr><td>          </td><td>  Pooled OLS              </td><td>Fixed effects              </td></tr>\n",
       "<tr><td colspan=3><hr></td></tr>\n",
       "<tr><td>investor ownership</td><td>       0.153<sup>***</sup></td><td>       0.020<sup>*</sup>  </td></tr>\n",
       "<tr><td>          </td><td>     (0.037)              </td><td>     (0.009)              </td></tr>\n",
       "<tr><td>firm enrollment (1,000s)</td><td>       0.003              </td><td>       0.000              </td></tr>\n",
       "<tr><td>          </td><td>     (0.002)              </td><td>     (0.000)              </td></tr>\n",
       "<tr><td>online    </td><td>      -0.029<sup>**</sup> </td><td>      -0.002              </td></tr>\n",
       "<tr><td>          </td><td>     (0.011)              </td><td>     (0.001)              </td></tr>\n",
       "<tr><td>selective admissions</td><td>      -0.001              </td><td>      -0.000              </td></tr>\n",
       "<tr><td>          </td><td>     (0.003)              </td><td>     (0.001)              </td></tr>\n",
       "<tr><td>BA offered</td><td>       0.052<sup>***</sup></td><td>       0.023<sup>*</sup>  </td></tr>\n",
       "<tr><td>          </td><td>     (0.015)              </td><td>     (0.010)              </td></tr>\n",
       "<tr><td>AA offered</td><td>       0.015<sup>**</sup> </td><td>       0.006              </td></tr>\n",
       "<tr><td>          </td><td>     (0.005)              </td><td>     (0.003)              </td></tr>\n",
       "<tr><td>% degr. health</td><td>       0.023<sup>***</sup></td><td>       0.008              </td></tr>\n",
       "<tr><td>          </td><td>     (0.007)              </td><td>     (0.004)              </td></tr>\n",
       "<tr><td>% degr. law</td><td>      -0.003              </td><td>      -0.001              </td></tr>\n",
       "<tr><td>          </td><td>     (0.008)              </td><td>     (0.004)              </td></tr>\n",
       "<tr><td>% degr. personal service</td><td>       0.015<sup>**</sup> </td><td>       0.005              </td></tr>\n",
       "<tr><td>          </td><td>     (0.005)              </td><td>     (0.004)              </td></tr>\n",
       "<tr><td>% degr. art</td><td>      -0.006              </td><td>      -0.005              </td></tr>\n",
       "<tr><td>          </td><td>     (0.007)              </td><td>     (0.013)              </td></tr>\n",
       "<tr><td>% degr. tech</td><td>       0.008              </td><td>       0.002              </td></tr>\n",
       "<tr><td>          </td><td>     (0.008)              </td><td>     (0.004)              </td></tr>\n",
       "<tr><td>% degr. biz</td><td>      -0.005              </td><td>      -0.000              </td></tr>\n",
       "<tr><td>          </td><td>     (0.006)              </td><td>     (0.004)              </td></tr>\n",
       "<tr><td>Constant  </td><td>      -0.038<sup>*</sup>  </td><td>      -0.006              </td></tr>\n",
       "<tr><td>          </td><td>     (0.018)              </td><td>     (0.003)              </td></tr>\n",
       "<tr><td colspan=3><hr></td></tr>\n",
       "<tr><td>r2        </td><td>        0.14              </td><td>        0.20              </td></tr>\n",
       "<tr><td>pseudo r2 </td><td>                          </td><td>                          </td></tr>\n",
       "<tr><td>firm clusters</td><td>       4,068              </td><td>       3,148              </td></tr>\n",
       "<tr><td>N         </td><td>      33,307              </td><td>      31,654              </td></tr>\n",
       "<tr><td colspan=3><hr></td></tr>\n",
       "<tr><td colspan=3>\n",
       "Standard errors in parentheses\n",
       "<br /><sup>*</sup> <i>p</i> < 0.05, <sup>**</sup> <i>p</i> < 0.01, <sup>***</sup> <i>p</i> < 0.001\n",
       "</td></tr>\n",
       "</table>\n",
       "\n"
      ],
      "text/plain": [
       "This front-end or document format cannot display HTML"
      ]
     },
     "metadata": {},
     "output_type": "display_data"
    }
   ],
   "source": [
    "%html\n",
    "esttab, ///\n",
    "keep (investor system_under online selective 1.iclevel 2.iclevel dpcttype_health dpcttype_law ///\n",
    "dpcttype_culinarycosmetic dpcttype_arts dpcttype_tech dpcttype_biz _cons) ///\n",
    "mtitle(\"Pooled OLS\" \"Fixed effects\") eqlabels(none) collabels(none) ///\n",
    "stats(r2 r2_p N_clust N, fmt(2 2 %9.0fc %9.0fc)  ///\n",
    "label(\"r2\" \"pseudo r2\" \"firm clusters\" N)) b(%9.3fc) se(%9.3fc) /// \n",
    "nogaps star(* 0.05 ** 0.01 *** 0.001) label varwidth(10) html"
   ]
  },
  {
   "cell_type": "code",
   "execution_count": 5,
   "metadata": {},
   "outputs": [],
   "source": [
    "qui {\n",
    "    est clear\n",
    "    quietly use data/d_unitidasymmetry, clear\n",
    "keep if year>1991 & year<2016\n",
    "    \n",
    "quietly collapse (rawsum) sftesale sftetotl (mean) all_under system_under grad_rate_150_p_w ///\n",
    "loan_amount_borrower_c_w tuitionall_c_w selective white_share_w black_share_w hisp_share_w ///\n",
    "pell_grants_per_fte_c_w ft_faculty_per_100fte_w dpcttype_health dpcttype_law ///\n",
    "dpcttype_culinarycosmetic dpcttype_arts dpcttype_tech dpcttype_biz online ///\n",
    "(first) state_n (min) iclevel (max)investor law_enf_frst_this_yr multi_brand, by(systemid year)\n",
    "\n",
    "xtset  systemid year\n",
    "    \n",
    "gen becomemultibrand=1 if d.multi_brand==1\n",
    "by systemid: drop if l.becomemultibrand ==1 | l2.becomemultibrand ==1 ///\n",
    "    | l3.becomemultibrand ==1 | l4.becomemultibrand ==1 | ///\n",
    "    l5.becomemultibrand ==1 | l6.becomemultibrand ==1 | ///\n",
    "    l7.becomemultibrand ==1 | l8.becomemultibrand ==1 | ///\n",
    "    l9.becomemultibrand ==1 | l10.becomemultibrand ==1 | ///\n",
    "    l11.becomemultibrand ==1 | l12.becomemultibrand ==1 | ///\n",
    "    l13.becomemultibrand ==1 | l14.becomemultibrand ==1 | ///\n",
    "    l15.becomemultibrand ==1 | l16.becomemultibrand ==1 | ///\n",
    "    l17.becomemultibrand ==1 | l18.becomemultibrand ==1 | ///\n",
    "    l19.becomemultibrand ==1 | l20.becomemultibrand ==1 | ///\n",
    "    l21.becomemultibrand ==1 | l22.becomemultibrand ==1 | l23.becomemultibrand ==1 \n",
    "\n",
    "replace becomemultibrand=0 if becomemultibrand==. \n",
    "\n",
    "**Express time in terms of time at risk (to deal with left censoring)\n",
    "by systemid: egen minyear=min(year)\n",
    "gen time=year-minyear\n",
    "\n",
    "stset time, id(systemid) failure(multi_brand=1)\n",
    "sts test investor\n",
    "\n",
    "*Proportional Odds Discrete Time Hazard Model (i.e. logit model)*Very similar to existing model\n",
    "eststo: logit multi_brand investor system_under online ///\n",
    "    selective i.iclevel dpct* ibn.time, or cluster(systemid)\n",
    "\n",
    "quietly label var investor \"investor ownership\"\n",
    "quietly label var pell_grants_per_fte_c_w \"Pell $ / student\"\n",
    "label var multi_brand \"multi-brand\"\n",
    "label var system_under \"firm enrollment (1,000s)\"\n",
    "label var all_under \"campus enrollment (1,000s)\"\n",
    "label var online \"online\"\n",
    "label var selective \"selective admissions\"\n",
    "    label drop iclevel\n",
    "label define iclevel 1 \"BA offered\" 2 \"AA offered\" \n",
    "    label values iclevel iclevel\n",
    "label var dpcttype_arts \"% degr. art\"\n",
    "label var dpcttype_biz \"% degr. biz\"\n",
    "label var dpcttype_culinarycosmetic \"% degr. personal service\"\n",
    "label var dpcttype_health \"% degr. health\"\n",
    "label var dpcttype_law \"% degr. law\"\n",
    "label var dpcttype_tech \"% degr. tech\"\n",
    "    \n",
    "esttab using tables/t5_multibrandownershiphazard.rtf, eform ///\n",
    "keep (investor system_under online selective 1.iclevel 2.iclevel dpcttype_health dpcttype_law ///\n",
    "dpcttype_culinarycosmetic dpcttype_arts dpcttype_tech dpcttype_biz _cons) ///\n",
    "mtitle(\"Proportonal Odds Hazard Model\") eqlabels(none) collabels(none) ///\n",
    "stats(r2 r2_p N_clust N, fmt(2 2 %9.0fc %9.0fc)  ///\n",
    "label(\"r2\" \"pseudo r2\" \"firm clusters\" N)) b(%9.3fc) se(%9.3fc) /// \n",
    "nogaps star(* 0.05 ** 0.01 *** 0.001) label varwidth(10) \n",
    "}"
   ]
  },
  {
   "cell_type": "code",
   "execution_count": 6,
   "metadata": {},
   "outputs": [
    {
     "data": {
      "text/html": [
       "\n",
       "<table border=\"0\" width=\"*\">\n",
       "<tr><td colspan=2><hr></td></tr>\n",
       "<tr><td>          </td><td>         (1)              </td></tr>\n",
       "<tr><td>          </td><td>Proportonal Odds Hazard Model              </td></tr>\n",
       "<tr><td colspan=2><hr></td></tr>\n",
       "<tr><td>investor ownership</td><td>       9.570<sup>**</sup> </td></tr>\n",
       "<tr><td>          </td><td>     (7.191)              </td></tr>\n",
       "<tr><td>firm enrollment (1,000s)</td><td>       1.009              </td></tr>\n",
       "<tr><td>          </td><td>     (0.008)              </td></tr>\n",
       "<tr><td>online    </td><td>       0.045<sup>***</sup></td></tr>\n",
       "<tr><td>          </td><td>     (0.028)              </td></tr>\n",
       "<tr><td>selective admissions</td><td>       1.984<sup>**</sup> </td></tr>\n",
       "<tr><td>          </td><td>     (0.464)              </td></tr>\n",
       "<tr><td>BA offered</td><td>       1.000              </td></tr>\n",
       "<tr><td>          </td><td>         (.)              </td></tr>\n",
       "<tr><td>AA offered</td><td>       0.078<sup>***</sup></td></tr>\n",
       "<tr><td>          </td><td>     (0.039)              </td></tr>\n",
       "<tr><td>% degr. health</td><td>      45.738<sup>*</sup>  </td></tr>\n",
       "<tr><td>          </td><td>    (88.533)              </td></tr>\n",
       "<tr><td>% degr. law</td><td>       5.441              </td></tr>\n",
       "<tr><td>          </td><td>    (11.642)              </td></tr>\n",
       "<tr><td>% degr. personal service</td><td>      54.852<sup>*</sup>  </td></tr>\n",
       "<tr><td>          </td><td>   (101.560)              </td></tr>\n",
       "<tr><td>% degr. art</td><td>      18.417              </td></tr>\n",
       "<tr><td>          </td><td>    (28.103)              </td></tr>\n",
       "<tr><td>% degr. tech</td><td>       8.272              </td></tr>\n",
       "<tr><td>          </td><td>    (16.401)              </td></tr>\n",
       "<tr><td>% degr. biz</td><td>      25.290              </td></tr>\n",
       "<tr><td>          </td><td>    (55.785)              </td></tr>\n",
       "<tr><td colspan=2><hr></td></tr>\n",
       "<tr><td>r2        </td><td>                          </td></tr>\n",
       "<tr><td>pseudo r2 </td><td>        0.26              </td></tr>\n",
       "<tr><td>firm clusters</td><td>       4,068              </td></tr>\n",
       "<tr><td>N         </td><td>      32,697              </td></tr>\n",
       "<tr><td colspan=2><hr></td></tr>\n",
       "<tr><td colspan=2>\n",
       "Exponentiated coefficients; Standard errors in parentheses\n",
       "<br /><sup>*</sup> <i>p</i> < 0.05, <sup>**</sup> <i>p</i> < 0.01, <sup>***</sup> <i>p</i> < 0.001\n",
       "</td></tr>\n",
       "</table>\n",
       "\n"
      ],
      "text/plain": [
       "This front-end or document format cannot display HTML"
      ]
     },
     "metadata": {},
     "output_type": "display_data"
    }
   ],
   "source": [
    "%html\n",
    "esttab, eform ///\n",
    "keep (investor system_under online selective 1.iclevel 2.iclevel dpcttype_health dpcttype_law ///\n",
    "dpcttype_culinarycosmetic dpcttype_arts dpcttype_tech dpcttype_biz _cons) ///\n",
    "mtitle(\"Proportonal Odds Hazard Model\") eqlabels(none) collabels(none) ///\n",
    "stats(r2 r2_p N_clust N, fmt(2 2 %9.0fc %9.0fc)  ///\n",
    "label(\"r2\" \"pseudo r2\" \"firm clusters\" N)) b(%9.3fc) se(%9.3fc) /// \n",
    "nogaps star(* 0.05 ** 0.01 *** 0.001) label varwidth(10) html"
   ]
  },
  {
   "cell_type": "code",
   "execution_count": null,
   "metadata": {},
   "outputs": [],
   "source": []
  }
 ],
 "metadata": {
  "kernelspec": {
   "display_name": "Stata",
   "language": "stata",
   "name": "stata"
  },
  "language_info": {
   "codemirror_mode": "stata",
   "file_extension": ".do",
   "mimetype": "text/x-stata",
   "name": "stata",
   "version": "15.1"
  }
 },
 "nbformat": 4,
 "nbformat_minor": 4
}
