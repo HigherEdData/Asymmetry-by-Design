{
 "cells": [
  {
   "cell_type": "markdown",
   "metadata": {},
   "source": [
    "## Replication for \"Asymmetry by Design\", March 22, 2020\n",
    "### By Adam Goldstein and Charlie Eaton\n",
    "\n",
    "### Table 6: Fixed effects models for multibrand strategy with and without investor ownership control"
   ]
  },
  {
   "cell_type": "markdown",
   "metadata": {},
   "source": [
    "Install STATA packages"
   ]
  },
  {
   "cell_type": "code",
   "execution_count": 1,
   "metadata": {},
   "outputs": [],
   "source": [
    "*ssc install estout\n",
    "*ssc install reghdfe"
   ]
  },
  {
   "cell_type": "markdown",
   "metadata": {},
   "source": [
    "Download datasets"
   ]
  },
  {
   "cell_type": "code",
   "execution_count": 2,
   "metadata": {},
   "outputs": [],
   "source": [
    "*"
   ]
  },
  {
   "cell_type": "code",
   "execution_count": 3,
   "metadata": {},
   "outputs": [],
   "source": [
    "quietly use data/d_unitidasymmetry, clear\n",
    "quietly set more off\n",
    "quietly est clear\n",
    "quietly xtset unitid year"
   ]
  },
  {
   "cell_type": "code",
   "execution_count": 4,
   "metadata": {},
   "outputs": [],
   "source": [
    "foreach var in tuitionall_c_w loan_amount_borrower_c_w {\n",
    "quietly eststo: reghdfe `var' i.multi_brand system_under online all_under selective i.iclevel ///\n",
    "pell_grants_per_fte_c_w white_share_w black_share_w hisp_share_w selective dpcttype* grad_rate_150_p_w, absorb(unitid year) cluster(systemid year)\n",
    "\n",
    "quietly eststo: reghdfe `var' i.multi_brand i.investor system_under online all_under selective i.iclevel ///\n",
    "pell_grants_per_fte_c_w white_share_w black_share_w hisp_share_w selective dpcttype* grad_rate_150_p_w, absorb(unitid year) cluster(systemid year)\n",
    "    \n",
    "quietly eststo: reghdfe `var' i.multi_brand##i.investor system_under online all_under selective i.iclevel ///\n",
    "pell_grants_per_fte_c_w white_share_w black_share_w hisp_share_w selective dpcttype* grad_rate_150_p_w, absorb(unitid year) cluster(systemid year)\n",
    "}"
   ]
  },
  {
   "cell_type": "code",
   "execution_count": 5,
   "metadata": {},
   "outputs": [],
   "source": [
    "quietly gen l2multi_brand=l2.multi_brand\n",
    "quietly replace multi_brand=l2multi_brand\n",
    "\n",
    "quietly eststo: reghdfe ft_faculty_per_100fte_w i. multi_brand system_under online all_under selective ///\n",
    "pell_grants_per_fte_c_w white_share_w black_share_w hisp_share_w i.iclevel dpcttype* tuitionall_c_w, absorb(unitid year) cluster(systemid year)\n",
    "\n",
    "quietly eststo: reghdfe ft_faculty_per_100fte_w i.multi_brand i.investor system_under online all_under selective ///\n",
    "pell_grants_per_fte_c_w white_share_w black_share_w hisp_share_w i.iclevel dpcttype* tuitionall_c_w, absorb(unitid year) cluster(systemid year)\n",
    "\n",
    "quietly eststo: reghdfe ft_faculty_per_100fte_w i.multi_brand##i.investor system_under online all_under selective ///\n",
    "pell_grants_per_fte_c_w white_share_w black_share_w hisp_share_w i.iclevel dpcttype* tuitionall_c_w, absorb(unitid year) cluster(systemid year)"
   ]
  },
  {
   "cell_type": "code",
   "execution_count": 6,
   "metadata": {},
   "outputs": [],
   "source": [
    "quietly use data/d_unitidasymmetry, clear\n",
    "quietly xtset unitid year\n",
    "*est clear\n",
    "\n",
    "quietly eststo: reghdfe grad_rate_150_p_w i.multi_brand system_under online all_under i.iclevel ///\n",
    "pell_grants_per_fte_c_w white_share_w black_share_w hisp_share_w selective dpcttype* tuitionall_c_w, absorb(unitid year) cluster(systemid year)\n",
    "\n",
    "quietly eststo: reghdfe grad_rate_150_p_w i.multi_brand i.investor system_under online all_under i.iclevel ///\n",
    "pell_grants_per_fte_c_w white_share_w black_share_w hisp_share_w selective dpcttype* tuitionall_c_w, absorb(unitid year) cluster(systemid year)\n",
    "\n",
    "quietly eststo: reghdfe grad_rate_150_p_w i.multi_brand##i.investor system_under online all_under i.iclevel ///\n",
    "pell_grants_per_fte_c_w white_share_w black_share_w hisp_share_w selective dpcttype* tuitionall_c_w, absorb(unitid year) cluster(systemid year)"
   ]
  },
  {
   "cell_type": "code",
   "execution_count": 7,
   "metadata": {},
   "outputs": [],
   "source": [
    "quietly use data/d_opeidasymmetry, clear\n",
    "qui keep if rankopeid==1\n",
    "quietly gen l2multi_brand=l2.multi_brand\n",
    "quietly replace multi_brand=l2multi_brand\n",
    "\n",
    "quietly eststo: reghdfe mn_earn_wne_p6_c_w i.multi_brand system_under all_under selective online i.iclevel dpcttype* ///\n",
    "white_share_w black_share_w hisp_share_w earn_pct_lo dpcttype* tuitionall_c_w, absorb(opeid year) cluster(systemid year)\n",
    "\n",
    "quietly eststo: reghdfe mn_earn_wne_p6_c_w i.multi_brand i.investor system_under all_under selective online i.iclevel dpcttype* ///\n",
    "white_share_w black_share_w hisp_share_w earn_pct_lo dpcttype* tuitionall_c_w, absorb(opeid year) cluster(systemid year)\n",
    "\n",
    "quietly eststo: reghdfe mn_earn_wne_p6_c_w i.multi_brand##i.investor system_under all_under selective online i.iclevel dpcttype* ///\n",
    "white_share_w black_share_w hisp_share_w earn_pct_lo dpcttype* tuitionall_c_w, absorb(opeid year) cluster(systemid year)\n",
    " \n",
    "quietly eststo: reghdfe rpy_3yr_rt_supp_w i.multi_brand system_under all_under selective online i.iclevel dpcttype* ///\n",
    "white_share_w black_share_w hisp_share_w rpy_3yr_pct_lo dpcttype* tuitionall_c_w, absorb(opeid year) cluster(systemid year)\n",
    "\n",
    "quietly eststo: reghdfe rpy_3yr_rt_supp_w i.multi_brand i.investor system_under all_under selective online i.iclevel dpcttype* ///\n",
    "white_share_w black_share_w hisp_share_w rpy_3yr_pct_lo dpcttype* tuitionall_c_w, absorb(opeid year) cluster(systemid year)\n",
    "\n",
    "quietly eststo: reghdfe rpy_3yr_rt_supp_w i.multi_brand##i.investor system_under all_under selective online i.iclevel dpcttype* ///\n",
    "white_share_w black_share_w hisp_share_w rpy_3yr_pct_lo dpcttype* tuitionall_c_w, absorb(opeid year) cluster(systemid year)"
   ]
  },
  {
   "cell_type": "code",
   "execution_count": 8,
   "metadata": {},
   "outputs": [],
   "source": [
    "quietly use data/d_unitidasymmetry, clear\n",
    "\n",
    "quietly collapse (rawsum) sftesale sftetotl (mean) all_under system_under grad_rate_150_p_w ///\n",
    "loan_amount_borrower_c_w tuitionall_c_w selective white_share_w black_share_w hisp_share_w ///\n",
    "pell_grants_per_fte_c_w ft_faculty_per_100fte_w dpcttype_health dpcttype_law ///\n",
    "dpcttype_culinarycosmetic dpcttype_arts dpcttype_tech dpcttype_biz online ///\n",
    "(first) state_n (min) iclevel (max) investor law_enf_frst_this_yr multi_brand ///\n",
    ", by(systemid year)\n",
    "\n",
    "quietly xtset systemid year\n",
    "\n",
    "quietly label var multi_brand \"multi-brand\"\n",
    "\n",
    "quietly eststo: reghdfe f2.law_enf_frst_this_yr i.multi_brand ///\n",
    "system_under online i.iclevel selective white_share_w black_share_w ///\n",
    "hisp_share_w pell_grants_per_fte_c_w dpcttype*, ///\n",
    "absorb(systemid year) cluster(systemid year)\n",
    "\n",
    "quietly eststo: reghdfe f2.law_enf_frst_this_yr i.multi_brand i.investor ///\n",
    "system_under online i.iclevel selective white_share_w black_share_w ///\n",
    "hisp_share_w pell_grants_per_fte_c_w dpcttype*, ///\n",
    "absorb(systemid year) cluster(systemid year)\n",
    "\n",
    "quietly eststo: reghdfe f2.law_enf_frst_this_yr i.multi_brand##i.investor ///\n",
    "system_under online i.iclevel selective white_share_w black_share_w ///\n",
    "hisp_share_w pell_grants_per_fte_c_w dpcttype*, ///\n",
    "absorb(systemid year) cluster(systemid year)\n",
    "\n",
    "qui esttab est1 est2 est3 est4 est5 est6 est7 est8 est9 using tables/t6_fepredmultiinvestor1.rtf,  replace ///\n",
    "keep (1.multi_brand 1.investor 1.multi_brand#1.investor) ///\n",
    "varlabels(1.multi_brand \"multi-brand\" 1.investor \"investor\" 1.multi_brand#1.investor \"multi-brand investor\") ///\n",
    "se(%9.2fc) b(%9.2fc) nogaps eqlabels(none) ///\n",
    " star(* 0.05 ** 0.01 *** 0.001) varwidth(15) nocon label ///\n",
    "stats(r2 N, fmt(2 %9.0fc) label(\"r2\" \"N\")) ///\n",
    " mtitle(\"tuition (1,000s)\" \"tuition (1,000s)\" \"tuition (1,000s)\"  ///\n",
    "\"loan (1,000s)\" \"loan (1,000s)\" \"loan (1,000s)\" \"faculty\" \"faculty\" \"faculty\" )\n",
    "\n",
    "qui esttab est10 est11 est12 est13 est14 est15 est16 est17 est18 using tables/t6_fepredmultiinvestor2.rtf,  replace ///\n",
    "keep (1.multi_brand 1.investor 1.multi_brand#1.investor) ///\n",
    "varlabels(1.multi_brand \"multi-brand\" 1.investor \"investor\" 1.multi_brand#1.investor \"multi-brand X investor\") ///\n",
    "se(%9.2fc) b(%9.2fc) nogaps eqlabels(none) ///\n",
    " star(* 0.05 ** 0.01 *** 0.001) varwidth(15) nocon label ///\n",
    "stats(r2 r2_p N, fmt(2 3 %9.0fc) label(\"r2\" \"N\")) ///\n",
    " mtitle(\"grad rate\" \"grad rate\" \"grad rate\" ///\n",
    "\"earnings (1,000s)\" \"earnings (1,000s)\" \"earnings (1,000s)\" \"% repay\" \"% repay\" \"% repay\")\n",
    "\n",
    "qui esttab est19 est20 est21 using tables/t6_fepredmultiinvestor3.rtf,  replace ///\n",
    "keep (1.multi_brand 1.investor 1.multi_brand#1.investor) ///\n",
    "varlabels(1.multi_brand \"multi-brand\" 1.investor \"investor\" 1.multi_brand#1.investor \"multi-brand X investor\") ///\n",
    "se(%9.2fc) b(%9.2fc) nogaps eqlabels(none) ///\n",
    " star(* 0.05 ** 0.01 *** 0.001) varwidth(15) nocon label ///\n",
    "stats(r2 N, fmt(2 3 %9.0fc) label(\"r2\" \"N\")) ///\n",
    " mtitle( \"legal\" \"legal\" \"legal\")"
   ]
  },
  {
   "cell_type": "code",
   "execution_count": 9,
   "metadata": {},
   "outputs": [
    {
     "data": {
      "text/html": [
       "\n",
       "<table border=\"0\" width=\"*\">\n",
       "<tr><td colspan=22><hr></td></tr>\n",
       "<tr><td>               </td><td>         (1)              </td><td>         (2)              </td><td>         (3)              </td><td>         (4)              </td><td>         (5)              </td><td>         (6)              </td><td>         (7)              </td><td>         (8)              </td><td>         (9)              </td><td>        (10)              </td><td>        (11)              </td><td>        (12)              </td><td>        (13)              </td><td>        (14)              </td><td>        (15)              </td><td>        (16)              </td><td>        (17)              </td><td>        (18)              </td><td>        (19)              </td><td>        (20)              </td><td>        (21)              </td></tr>\n",
       "<tr><td>               </td><td>tuition (1,000s)              </td><td>tuition (1,000s)              </td><td>tuition (1,000s)              </td><td>loan (1,000s)              </td><td>loan (1,000s)              </td><td>loan (1,000s)              </td><td>     faculty              </td><td>     faculty              </td><td>     faculty              </td><td>  %grad rate              </td><td> % grad rate              </td><td> % grad rate              </td><td>earnings (1,000s)              </td><td>earnings (1,000s)              </td><td>earnings (1,000s)              </td><td>     % repay              </td><td>     % repay              </td><td>     % repay              </td><td>       legal              </td><td>       legal              </td><td>       legal              </td></tr>\n",
       "<tr><td colspan=22><hr></td></tr>\n",
       "<tr><td>multi-brand    </td><td>        0.99<sup>*</sup>  </td><td>        1.07<sup>*</sup>  </td><td>        1.59              </td><td>        0.57              </td><td>        0.41              </td><td>        0.49              </td><td>       -0.39<sup>*</sup>  </td><td>       -0.35<sup>*</sup>  </td><td>       -0.20              </td><td>       -2.56<sup>*</sup>  </td><td>       -1.76              </td><td>       -5.16<sup>**</sup> </td><td>       -1.00<sup>*</sup>  </td><td>       -1.00<sup>*</sup>  </td><td>       -1.06              </td><td>       -1.35<sup>*</sup>  </td><td>       -1.31<sup>*</sup>  </td><td>       -2.11<sup>*</sup>  </td><td>        0.02<sup>*</sup>  </td><td>        0.02<sup>*</sup>  </td><td>        0.01              </td></tr>\n",
       "<tr><td>               </td><td>      (0.37)              </td><td>      (0.42)              </td><td>      (0.80)              </td><td>      (0.33)              </td><td>      (0.35)              </td><td>      (0.66)              </td><td>      (0.16)              </td><td>      (0.16)              </td><td>      (0.30)              </td><td>      (0.98)              </td><td>      (0.94)              </td><td>      (1.48)              </td><td>      (0.37)              </td><td>      (0.35)              </td><td>      (0.52)              </td><td>      (0.39)              </td><td>      (0.40)              </td><td>      (0.66)              </td><td>      (0.01)              </td><td>      (0.01)              </td><td>      (0.01)              </td></tr>\n",
       "<tr><td>investor owned </td><td>                          </td><td>       -0.28              </td><td>       -0.06              </td><td>                          </td><td>        0.69              </td><td>        0.71              </td><td>                          </td><td>       -0.35              </td><td>       -0.30              </td><td>                          </td><td>       -3.01<sup>**</sup> </td><td>       -4.38<sup>***</sup></td><td>                          </td><td>       -0.42              </td><td>       -0.44              </td><td>                          </td><td>       -1.63              </td><td>       -1.82              </td><td>                          </td><td>        0.01<sup>*</sup>  </td><td>        0.01<sup>*</sup>  </td></tr>\n",
       "<tr><td>               </td><td>                          </td><td>      (0.58)              </td><td>      (0.61)              </td><td>                          </td><td>      (0.43)              </td><td>      (0.45)              </td><td>                          </td><td>      (0.20)              </td><td>      (0.22)              </td><td>                          </td><td>      (1.04)              </td><td>      (0.97)              </td><td>                          </td><td>      (0.48)              </td><td>      (0.53)              </td><td>                          </td><td>      (0.83)              </td><td>      (0.87)              </td><td>                          </td><td>      (0.01)              </td><td>      (0.01)              </td></tr>\n",
       "<tr><td>multi-brand X investor</td><td>                          </td><td>                          </td><td>       -0.83              </td><td>                          </td><td>                          </td><td>       -0.12              </td><td>                          </td><td>                          </td><td>       -0.21              </td><td>                          </td><td>                          </td><td>        5.37<sup>**</sup> </td><td>                          </td><td>                          </td><td>        0.12              </td><td>                          </td><td>                          </td><td>        1.31              </td><td>                          </td><td>                          </td><td>        0.01              </td></tr>\n",
       "<tr><td>               </td><td>                          </td><td>                          </td><td>      (1.16)              </td><td>                          </td><td>                          </td><td>      (0.74)              </td><td>                          </td><td>                          </td><td>      (0.32)              </td><td>                          </td><td>                          </td><td>      (1.80)              </td><td>                          </td><td>                          </td><td>      (0.65)              </td><td>                          </td><td>                          </td><td>      (0.94)              </td><td>                          </td><td>                          </td><td>      (0.02)              </td></tr>\n",
       "<tr><td colspan=22><hr></td></tr>\n",
       "<tr><td>r2             </td><td>        0.74              </td><td>        0.74              </td><td>        0.74              </td><td>        0.54              </td><td>        0.54              </td><td>        0.54              </td><td>        0.64              </td><td>        0.64              </td><td>        0.64              </td><td>        0.66              </td><td>        0.66              </td><td>        0.66              </td><td>        0.94              </td><td>        0.94              </td><td>        0.94              </td><td>        0.92              </td><td>        0.92              </td><td>        0.92              </td><td>        0.09              </td><td>        0.09              </td><td>        0.09              </td></tr>\n",
       "<tr><td>N              </td><td>      16,740              </td><td>      16,740              </td><td>      16,740              </td><td>      14,629              </td><td>      14,629              </td><td>      14,629              </td><td>       9,402              </td><td>       9,402              </td><td>       9,402              </td><td>      16,740              </td><td>      16,740              </td><td>      16,740              </td><td>       5,748              </td><td>       5,748              </td><td>       5,748              </td><td>       9,143              </td><td>       9,143              </td><td>       9,143              </td><td>      21,622              </td><td>      21,622              </td><td>      21,622              </td></tr>\n",
       "<tr><td colspan=22><hr></td></tr>\n",
       "<tr><td colspan=22>\n",
       "Standard errors in parentheses\n",
       "<br /><sup>*</sup> <i>p</i> < 0.05, <sup>**</sup> <i>p</i> < 0.01, <sup>***</sup> <i>p</i> < 0.001\n",
       "</td></tr>\n",
       "</table>\n",
       "\n"
      ],
      "text/plain": [
       "This front-end or document format cannot display HTML"
      ]
     },
     "metadata": {},
     "output_type": "display_data"
    }
   ],
   "source": [
    "%html\n",
    "esttab, html ///\n",
    "keep (1.multi_brand 1.investor 1.multi_brand#1.investor) ///\n",
    "varlabels(1.multi_brand \"multi-brand\" 1.investor \"investor owned\" ///\n",
    "1.multi_brand#1.investor \"multi-brand X investor\") ///\n",
    "se(%9.2fc) b(%9.2fc) nogaps ///\n",
    " star(* 0.05 ** 0.01 *** 0.001) varwidth(15) nocon label ///\n",
    "stats(r2 N, fmt(2 %9.0fc) label(\"r2\" \"N\")) ///\n",
    " mtitle(\"tuition (1,000s)\" \"tuition (1,000s)\" \"tuition (1,000s)\" \"loan (1,000s)\" \"loan (1,000s)\" \"loan (1,000s)\" ///\n",
    "\"faculty\" \"faculty\" \"faculty\" \"%grad rate\" \"% grad rate\" \"% grad rate\" \"earnings (1,000s)\" ///\n",
    "\"earnings (1,000s)\" \"earnings (1,000s)\" \"% repay\" \"% repay\" \"% repay\" \"legal\" \"legal\" \"legal\")"
   ]
  },
  {
   "cell_type": "code",
   "execution_count": null,
   "metadata": {},
   "outputs": [],
   "source": []
  }
 ],
 "metadata": {
  "kernelspec": {
   "display_name": "Stata",
   "language": "stata",
   "name": "stata"
  },
  "language_info": {
   "codemirror_mode": "stata",
   "file_extension": ".do",
   "mimetype": "text/x-stata",
   "name": "stata",
   "version": "15.1"
  }
 },
 "nbformat": 4,
 "nbformat_minor": 4
}
