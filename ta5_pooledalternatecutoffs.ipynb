{
 "cells": [
  {
   "cell_type": "markdown",
   "metadata": {},
   "source": [
    "## Replication for \"Asymmetry by Design\", October 22, 2020\n",
    "### By Adam Goldstein and Charlie Eaton\n",
    "\n",
    "### Appendix Table A5: Pooled Estimates for Different Multi-brand Cutoffs"
   ]
  },
  {
   "cell_type": "markdown",
   "metadata": {},
   "source": [
    "Install STATA packages"
   ]
  },
  {
   "cell_type": "code",
   "execution_count": 1,
   "metadata": {},
   "outputs": [],
   "source": [
    "*ssc install estout\n",
    "*ssc install reghdfe"
   ]
  },
  {
   "cell_type": "markdown",
   "metadata": {},
   "source": [
    "Download datasets"
   ]
  },
  {
   "cell_type": "code",
   "execution_count": 2,
   "metadata": {},
   "outputs": [],
   "source": [
    "*"
   ]
  },
  {
   "cell_type": "code",
   "execution_count": 3,
   "metadata": {},
   "outputs": [],
   "source": [
    "quietly {\n",
    "    set more off\n",
    "\n",
    "est clear\n",
    "\n",
    "quietly use  data/d_unitidasymmetry, clear\n",
    "\n",
    "quietly collapse (rawsum) sftesale sftetotl (mean) all_under system_under grad_rate_150_p_w ///\n",
    "loan_amount_borrower_c_w tuitionall_c_w selective white_share_w black_share_w hisp_share_w ///\n",
    "pell_grants_per_fte_c_w ft_faculty_per_100fte_w dpcttype_health dpcttype_law ///\n",
    "dpcttype_culinarycosmetic dpcttype_arts dpcttype_tech dpcttype_biz online ///\n",
    "(first) state_n (min) iclevel (max) law_enf_frst_this_yr multi_brand ///\n",
    "    multi_brand2 multi_brand4, by(systemid year)\n",
    "    \n",
    "label var multi_brand \"multi-brand indicator\"\n",
    "quietly gen fracsales= sftesale /sftetotl * 100\n",
    "\n",
    "quietly label var fracsales \"% employees sales\"\n",
    "\n",
    "quietly xtset systemid year\n",
    "\n",
    "quietly eststo: reg fracsales multi_brand system_under  online selective ib3.iclevel ///\n",
    "pell_grants_per_fte_c_w white_share_w black_share_w hisp_share_w dpcttype* i.year i.state_n, cluster(systemid)\n",
    "\n",
    "quietly replace multi_brand=multi_brand2\n",
    "\n",
    "quietly eststo: reg fracsales multi_brand system_under  online selective ib3.iclevel ///\n",
    "pell_grants_per_fte_c_w white_share_w black_share_w hisp_share_w dpcttype* i.year i.state_n, cluster(systemid)\n",
    "\n",
    "quietly replace multi_brand=multi_brand4\n",
    "quietly eststo: reg fracsales multi_brand system_under  online selective ib3.iclevel ///\n",
    "pell_grants_per_fte_c_w white_share_w black_share_w hisp_share_w dpcttype* i.year i.state_n, cluster(systemid)\n",
    "}"
   ]
  },
  {
   "cell_type": "code",
   "execution_count": 4,
   "metadata": {},
   "outputs": [],
   "source": [
    "quietly use  data/d_unitidasymmetry, clear\n",
    "\n",
    "foreach var in tuitionall_c_w { \n",
    "    \n",
    "quietly eststo: reg `var' multi_brand system_under all_under online selective ib3.iclevel ///\n",
    "pell_grants_per_fte_c_w white_share_w black_share_w hisp_share_w dpcttype* grad_rate_150_p_w i.year i.state_n, cluster(systemid)\n",
    "\n",
    "    quietly replace multi_brand=multi_brand2\n",
    "quietly eststo: reg `var' multi_brand system_under all_under online selective ib3.iclevel ///\n",
    "pell_grants_per_fte_c_w white_share_w black_share_w hisp_share_w dpcttype* grad_rate_150_p_w i.year i.state_n, cluster(systemid)\n",
    "\n",
    "    quietly replace multi_brand=multi_brand4\n",
    "quietly eststo: reg `var' multi_brand system_under all_under online selective ib3.iclevel ///\n",
    "pell_grants_per_fte_c_w white_share_w black_share_w hisp_share_w dpcttype* grad_rate_150_p_w i.year i.state_n, cluster(systemid)   \n",
    "}\n",
    "\n",
    "label var multi_brand \"multi-brand indicator\"\n",
    "\n",
    "quietly esttab using tables/ta5a_altcutoffs.rtf, ///\n",
    " keep(multi_brand) nolegend stats( ) ///\n",
    "se(%9.1fc) b(%9.1fc) nogaps label nonumbers ///\n",
    " star(* 0.05 ** 0.01 *** 0.001) note(\"\") ///\n",
    "mlabels(\"3-brand\" \"2-brand\" \"4-brand\" \"3-brand\" \"2-brand\" \"4-brand\") ///\n",
    "mgroups(\"Sales\" \"Tuition\", pattern(1 0 0 1 0 0 1 0 0)) varwidth(10) replace"
   ]
  },
  {
   "cell_type": "code",
   "execution_count": 5,
   "metadata": {},
   "outputs": [
    {
     "data": {
      "text/html": [
       "\n",
       "<table border=\"0\" width=\"*\">\n",
       "<tr><td colspan=7><hr></td></tr>\n",
       "<tr><td>          </td><td>       Sales              </td><td>                          </td><td>                          </td><td>     Tuition              </td><td>                          </td><td>                          </td></tr>\n",
       "<tr><td>          </td><td>     3-brand              </td><td>     2-brand              </td><td>     4-brand              </td><td>     3-brand              </td><td>     2-brand              </td><td>     4-brand              </td></tr>\n",
       "<tr><td colspan=7><hr></td></tr>\n",
       "<tr><td>multi-brand indicator</td><td>         4.4<sup>*</sup>  </td><td>         2.6<sup>*</sup>  </td><td>         5.6<sup>*</sup>  </td><td>         2.8<sup>***</sup></td><td>         2.9<sup>***</sup></td><td>         1.9<sup>**</sup> </td></tr>\n",
       "<tr><td>          </td><td>       (1.7)              </td><td>       (1.1)              </td><td>       (2.2)              </td><td>       (0.7)              </td><td>       (0.6)              </td><td>       (0.7)              </td></tr>\n",
       "<tr><td colspan=7><hr></td></tr>\n",
       "<tr><td colspan=7><hr></td></tr>\n",
       "<tr><td colspan=7>\n",
       "\n",
       "</td></tr>\n",
       "</table>\n",
       "\n"
      ],
      "text/plain": [
       "This front-end or document format cannot display HTML"
      ]
     },
     "metadata": {},
     "output_type": "display_data"
    }
   ],
   "source": [
    "%html\n",
    "esttab, ///\n",
    " keep(multi_brand) nolegend stats( ) ///\n",
    " se(%9.1fc) b(%9.1fc) nogaps label html nonumbers ///\n",
    " star(* 0.05 ** 0.01 *** 0.001) note(\"\") ///\n",
    "mlabels(\"3-brand\" \"2-brand\" \"4-brand\" \"3-brand\" \"2-brand\" \"4-brand\") ///\n",
    "mgroups(\"Sales\" \"Tuition\", pattern(1 0 0 1 0 0 1 0 0)) varwidth(10) replace"
   ]
  },
  {
   "cell_type": "code",
   "execution_count": 6,
   "metadata": {},
   "outputs": [],
   "source": [
    "quietly {\n",
    "quietly use  data/d_unitidasymmetry, clear\n",
    "quietly est clear\n",
    "quietly xtset unitid year\n",
    "    \n",
    "foreach var in loan_amount_borrower_c_w { \n",
    "    \n",
    "quietly eststo: reg `var' multi_brand system_under all_under online selective ib3.iclevel ///\n",
    "pell_grants_per_fte_c_w white_share_w black_share_w hisp_share_w dpcttype* grad_rate_150_p_w i.year i.state_n, cluster(systemid)\n",
    "\n",
    "    quietly replace multi_brand=multi_brand2\n",
    "quietly eststo: reg `var' multi_brand system_under all_under online selective ib3.iclevel ///\n",
    "pell_grants_per_fte_c_w white_share_w black_share_w hisp_share_w dpcttype* grad_rate_150_p_w i.year i.state_n, cluster(systemid)\n",
    "\n",
    "    quietly replace multi_brand=multi_brand4\n",
    "quietly eststo: reg `var' multi_brand system_under all_under online selective ib3.iclevel ///\n",
    "pell_grants_per_fte_c_w white_share_w black_share_w hisp_share_w dpcttype* grad_rate_150_p_w i.year i.state_n, cluster(systemid)   \n",
    "}\n",
    "\n",
    "quietly xtset unitid year\n",
    "quietly gen l2investor=l2.investor\n",
    "quietly gen l2multi_brand=l2.multi_brand\n",
    "quietly replace investor=l2investor\n",
    "quietly replace multi_brand=l2multi_brand\n",
    "\n",
    "quietly eststo: reg ft_faculty_per_100fte_w multi_brand investor system_under all_under online selective ib3.iclevel ///\n",
    "pell_grants_per_fte_c_w white_share_w black_share_w hisp_share_w dpcttype* tuitionall_c_w i.year i.state_n, cluster(systemid)\n",
    "\n",
    "quietly replace multi_brand=multi_brand2\n",
    "quietly eststo: reg ft_faculty_per_100fte_w multi_brand investor system_under all_under online selective ib3.iclevel ///\n",
    "pell_grants_per_fte_c_w white_share_w black_share_w hisp_share_w dpcttype* tuitionall_c_w i.year i.state_n, cluster(systemid)\n",
    "\n",
    "quietly replace multi_brand=multi_brand4\n",
    "quietly eststo: reg ft_faculty_per_100fte_w multi_brand investor system_under all_under online selective ib3.iclevel ///\n",
    "pell_grants_per_fte_c_w white_share_w black_share_w hisp_share_w dpcttype* tuitionall_c_w i.year i.state_n, cluster(systemid)\n",
    "    \n",
    "quietly esttab using tables/ta5b_altcutoffs.rtf, ///\n",
    " keep(multi_brand) nolegend stats( ) ///\n",
    "se(%9.1fc) b(%9.1fc) nogaps label nonumbers ///\n",
    " star(* 0.05 ** 0.01 *** 0.001) note(\"\") ///\n",
    "mlabels(\"3-brand\" \"2-brand\" \"4-brand\" \"3-brand\" \"2-brand\" \"4-brand\") ///\n",
    "mgroups(\"Borrowing\" \"Faculty\", pattern(1 0 0 1 0 0 1 0 0)) varwidth(10) replace\n",
    "}"
   ]
  },
  {
   "cell_type": "code",
   "execution_count": 7,
   "metadata": {},
   "outputs": [
    {
     "data": {
      "text/html": [
       "\n",
       "<table border=\"0\" width=\"*\">\n",
       "<tr><td colspan=7><hr></td></tr>\n",
       "<tr><td>          </td><td>   Borrowing              </td><td>                          </td><td>                          </td><td>     Faculty              </td><td>                          </td><td>                          </td></tr>\n",
       "<tr><td>          </td><td>     3-brand              </td><td>     2-brand              </td><td>     4-brand              </td><td>     3-brand              </td><td>     2-brand              </td><td>     4-brand              </td></tr>\n",
       "<tr><td colspan=7><hr></td></tr>\n",
       "<tr><td>multi-brand</td><td>         0.6<sup>*</sup>  </td><td>         0.7<sup>**</sup> </td><td>         0.6<sup>**</sup> </td><td>        -0.5<sup>***</sup></td><td>        -0.3              </td><td>        -0.4<sup>**</sup> </td></tr>\n",
       "<tr><td>          </td><td>       (0.2)              </td><td>       (0.3)              </td><td>       (0.2)              </td><td>       (0.1)              </td><td>       (0.2)              </td><td>       (0.1)              </td></tr>\n",
       "<tr><td colspan=7><hr></td></tr>\n",
       "<tr><td colspan=7><hr></td></tr>\n",
       "<tr><td colspan=7>\n",
       "\n",
       "</td></tr>\n",
       "</table>\n",
       "\n"
      ],
      "text/plain": [
       "This front-end or document format cannot display HTML"
      ]
     },
     "metadata": {},
     "output_type": "display_data"
    }
   ],
   "source": [
    "%html\n",
    "esttab, ///\n",
    " keep(multi_brand) nolegend stats( ) ///\n",
    " se(%9.1fc) b(%9.1fc) nogaps label html nonumbers ///\n",
    " star(* 0.05 ** 0.01 *** 0.001) note(\"\") ///\n",
    "mlabels(\"3-brand\" \"2-brand\" \"4-brand\" \"3-brand\" \"2-brand\" \"4-brand\") ///\n",
    "mgroups(\"Borrowing\" \"Faculty\", pattern(1 0 0 1 0 0 1 0 0)) varwidth(10) replace"
   ]
  },
  {
   "cell_type": "code",
   "execution_count": 8,
   "metadata": {},
   "outputs": [],
   "source": [
    "quietly {\n",
    "quietly use  data/d_unitidasymmetry, clear\n",
    "quietly est clear\n",
    "quietly xtset unitid year\n",
    "    \n",
    "foreach var in grad_rate_150_p4yr_w grad_rate_150_p2yr_w { \n",
    "\n",
    "quietly eststo: reg `var' multi_brand system_under all_under online selective ib3.iclevel ///\n",
    "pell_grants_per_fte_c_w white_share_w black_share_w hisp_share_w dpcttype* tuitionall_c_w i.year i.state_n, cluster(systemid)\n",
    "\n",
    "quietly replace multi_brand=multi_brand2\n",
    "    quietly eststo: reg `var' multi_brand system_under all_under online selective ib3.iclevel ///\n",
    "pell_grants_per_fte_c_w white_share_w black_share_w hisp_share_w dpcttype* tuitionall_c_w i.year i.state_n, cluster(systemid)\n",
    "\n",
    "quietly replace multi_brand=multi_brand4\n",
    "    quietly eststo: reg `var' multi_brand system_under all_under online selective ib3.iclevel ///\n",
    "pell_grants_per_fte_c_w white_share_w black_share_w hisp_share_w dpcttype* tuitionall_c_w i.year i.state_n, cluster(systemid)\n",
    "    }\n",
    "quietly esttab using tables/ta5c_altcutoffs.rtf, ///\n",
    " keep(multi_brand) nolegend stats( ) ///\n",
    "se(%9.1fc) b(%9.1fc) nogaps label nonumbers ///\n",
    " star(* 0.05 ** 0.01 *** 0.001) note(\"\") ///\n",
    "mlabels(\"3-brand\" \"2-brand\" \"4-brand\" \"3-brand\" \"2-brand\" \"4-brand\") ///\n",
    "mgroups(\"4-year grad rate\" \"Other grad rate\", pattern(1 0 0 1 0 0 1 0 0)) varwidth(10) replace  \n",
    "}"
   ]
  },
  {
   "cell_type": "code",
   "execution_count": 9,
   "metadata": {},
   "outputs": [
    {
     "data": {
      "text/html": [
       "\n",
       "<table border=\"0\" width=\"*\">\n",
       "<tr><td colspan=7><hr></td></tr>\n",
       "<tr><td>          </td><td>4-year grad rate              </td><td>                          </td><td>                          </td><td>Other grad rate              </td><td>                          </td><td>                          </td></tr>\n",
       "<tr><td>          </td><td>     3-brand              </td><td>     2-brand              </td><td>     4-brand              </td><td>     3-brand              </td><td>     2-brand              </td><td>     4-brand              </td></tr>\n",
       "<tr><td colspan=7><hr></td></tr>\n",
       "<tr><td>multi-brand</td><td>        -5.7<sup>**</sup> </td><td>        -7.0<sup>**</sup> </td><td>        -6.5<sup>**</sup> </td><td>        -1.0              </td><td>        -1.0              </td><td>        -1.0              </td></tr>\n",
       "<tr><td>          </td><td>       (2.1)              </td><td>       (2.3)              </td><td>       (2.5)              </td><td>       (2.6)              </td><td>       (1.7)              </td><td>       (2.6)              </td></tr>\n",
       "<tr><td colspan=7><hr></td></tr>\n",
       "<tr><td colspan=7><hr></td></tr>\n",
       "<tr><td colspan=7>\n",
       "\n",
       "</td></tr>\n",
       "</table>\n",
       "\n"
      ],
      "text/plain": [
       "This front-end or document format cannot display HTML"
      ]
     },
     "metadata": {},
     "output_type": "display_data"
    }
   ],
   "source": [
    "%html\n",
    "esttab, ///\n",
    " keep(multi_brand) nolegend stats( ) ///\n",
    " se(%9.1fc) b(%9.1fc) nogaps label html nonumbers ///\n",
    " star(* 0.05 ** 0.01 *** 0.001) note(\"\") ///\n",
    "mlabels(\"3-brand\" \"2-brand\" \"4-brand\" \"3-brand\" \"2-brand\" \"4-brand\") ///\n",
    "mgroups(\"4-year grad rate\" \"Other grad rate\", pattern(1 0 0 1 0 0 1 0 0)) varwidth(10) replace"
   ]
  },
  {
   "cell_type": "code",
   "execution_count": 10,
   "metadata": {},
   "outputs": [],
   "source": [
    " quietly {\n",
    "     quietly use  data/d_opeidasymmetry, clear\n",
    "est clear\n",
    "     keep if rankopeid==1\n",
    "xtset opeid year\n",
    "\n",
    "quietly replace rpy_3yr_pct_lo=earn_pct_lo\n",
    "    \n",
    "quietly gen l2multi_brand=l2.multi_brand\n",
    "quietly replace multi_brand=l2multi_brand\n",
    "\n",
    "quietly eststo: reg mn_earn_wne_p6_c_w multi_brand ///\n",
    "all_under system_under online selective ib3.iclevel rpy_3yr_pct_lo ///\n",
    "white_share_w black_share_w hisp_share_w dpcttype* i.year tuitionall_c_w i.state_n if rankopeid==1, cluster(systemid)\n",
    "\n",
    "quietly replace multi_brand=multi_brand2\n",
    "quietly replace l2multi_brand=l2.multi_brand\n",
    "quietly replace multi_brand=l2multi_brand\n",
    "quietly eststo: reg mn_earn_wne_p6_c_w multi_brand ///\n",
    "all_under system_under online selective ib3.iclevel rpy_3yr_pct_lo ///\n",
    "white_share_w black_share_w hisp_share_w dpcttype* i.year tuitionall_c_w i.state_n if rankopeid==1, cluster(systemid)\n",
    "\n",
    "quietly replace multi_brand=multi_brand4\n",
    "quietly replace l2multi_brand=l2.multi_brand\n",
    "quietly replace multi_brand=l2multi_brand\n",
    "quietly eststo: reg mn_earn_wne_p6_c_w multi_brand ///\n",
    "all_under system_under online selective ib3.iclevel rpy_3yr_pct_lo ///\n",
    "white_share_w black_share_w hisp_share_w dpcttype* i.year tuitionall_c_w i.state_n if rankopeid==1, cluster(systemid)\n",
    "\n",
    "    quietly use  data/d_opeidasymmetry, clear\n",
    "keep if rankopeid==1\n",
    "xtset opeid year\n",
    "\n",
    "quietly gen l2multi_brand=l2.multi_brand\n",
    "quietly replace multi_brand=l2multi_brand\n",
    "\n",
    "quietly eststo: reg rpy_3yr_rt_supp_w multi_brand ///\n",
    "all_under system_under online selective ib3.iclevel rpy_3yr_pct_lo ///\n",
    "white_share_w black_share_w hisp_share_w dpcttype* i.year tuitionall_c_w i.state_n if rankopeid==1, cluster(systemid)\n",
    "\n",
    "quietly replace multi_brand=multi_brand2\n",
    "quietly replace l2multi_brand=l2.multi_brand\n",
    "quietly replace multi_brand=l2multi_brand\n",
    "    quietly eststo: reg rpy_3yr_rt_supp_w multi_brand ///\n",
    "all_under system_under online selective ib3.iclevel rpy_3yr_pct_lo ///\n",
    "white_share_w black_share_w hisp_share_w dpcttype* i.year tuitionall_c_w i.state_n if rankopeid==1, cluster(systemid)\n",
    "\n",
    "quietly replace multi_brand=multi_brand4\n",
    "quietly replace l2multi_brand=l2.multi_brand\n",
    "quietly replace multi_brand=l2multi_brand\n",
    "        quietly eststo: reg rpy_3yr_rt_supp_w multi_brand  ///\n",
    "all_under system_under online selective ib3.iclevel rpy_3yr_pct_lo ///\n",
    "white_share_w black_share_w hisp_share_w dpcttype* i.year tuitionall_c_w i.state_n if rankopeid==1, cluster(systemid)\n",
    "\n",
    "    label var multi_brand \"multi-brand indicator\"\n",
    "\n",
    "quietly esttab using tables/ta5d_altcutoffs.rtf, ///\n",
    " keep(multi_brand) nolegend stats( ) ///\n",
    "se(%9.1fc) b(%9.1fc) nogaps label nonumbers ///\n",
    " star(* 0.05 ** 0.01 *** 0.001) note(\"\") ///\n",
    "mlabels(\"3-brand\" \"2-brand\" \"4-brand\" \"3-brand\" \"2-brand\" \"4-brand\") ///\n",
    "mgroups(\"Earnings\" \"Repayment\", pattern(1 0 0 1 0 0 1 0 0)) varwidth(10) replace  \n",
    "}"
   ]
  },
  {
   "cell_type": "code",
   "execution_count": 11,
   "metadata": {},
   "outputs": [
    {
     "data": {
      "text/html": [
       "\n",
       "<table border=\"0\" width=\"*\">\n",
       "<tr><td colspan=7><hr></td></tr>\n",
       "<tr><td>          </td><td>    Earnings              </td><td>                          </td><td>                          </td><td>   Repayment              </td><td>                          </td><td>                          </td></tr>\n",
       "<tr><td>          </td><td>     3-brand              </td><td>     2-brand              </td><td>     4-brand              </td><td>     3-brand              </td><td>     2-brand              </td><td>     4-brand              </td></tr>\n",
       "<tr><td colspan=7><hr></td></tr>\n",
       "<tr><td>multi-brand indicator</td><td>        -1.8<sup>***</sup></td><td>        -1.1<sup>**</sup> </td><td>        -1.6<sup>***</sup></td><td>        -3.8<sup>**</sup> </td><td>        -3.7<sup>***</sup></td><td>        -3.4<sup>*</sup>  </td></tr>\n",
       "<tr><td>          </td><td>       (0.4)              </td><td>       (0.3)              </td><td>       (0.5)              </td><td>       (1.2)              </td><td>       (1.0)              </td><td>       (1.4)              </td></tr>\n",
       "<tr><td colspan=7><hr></td></tr>\n",
       "<tr><td colspan=7><hr></td></tr>\n",
       "<tr><td colspan=7>\n",
       "\n",
       "</td></tr>\n",
       "</table>\n",
       "\n"
      ],
      "text/plain": [
       "This front-end or document format cannot display HTML"
      ]
     },
     "metadata": {},
     "output_type": "display_data"
    }
   ],
   "source": [
    "%html\n",
    "esttab, ///\n",
    " keep(multi_brand) nolegend stats( ) ///\n",
    " se(%9.1fc) b(%9.1fc) nogaps label html nonumbers ///\n",
    " star(* 0.05 ** 0.01 *** 0.001) note(\"\") ///\n",
    "mlabels(\"3-brand\" \"2-brand\" \"4-brand\" \"3-brand\" \"2-brand\" \"4-brand\") ///\n",
    "mgroups(\"Earnings\" \"Repayment\", pattern(1 0 0 1 0 0 1 0 0)) varwidth(10) replace"
   ]
  },
  {
   "cell_type": "code",
   "execution_count": 12,
   "metadata": {},
   "outputs": [],
   "source": [
    "quietly {\n",
    "    est clear\n",
    "quietly use  data/d_opeidasymmetry, clear\n",
    "replace pell_grants_per_fte_c_w=l1.pell_grants_per_fte_c_w if year==2016\n",
    "\n",
    "quietly gen l2multi_brand=l2.multi_brand\n",
    "quietly replace multi_brand=l2multi_brand\n",
    "   \n",
    "quietly eststo: nbreg claimcount multi_brand ///\n",
    "all_under system_under online selective ib3.iclevel ///\n",
    "white_share_w black_share_w hisp_share_w  dpcttype* ///\n",
    "pell_grants_per_fte_c_w i.state_n, vce(cluster systemid) noomitted\n",
    "    \n",
    "quietly replace multi_brand=multi_brand2\n",
    "quietly replace l2multi_brand=l2.multi_brand\n",
    "quietly replace multi_brand=l2multi_brand  \n",
    "    quietly eststo: nbreg claimcount multi_brand ///\n",
    "all_under system_under online selective ib3.iclevel ///\n",
    "white_share_w black_share_w hisp_share_w  dpcttype* ///\n",
    "pell_grants_per_fte_c_w i.state_n, vce(cluster systemid) noomitted\n",
    "    \n",
    "quietly replace multi_brand=multi_brand4\n",
    "quietly replace l2multi_brand=l2.multi_brand\n",
    "quietly replace multi_brand=l2multi_brand  \n",
    "    quietly eststo: nbreg claimcount multi_brand ///\n",
    "all_under system_under online selective ib3.iclevel ///\n",
    "white_share_w black_share_w hisp_share_w  dpcttype* ///\n",
    "pell_grants_per_fte_c_w i.state_n, vce(cluster systemid) noomitted\n",
    "    \n",
    "quietly esttab using tables/ta5e_altcutoffs.rtf, ///\n",
    "keep(multi_brand) nolegend stats( ) ///\n",
    "se(%9.1fc) b(%9.1fc) nogaps label nonumbers ///\n",
    "star(* 0.05 ** 0.01 *** 0.001) note(\"\") ///\n",
    "mlabels(\"3-brand\" \"2-brand\" \"4-brand\") ///\n",
    "mgroups(\"Fraud claims\", pattern(1 0 0 1 0 0 1 0 0)) varwidth(10) replace \n",
    "}\n"
   ]
  },
  {
   "cell_type": "code",
   "execution_count": 13,
   "metadata": {},
   "outputs": [
    {
     "data": {
      "text/html": [
       "\n",
       "<table border=\"0\" width=\"*\">\n",
       "<tr><td colspan=4><hr></td></tr>\n",
       "<tr><td>          </td><td>Fraud Claims              </td><td>                          </td><td>                          </td></tr>\n",
       "<tr><td>          </td><td>     3-brand              </td><td>     2-brand              </td><td>     4-brand              </td></tr>\n",
       "<tr><td colspan=4><hr></td></tr>\n",
       "<tr><td>Claim Count</td><td>                          </td><td>                          </td><td>                          </td></tr>\n",
       "<tr><td>(first) multi_brand</td><td>         1.3<sup>**</sup> </td><td>         0.9<sup>**</sup> </td><td>         2.3<sup>***</sup></td></tr>\n",
       "<tr><td>          </td><td>       (0.5)              </td><td>       (0.3)              </td><td>       (0.6)              </td></tr>\n",
       "<tr><td colspan=4><hr></td></tr>\n",
       "<tr><td colspan=4><hr></td></tr>\n",
       "<tr><td colspan=4>\n",
       "\n",
       "</td></tr>\n",
       "</table>\n",
       "\n"
      ],
      "text/plain": [
       "This front-end or document format cannot display HTML"
      ]
     },
     "metadata": {},
     "output_type": "display_data"
    }
   ],
   "source": [
    "%html\n",
    "esttab, ///\n",
    " keep(multi_brand) nolegend stats( ) ///\n",
    " se(%9.1fc) b(%9.1fc) nogaps label html nonumbers ///\n",
    " star(* 0.05 ** 0.01 *** 0.001) note(\"\") ///\n",
    "mlabels(\"3-brand\" \"2-brand\" \"4-brand\") ///\n",
    "mgroups(\"Fraud Claims\", pattern(1 0 0 1 0 0 1 0 0)) varwidth(10) replace"
   ]
  },
  {
   "cell_type": "code",
   "execution_count": 14,
   "metadata": {},
   "outputs": [],
   "source": [
    "quietly {\n",
    "    est clear\n",
    "    quietly use  data/d_unitidasymmetry, clear\n",
    "    \n",
    "quietly collapse (rawsum) sftesale sftetotl (mean) all_under system_under grad_rate_150_p_w ///\n",
    "loan_amount_borrower_c_w tuitionall_c_w selective white_share_w black_share_w hisp_share_w ///\n",
    "pell_grants_per_fte_c_w ft_faculty_per_100fte_w dpcttype_health dpcttype_law ///\n",
    "dpcttype_culinarycosmetic dpcttype_arts dpcttype_tech dpcttype_biz online ///\n",
    "(first) state_n (min) iclevel (max) law_enf_frst_this_yr multi_brand ///\n",
    "    multi_brand2 multi_brand4, by(systemid year)\n",
    "    \n",
    "xtset systemid year\n",
    "quietly xtset systemid year\n",
    "\n",
    "eststo: logistic f2.law_enf_frst_this_yr multi_brand system_under online selective ib3.iclevel ///\n",
    "pell_grants_per_fte_c_w white_share_w black_share_w hisp_share_w dpcttype*, cluster(systemid)\n",
    "\n",
    "    quietly replace multi_brand=multi_brand2\n",
    "\n",
    "eststo: logistic f2.law_enf_frst_this_yr multi_brand system_under online selective ib3.iclevel ///\n",
    "pell_grants_per_fte_c_w white_share_w black_share_w hisp_share_w dpcttype*, cluster(systemid)\n",
    "\n",
    "quietly replace multi_brand=multi_brand4\n",
    "\n",
    "eststo: logistic f2.law_enf_frst_this_yr multi_brand system_under online selective ib3.iclevel ///\n",
    "pell_grants_per_fte_c_w white_share_w black_share_w hisp_share_w dpcttype*, cluster(systemid)\n",
    "\n",
    "label var multi_brand \"multi-brand indicator\"\n",
    "    \n",
    "quietly esttab using tables/ta5f_altcutoffs.rtf, eform ///\n",
    "keep(multi_brand) nolegend stats( ) ///\n",
    "se(%9.1fc) b(%9.1fc) nogaps label nonumbers ///\n",
    "star(* 0.05 ** 0.01 *** 0.001) note(\"\") ///\n",
    "mlabels(\"3-brand\" \"2-brand\" \"4-brand\") ///\n",
    "mgroups(\"Law enforcment\", pattern(1 0 0 1 0 0 1 0 0)) varwidth(10) replace \n",
    "}"
   ]
  },
  {
   "cell_type": "code",
   "execution_count": 15,
   "metadata": {},
   "outputs": [
    {
     "data": {
      "text/html": [
       "\n",
       "<table border=\"0\" width=\"*\">\n",
       "<tr><td colspan=4><hr></td></tr>\n",
       "<tr><td>          </td><td>Law enforcement              </td><td>                          </td><td>                          </td></tr>\n",
       "<tr><td>          </td><td>     3-brand              </td><td>     2-brand              </td><td>     4-brand              </td></tr>\n",
       "<tr><td colspan=4><hr></td></tr>\n",
       "<tr><td>F2.law_enf_frst_this_yr</td><td>                          </td><td>                          </td><td>                          </td></tr>\n",
       "<tr><td>multi-brand indicator</td><td>         6.7<sup>***</sup></td><td>         5.5<sup>***</sup></td><td>         7.6<sup>***</sup></td></tr>\n",
       "<tr><td>          </td><td>       (2.9)              </td><td>       (2.5)              </td><td>       (3.8)              </td></tr>\n",
       "<tr><td colspan=4><hr></td></tr>\n",
       "<tr><td colspan=4><hr></td></tr>\n",
       "<tr><td colspan=4>\n",
       "\n",
       "</td></tr>\n",
       "</table>\n",
       "\n"
      ],
      "text/plain": [
       "This front-end or document format cannot display HTML"
      ]
     },
     "metadata": {},
     "output_type": "display_data"
    }
   ],
   "source": [
    "%html\n",
    "esttab, eform ///\n",
    " keep(multi_brand) nolegend stats( ) ///\n",
    " se(%9.1fc) b(%9.1fc) nogaps label html nonumbers ///\n",
    " star(* 0.05 ** 0.01 *** 0.001) note(\"\") ///\n",
    "mlabels(\"3-brand\" \"2-brand\" \"4-brand\") ///\n",
    "mgroups(\"Law enforcement\", pattern(1 0 0 1 0 0 1 0 0)) varwidth(10) replace"
   ]
  },
  {
   "cell_type": "code",
   "execution_count": null,
   "metadata": {},
   "outputs": [],
   "source": []
  }
 ],
 "metadata": {
  "kernelspec": {
   "display_name": "Stata",
   "language": "stata",
   "name": "stata"
  },
  "language_info": {
   "codemirror_mode": "stata",
   "file_extension": ".do",
   "mimetype": "text/x-stata",
   "name": "stata",
   "version": "15.1"
  }
 },
 "nbformat": 4,
 "nbformat_minor": 4
}
