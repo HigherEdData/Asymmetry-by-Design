{
 "cells": [
  {
   "cell_type": "code",
   "execution_count": null,
   "metadata": {},
   "outputs": [],
   "source": []
  },
  {
   "cell_type": "code",
   "execution_count": null,
   "metadata": {},
   "outputs": [],
   "source": []
  },
  {
   "cell_type": "code",
   "execution_count": 1,
   "metadata": {},
   "outputs": [],
   "source": [
    "quietly use \"/Users/Charlie/Dropbox/asymmetry by Design/Data/asymmetry_20191229.dta\", clear"
   ]
  },
  {
   "cell_type": "code",
   "execution_count": 2,
   "metadata": {},
   "outputs": [
    {
     "name": "stdout",
     "output_type": "stream",
     "text": [
      "\n",
      "\n",
      "\n",
      "       +-----------------------------------------------------------------------------------+\n",
      "       | year   all_un~r   grad~4yr   fed~ct_w   black~re   hisp_~re   loan_a~r   law_en~r |\n",
      "       |-----------------------------------------------------------------------------------|\n",
      "23442. | 2005        391        .38         .4   .1538462   .0384615       3068          0 |\n",
      "23443. | 2006        627   .2205882        .42   .2318841          0       3688          0 |\n",
      "23444. | 2007       3485   .2150943        .49   .2097902   .0944056       7694          0 |\n",
      "23446. | 2008       9866   .2161017        .52   .2069825    .063591       6740          0 |\n",
      "23447. | 2009      23840   .2080876        .61   .2548309   .0797101       5107          0 |\n",
      "       |-----------------------------------------------------------------------------------|\n",
      "23449. | 2010      42977   .1472868        .65   .3401427   .0768482       5160          0 |\n",
      "23452. | 2011      57254   .1285013        .78   .3172154   .0685871       4647          1 |\n",
      "23454. | 2012      67141   .0725076        .84   .3832787   .0744262       7138          . |\n",
      "23456. | 2013      69380   .0728997        .81   .3335916   .0844634       7247          . |\n",
      "23457. | 2014      50895          .        .86   .3475751   .0785219       7632          . |\n",
      "       |-----------------------------------------------------------------------------------|\n",
      "23460. | 2015      45348          .        .82   .3431498   .0896287       7017          . |\n",
      "23462. | 2016      37070          .        .81   .3459119   .0786164       7291          . |\n",
      "       +-----------------------------------------------------------------------------------+\n"
     ]
    }
   ],
   "source": [
    "set line 200\n",
    "list year all_under grad_rate_150_p4yr fed_grant_pct_w black_share ///\n",
    "hisp_share loan_amount_borrower law_enf_frst_this_yr if regexm(instnmlower, \"ashford\")==1"
   ]
  },
  {
   "cell_type": "code",
   "execution_count": 3,
   "metadata": {},
   "outputs": [],
   "source": [
    "quietly use \"/Users/Charlie/Dropbox/asymmetry by Design/Data/d_OPEID_asymmetry.dta\", clear"
   ]
  },
  {
   "cell_type": "code",
   "execution_count": 11,
   "metadata": {},
   "outputs": [
    {
     "name": "stdout",
     "output_type": "stream",
     "text": [
      "\n",
      "\n",
      "(0 real changes made)\n",
      "\n",
      "\n",
      "        +------------------------------------+\n",
      "        | opeid   year   rpy_3y~p   claimc~t |\n",
      "        |------------------------------------|\n",
      "   333. |  1881   2016          .        194 |\n",
      "        +------------------------------------+\n",
      "\n",
      "\n",
      "        +-----------------------------+\n",
      "        | year   systemid   rpy_3yr~p |\n",
      "        |-----------------------------|\n",
      "   304. | 1987     154022           . |\n",
      "   305. | 1988     154022           . |\n",
      "   306. | 1989     154022           . |\n",
      "   307. | 1990     154022           . |\n",
      "   308. | 1991     154022           . |\n",
      "        |-----------------------------|\n",
      "   309. | 1992     154022           . |\n",
      "   310. | 1993     154022           . |\n",
      "   311. | 1994     154022           . |\n",
      "   312. | 1995     154022           . |\n",
      "   313. | 1996     154022           . |\n",
      "        |-----------------------------|\n",
      "   314. | 1997     154022           . |\n",
      "   315. | 1998     154022           . |\n",
      "   316. | 1999     154022           . |\n",
      "   317. | 2000     154022           . |\n",
      "   318. | 2001     154022           . |\n",
      "        |-----------------------------|\n",
      "   319. | 2002     154022           . |\n",
      "   320. | 2003     154022           . |\n",
      "   321. | 2004     154022           . |\n",
      "   322. | 2005     154022           . |\n",
      "   323. | 2006     154022           . |\n",
      "        |-----------------------------|\n",
      "   324. | 2007     154022       .5536 |\n",
      "   325. | 2008     154022    .4151616 |\n",
      "   326. | 2009     154022   .33001954 |\n",
      "   327. | 2010     154022    .2701678 |\n",
      "   328. | 2011     154022   .23760423 |\n",
      "        |-----------------------------|\n",
      "   329. | 2012     154022   .21677315 |\n",
      "   330. | 2013     154022   .22966625 |\n",
      "   331. | 2014     154022           . |\n",
      "   332. | 2015     154022           . |\n",
      "   333. | 2016     154022           . |\n",
      "        +-----------------------------+\n"
     ]
    }
   ],
   "source": [
    "set line 200\n",
    "replace institutionname=lower(institutionname)\n",
    "list opeid year rpy_3yr_rt_supp claimcount if regexm(institutionname, \"ashford\")==1\n",
    "list year systemid rpy_3yr_rt_supp if opeid==154022"
   ]
  },
  {
   "cell_type": "code",
   "execution_count": 6,
   "metadata": {},
   "outputs": [
    {
     "name": "stdout",
     "output_type": "stream",
     "text": [
      "year          system_under  iclevel       type_tech     hisp_share_w  dpcttype_t~h  mn_earn~1_p6  public        rpy_3yr_pc~o  earn_mnty~th  earn_mntyp~c  earn_mnty~ch  earn_mntyp~r  rankopeid\n",
      "opeidstring   systemnm      law_enf_fr~r  type_biz      fed_gran~t_w  dpcttype_biz  mn_earn~2_p6  mn_earn_wn~c  earn_pct_lo   earntype_law  earntype_a~s  earntype_biz  digitopeid\n",
      "dist_fed_g~t  systemid      fte_count     type_other    fed_gran~c_w  dpcttype_o~r  lo_inc_rpy~n  md_earn_wn~c  which_max     repaytype_~w  repaytype_~s  repaytype_~z  corporatio~e\n",
      "dist_pell_s   ALTmulti_b~l  all_under     total_degr~s  pell_grant~w  opeid         md_inc_rpy~n  rpy_3yr_rt~w  max           repay_mnty~w  repay_mnty~s  repay_mnty~z  institutio~e\n",
      "dist_black~w  alt2multi_~l  type_health   online        dpcttype_h~h  control       hi_inc_rpy~n  lo_inc_rpy~w  offered_ty~s  earn_mntyp~w  earn_mntyp~s  earn_mntyp~z  claimcount\n",
      "dist_white~w  alt2multi_~2  type_law      selective     dpcttype_law  overall_~3_n  rpy_3yr_rt~p  mn_earn_wn~w  earntype_h~h  earntype_c~c  earntype_t~h  earntype_o~r  control_n\n",
      "dist_hisp_~w  alt2multi_~4  type_culin~c  white_shar~w  dpcttype_c~c  overall_~6_n  lo_inc_rpy~p  md_earn_wn~w  repaytype~th  repaytype_~c  repaytype~ch  repaytype_~r  _merge\n",
      "state_n       campuses      type_arts     black_shar~w  dpcttype_a~s  lo_inc_yr6_n  pe_ind        rpy_3yr_n     repay_mnt~th  repay_mnty~c  repay_mnt~ch  repay_mnty~r  merge_2\n"
     ]
    }
   ],
   "source": [
    "ds"
   ]
  },
  {
   "cell_type": "code",
   "execution_count": null,
   "metadata": {},
   "outputs": [],
   "source": []
  }
 ],
 "metadata": {
  "kernelspec": {
   "display_name": "Stata",
   "language": "stata",
   "name": "stata"
  },
  "language_info": {
   "codemirror_mode": "stata",
   "file_extension": ".do",
   "mimetype": "text/x-stata",
   "name": "stata",
   "version": "15.1"
  }
 },
 "nbformat": 4,
 "nbformat_minor": 4
}
