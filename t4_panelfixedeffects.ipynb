{
 "cells": [
  {
   "cell_type": "markdown",
   "metadata": {},
   "source": [
    "## Replication for \"Asymmetry by Design\", October 22, 2020\n",
    "### By Adam Goldstein and Charlie Eaton\n",
    "\n",
    "### Table 4: Panel Fixed Effects Estimates for Predatory Practices"
   ]
  },
  {
   "cell_type": "markdown",
   "metadata": {},
   "source": [
    "Install STATA packages"
   ]
  },
  {
   "cell_type": "code",
   "execution_count": 1,
   "metadata": {},
   "outputs": [],
   "source": [
    "ssc install estout\n",
    "ssc install reghdfe"
   ]
  },
  {
   "cell_type": "markdown",
   "metadata": {},
   "source": [
    "Download datasets"
   ]
  },
  {
   "cell_type": "code",
   "execution_count": 2,
   "metadata": {},
   "outputs": [],
   "source": [
    "copy \"https://github.com/HigherEdData/asymmetry/raw/master/data/d_unitidasymmetry.dta\" ///\n",
    "    data/d_unitidasymmetry.dta, replace\n",
    "\n",
    "copy \"https://github.com/HigherEdData/asymmetry/raw/master/data/d_opeidasymmetry.dta\" ///\n",
    "    data/d_opeidasymmetry.dta, replace"
   ]
  },
  {
   "cell_type": "code",
   "execution_count": 3,
   "metadata": {},
   "outputs": [],
   "source": [
    "est clear\n",
    "quietly use data/d_unitidasymmetry, clear\n",
    "quietly xtset unitid year\n",
    "\n",
    "foreach var in tuitionall_c_w loan_amount_borrower_c_w { \n",
    "qui eststo: reghdfe `var' multi_brand system_under all_under online selective ib3.iclevel ///\n",
    "pell_grants_per_fte_c_w white_share_w black_share_w hisp_share_w dpcttype* grad_rate_150_p_w, absorb(unitid year) cluster(systemid year)\n",
    "qui estadd scalar schools = e(df_a)\n",
    "}\n",
    "\n",
    "quietly xtset unitid year\n",
    "quietly gen l2multi_brand=l2.multi_brand\n",
    "quietly replace multi_brand=l2multi_brand\n",
    "\n",
    "quietly eststo: reghdfe ft_faculty_per_100fte_w multi_brand system_under all_under online selective ib3.iclevel ///\n",
    "pell_grants_per_fte_c_w white_share_w black_share_w hisp_share_w dpcttype* tuitionall_c_w, absorb(unitid year) cluster(systemid year)\n",
    "qui estadd scalar schools = e(df_a)"
   ]
  },
  {
   "cell_type": "code",
   "execution_count": 4,
   "metadata": {},
   "outputs": [],
   "source": [
    "quietly {\n",
    "quietly use data/d_unitidasymmetry, clear\n",
    "quietly xtset unitid year\n",
    "  set more off  \n",
    "    label var grad_rate_150_p_w \"grad rate\"\n",
    "    foreach var in grad_rate_150_p_w  { \n",
    "qui eststo: reghdfe `var' multi_brand system_under all_under online selective ib3.iclevel ///\n",
    "pell_grants_per_fte_c_w white_share_w black_share_w hisp_share_w dpcttype* tuitionall_c_w, absorb(unitid year) cluster(systemid year)        \n",
    "qui estadd scalar schools = e(df_a)\n",
    "    }\n",
    "}"
   ]
  },
  {
   "cell_type": "code",
   "execution_count": 5,
   "metadata": {},
   "outputs": [],
   "source": [
    "quietly {\n",
    "   quietly use data/d_opeidasymmetry, clear\n",
    "keep if rankopeid==1\n",
    "xtset opeid year\n",
    "\n",
    "quietly gen l2multi_brand=l2.multi_brand\n",
    "quietly replace multi_brand=l2multi_brand\n",
    "\n",
    "quietly eststo: reghdfe mn_earn_wne_p6_c_w multi_brand  ///\n",
    "all_under system_under online selective ib3.iclevel earn_pct_lo  ///\n",
    "white_share_w black_share_w hisp_share_w dpcttype* tuitionall_c_w, absorb(opeid year) cluster(systemid year)\n",
    "qui estadd scalar schools = e(df_a)\n",
    "    \n",
    "quietly replace earn_pct_lo=rpy_3yr_pct_lo\n",
    "\n",
    "quietly eststo: reghdfe rpy_3yr_rt_supp_w multi_brand ///\n",
    "all_under system_under online selective ib3.iclevel earn_pct_lo ///\n",
    "white_share_w black_share_w hisp_share_w dpcttype* tuitionall_c_w, absorb(opeid year) cluster(systemid year)\n",
    "qui estadd scalar schools = e(df_a)  \n",
    "}"
   ]
  },
  {
   "cell_type": "code",
   "execution_count": 6,
   "metadata": {},
   "outputs": [
    {
     "name": "stdout",
     "output_type": "stream",
     "text": [
      "\n",
      "\n",
      ". qui estadd scalar schools = e(N_clust1)\n"
     ]
    }
   ],
   "source": [
    "quietly {\n",
    "    quietly use data/d_unitidasymmetry, clear\n",
    "\n",
    "quietly collapse (rawsum) sftesale sftetotl (mean) all_under system_under grad_rate_150_p_w ///\n",
    "loan_amount_borrower_c_w tuitionall_c_w selective white_share_w black_share_w hisp_share_w ///\n",
    "pell_grants_per_fte_c_w ft_faculty_per_100fte_w dpcttype_health dpcttype_law ///\n",
    "dpcttype_culinarycosmetic dpcttype_arts dpcttype_tech dpcttype_biz online ///\n",
    "(first) state_n (min) iclevel (max) law_enf_frst_this_yr multi_brand, by(systemid year)\n",
    "\n",
    "replace law_enf_frst_this_yr=1 if law_enf_frst_this_yr<. & law_enf_frst_this_yr>0\n",
    "tab year if law_enf_frst_this_yr==1\n",
    "xtset systemid year\n",
    "quietly xtset systemid year\n",
    "\n",
    "eststo: reghdfe f2.law_enf_frst_this_yr multi_brand system_under online selective ib3.iclevel ///\n",
    "pell_grants_per_fte_c_w white_share_w black_share_w hisp_share_w dpcttype*, absorb(systemid year) cluster(systemid year)\n",
    "\n",
    "gen claimcount=.\n",
    "gen mn_earn_wne_p6_c_w=.\n",
    "gen rpy_3yr_rt_supp_w=.\n",
    "gen earn_pct_lo=.\n",
    "quietly label var pell_grants_per_fte_c_w \"Pell $ / student\"\n",
    "quietly label var mn_earn_wne_p6_c_w \"earnings\"\n",
    "quietly label var rpy_3yr_rt_supp_w \"repay\"\n",
    "quietly label var claimcount \"fraud claims\"\n",
    "quietly label var earn_pct_lo \"% low-income\"\n",
    "label var multi_brand \"multi-brand\"\n",
    "label var system_under \"firm enrollment (1,000s)\"\n",
    "label var all_under \"campus enrollment (1,000s)\"\n",
    "label var online \"online\"\n",
    "label var selective \"selective admissions\"\n",
    "    label drop iclevel\n",
    "label define iclevel 1 \"BA offered\" 2 \"AA offered\" \n",
    "    label values iclevel iclevel\n",
    "label var black_share_w \"% Black\"\n",
    "label var hisp_share_w \"% Hispanic\"\n",
    "label var white_share_w \"% White\"\n",
    "label var dpcttype_arts \"% degr. art\"\n",
    "label var dpcttype_biz \"% degr. biz\"\n",
    "label var dpcttype_culinarycosmetic \"% degr. personal service\"\n",
    "label var dpcttype_health \"% degr. health\"\n",
    "label var dpcttype_law \"% degr. law)\"\n",
    "label var dpcttype_tech \"% degr. tech\"\n",
    "label var tuitionall_c_w \"tuition (1,000s)\"\n",
    "label var loan_amount_borrower_c_w \"loans (1,000s)\"\n",
    "label var ft_faculty_per_100fte_w \"faculty\"\n",
    "label var law_enf_frst_this_yr \"law enforcement\"\n",
    "label var grad_rate_150_p_w \"undergrad grad rate\"\n",
    "}\n",
    "qui estadd scalar schools = e(N_clust1)"
   ]
  },
  {
   "cell_type": "code",
   "execution_count": 7,
   "metadata": {},
   "outputs": [
    {
     "data": {
      "text/html": [
       "\n",
       "<table border=\"0\" width=\"*\">\n",
       "<tr><td colspan=8><hr></td></tr>\n",
       "<tr><td>          </td><td>         (1)              </td><td>         (2)              </td><td>         (3)              </td><td>         (4)              </td><td>         (5)              </td><td>         (6)              </td><td>         (7)              </td></tr>\n",
       "<tr><td>          </td><td>     tuition              </td><td>   borrowing              </td><td>     faculty              </td><td> % grad rate              </td><td>     earning              </td><td>     % repay              </td><td>       legal              </td></tr>\n",
       "<tr><td colspan=8><hr></td></tr>\n",
       "<tr><td>multi-brand</td><td>       0.994<sup>*</sup>  </td><td>       0.568              </td><td>      -0.394<sup>*</sup>  </td><td>      -2.556<sup>*</sup>  </td><td>      -1.003<sup>*</sup>  </td><td>      -1.347<sup>*</sup>  </td><td>       0.018<sup>*</sup>  </td></tr>\n",
       "<tr><td>          </td><td>     (0.370)              </td><td>     (0.329)              </td><td>     (0.160)              </td><td>     (0.980)              </td><td>     (0.365)              </td><td>     (0.394)              </td><td>     (0.008)              </td></tr>\n",
       "<tr><td>firm enrollment (1,000s)</td><td>      -0.013<sup>***</sup></td><td>       0.002              </td><td>       0.002              </td><td>      -0.006              </td><td>      -0.036<sup>*</sup>  </td><td>      -0.020              </td><td>       0.000              </td></tr>\n",
       "<tr><td>          </td><td>     (0.003)              </td><td>     (0.003)              </td><td>     (0.003)              </td><td>     (0.026)              </td><td>     (0.014)              </td><td>     (0.022)              </td><td>     (0.000)              </td></tr>\n",
       "<tr><td>campus enrollment (1,000s)</td><td>      -0.045              </td><td>       0.006              </td><td>      -0.006              </td><td>      -0.047              </td><td>      -0.163<sup>***</sup></td><td>      -0.016              </td><td>                          </td></tr>\n",
       "<tr><td>          </td><td>     (0.035)              </td><td>     (0.016)              </td><td>     (0.006)              </td><td>     (0.087)              </td><td>     (0.015)              </td><td>     (0.026)              </td><td>                          </td></tr>\n",
       "<tr><td>online    </td><td>       0.154              </td><td>      -0.165              </td><td>      -0.455              </td><td>      -3.097<sup>*</sup>  </td><td>       0.229              </td><td>      -2.065              </td><td>       0.011              </td></tr>\n",
       "<tr><td>          </td><td>     (0.458)              </td><td>     (0.240)              </td><td>     (0.252)              </td><td>     (1.420)              </td><td>     (0.552)              </td><td>     (1.389)              </td><td>     (0.006)              </td></tr>\n",
       "<tr><td>selective admissions</td><td>       0.096              </td><td>       0.066              </td><td>       0.213              </td><td>       2.144              </td><td>      -0.010              </td><td>      -0.366              </td><td>      -0.002              </td></tr>\n",
       "<tr><td>          </td><td>     (0.283)              </td><td>     (0.334)              </td><td>     (0.159)              </td><td>     (1.103)              </td><td>     (0.313)              </td><td>     (1.246)              </td><td>     (0.002)              </td></tr>\n",
       "<tr><td>BA offered</td><td>       1.608              </td><td>       0.653<sup>*</sup>  </td><td>       0.008              </td><td>      -4.738<sup>*</sup>  </td><td>       1.109              </td><td>      -0.413              </td><td>       0.021              </td></tr>\n",
       "<tr><td>          </td><td>     (1.099)              </td><td>     (0.301)              </td><td>     (0.208)              </td><td>     (1.689)              </td><td>     (1.398)              </td><td>     (1.308)              </td><td>     (0.011)              </td></tr>\n",
       "<tr><td>AA offered</td><td>       0.912              </td><td>       0.285              </td><td>       0.000              </td><td>      -2.117              </td><td>       0.743              </td><td>      -0.233              </td><td>       0.000              </td></tr>\n",
       "<tr><td>          </td><td>     (0.654)              </td><td>     (0.238)              </td><td>     (0.000)              </td><td>     (1.581)              </td><td>     (0.473)              </td><td>     (0.854)              </td><td>     (0.001)              </td></tr>\n",
       "<tr><td>Pell $ / student</td><td>       0.001              </td><td>       0.001              </td><td>       0.067<sup>*</sup>  </td><td>      -0.010              </td><td>                          </td><td>                          </td><td>       0.000              </td></tr>\n",
       "<tr><td>          </td><td>     (0.007)              </td><td>     (0.007)              </td><td>     (0.027)              </td><td>     (0.035)              </td><td>                          </td><td>                          </td><td>     (0.000)              </td></tr>\n",
       "<tr><td>% White   </td><td>      -0.122              </td><td>       0.099              </td><td>       0.543              </td><td>       1.276              </td><td>       0.946              </td><td>       2.064<sup>*</sup>  </td><td>      -0.004              </td></tr>\n",
       "<tr><td>          </td><td>     (0.265)              </td><td>     (0.410)              </td><td>     (0.282)              </td><td>     (1.608)              </td><td>     (0.734)              </td><td>     (0.736)              </td><td>     (0.003)              </td></tr>\n",
       "<tr><td>% Black   </td><td>      -0.629              </td><td>      -0.395              </td><td>      -0.395              </td><td>      -8.328<sup>**</sup> </td><td>      -2.125<sup>*</sup>  </td><td>      -6.421<sup>*</sup>  </td><td>      -0.003              </td></tr>\n",
       "<tr><td>          </td><td>     (0.537)              </td><td>     (0.515)              </td><td>     (0.429)              </td><td>     (2.281)              </td><td>     (0.718)              </td><td>     (1.733)              </td><td>     (0.004)              </td></tr>\n",
       "<tr><td>% Hispanic</td><td>      -0.968              </td><td>      -0.660              </td><td>      -0.353              </td><td>      -1.027              </td><td>      -1.441              </td><td>       0.074              </td><td>      -0.008<sup>*</sup>  </td></tr>\n",
       "<tr><td>          </td><td>     (0.507)              </td><td>     (0.594)              </td><td>     (0.259)              </td><td>     (2.671)              </td><td>     (0.977)              </td><td>     (1.150)              </td><td>     (0.004)              </td></tr>\n",
       "<tr><td>% degr. health</td><td>      -2.969<sup>*</sup>  </td><td>       0.829              </td><td>      -0.499              </td><td>      -3.802              </td><td>      -3.575              </td><td>      -3.743              </td><td>       0.009<sup>***</sup></td></tr>\n",
       "<tr><td>          </td><td>     (1.328)              </td><td>     (0.927)              </td><td>     (1.015)              </td><td>     (5.064)              </td><td>     (2.810)              </td><td>     (2.734)              </td><td>     (0.002)              </td></tr>\n",
       "<tr><td>% degr. law)</td><td>      -3.806<sup>*</sup>  </td><td>      -0.575              </td><td>      -1.977<sup>*</sup>  </td><td>     -17.160<sup>*</sup>  </td><td>      -3.338              </td><td>      -7.581              </td><td>       0.009              </td></tr>\n",
       "<tr><td>          </td><td>     (1.323)              </td><td>     (1.142)              </td><td>     (0.936)              </td><td>     (6.723)              </td><td>     (3.106)              </td><td>     (3.735)              </td><td>     (0.008)              </td></tr>\n",
       "<tr><td>% degr. personal service</td><td>      -1.511              </td><td>       1.076              </td><td>       0.121              </td><td>      -9.867              </td><td>      -3.473              </td><td>      -1.890              </td><td>       0.006<sup>*</sup>  </td></tr>\n",
       "<tr><td>          </td><td>     (1.560)              </td><td>     (0.993)              </td><td>     (1.374)              </td><td>     (6.028)              </td><td>     (2.832)              </td><td>     (4.074)              </td><td>     (0.002)              </td></tr>\n",
       "<tr><td>% degr. art</td><td>      -0.482              </td><td>       0.930              </td><td>      -1.101              </td><td>      -8.773              </td><td>       0.021              </td><td>      -0.862              </td><td>      -0.001              </td></tr>\n",
       "<tr><td>          </td><td>     (1.428)              </td><td>     (0.839)              </td><td>     (0.822)              </td><td>     (6.206)              </td><td>     (3.615)              </td><td>     (3.239)              </td><td>     (0.006)              </td></tr>\n",
       "<tr><td>% degr. tech</td><td>      -1.019              </td><td>       0.725              </td><td>      -0.566              </td><td>      -4.758              </td><td>       6.896<sup>*</sup>  </td><td>       0.785              </td><td>      -0.008              </td></tr>\n",
       "<tr><td>          </td><td>     (1.254)              </td><td>     (0.607)              </td><td>     (0.920)              </td><td>     (4.736)              </td><td>     (2.154)              </td><td>     (3.179)              </td><td>     (0.005)              </td></tr>\n",
       "<tr><td>% degr. biz</td><td>      -2.047              </td><td>       0.261              </td><td>      -1.269              </td><td>     -11.219<sup>*</sup>  </td><td>      -2.091              </td><td>      -5.741              </td><td>       0.006              </td></tr>\n",
       "<tr><td>          </td><td>     (1.274)              </td><td>     (0.963)              </td><td>     (0.770)              </td><td>     (4.794)              </td><td>     (2.553)              </td><td>     (3.230)              </td><td>     (0.004)              </td></tr>\n",
       "<tr><td>undergrad grad rate</td><td>       0.000              </td><td>       0.004              </td><td>                          </td><td>                          </td><td>                          </td><td>                          </td><td>                          </td></tr>\n",
       "<tr><td>          </td><td>     (0.003)              </td><td>     (0.003)              </td><td>                          </td><td>                          </td><td>                          </td><td>                          </td><td>                          </td></tr>\n",
       "<tr><td>tuition (1,000s)</td><td>                          </td><td>                          </td><td>       0.017              </td><td>       0.001              </td><td>      -0.051              </td><td>       0.051              </td><td>                          </td></tr>\n",
       "<tr><td>          </td><td>                          </td><td>                          </td><td>     (0.009)              </td><td>     (0.047)              </td><td>     (0.026)              </td><td>     (0.039)              </td><td>                          </td></tr>\n",
       "<tr><td>% low-income</td><td>                          </td><td>                          </td><td>                          </td><td>                          </td><td>      -8.526<sup>**</sup> </td><td>      -0.137<sup>***</sup></td><td>                          </td></tr>\n",
       "<tr><td>          </td><td>                          </td><td>                          </td><td>                          </td><td>                          </td><td>     (1.835)              </td><td>     (0.016)              </td><td>                          </td></tr>\n",
       "<tr><td>Constant  </td><td>      16.205<sup>***</sup></td><td>       5.995<sup>***</sup></td><td>       3.299<sup>***</sup></td><td>      65.291<sup>***</sup></td><td>      41.625<sup>***</sup></td><td>      52.301<sup>***</sup></td><td>      -0.003              </td></tr>\n",
       "<tr><td>          </td><td>     (1.247)              </td><td>     (1.027)              </td><td>     (0.826)              </td><td>     (4.911)              </td><td>     (2.425)              </td><td>     (3.466)              </td><td>     (0.003)              </td></tr>\n",
       "<tr><td colspan=8><hr></td></tr>\n",
       "<tr><td>r2        </td><td>        0.74              </td><td>        0.54              </td><td>        0.64              </td><td>        0.66              </td><td>        0.94              </td><td>        0.92              </td><td>        0.09              </td></tr>\n",
       "<tr><td>schools/firms</td><td>       1,798              </td><td>       1,737              </td><td>       1,339              </td><td>       1,798              </td><td>       1,246              </td><td>       1,637              </td><td>       2,156              </td></tr>\n",
       "<tr><td>N         </td><td>      16,740              </td><td>      14,629              </td><td>       9,402              </td><td>      16,740              </td><td>       5,748              </td><td>       9,143              </td><td>      21,622              </td></tr>\n",
       "<tr><td colspan=8><hr></td></tr>\n",
       "<tr><td colspan=8>\n",
       "Standard errors in parentheses\n",
       "<br /><sup>*</sup> <i>p</i> < 0.05, <sup>**</sup> <i>p</i> < 0.01, <sup>***</sup> <i>p</i> < 0.001\n",
       "</td></tr>\n",
       "</table>\n",
       "\n"
      ],
      "text/plain": [
       "This front-end or document format cannot display HTML"
      ]
     },
     "metadata": {},
     "output_type": "display_data"
    }
   ],
   "source": [
    "%html\n",
    "esttab, ///\n",
    " keep(multi_brand system_under all_under online selective 1.iclevel 2.iclevel ///\n",
    "pell_grants_per_fte_c_w white_share_w black_share_w hisp_share_w dpcttype_health dpcttype_law ///\n",
    "dpcttype_culinarycosmetic dpcttype_arts dpcttype_tech dpcttype_biz earn_pct_lo ///\n",
    "grad_rate_150_p_w tuitionall_c_w _cons) ///\n",
    "order(multi_brand system_under all_under) ///\n",
    "mlabel(\"tuition\" \"borrowing\" \"faculty\" \"% grad rate\" \"earning\" \"% repay\" \"legal\") ///\n",
    "stats(r2 schools N, fmt(2 %9.0fc %9.0fc) label(\"r2\" \"schools/firms\" N)) ///\n",
    "se(%9.3fc) b(%9.3fc) nogaps eqlabels(\"\")  ///\n",
    " star(* 0.05 ** 0.01 *** 0.001) html label varwidth(10)"
   ]
  },
  {
   "cell_type": "code",
   "execution_count": 8,
   "metadata": {},
   "outputs": [
    {
     "name": "stdout",
     "output_type": "stream",
     "text": [
      "> \n",
      "(output written to tables/t4_panelfixed.rtf)\n"
     ]
    }
   ],
   "source": [
    "esttab using tables/t4_panelfixed.rtf, title(Table 4: Panel fixed effects estimates) ///\n",
    " keep(multi_brand system_under all_under online selective 1.iclevel 2.iclevel ///\n",
    "pell_grants_per_fte_c_w white_share_w black_share_w hisp_share_w dpcttype_health dpcttype_law ///\n",
    "dpcttype_culinarycosmetic dpcttype_arts dpcttype_tech dpcttype_biz earn_pct_lo grad_rate_150_p_w tuitionall_c_w _cons) ///\n",
    "order(multi_brand system_under all_under) ///\n",
    "mlabel(\"tuition 1,000s\" \"loans (1,000s)\" \"faculty\" \"% grad rate\" \"earnings (1,000s)\" \"% repay\" \"legal\") ///\n",
    "stats(r2 schools N, fmt(2 %9.0fc %9.0fc) label(\"r2\" \"schools/firms\" N)) ///\n",
    "se(%9.3fc) b(%9.3fc) nogaps eqlabels(\"\") ///\n",
    " star(* 0.05 ** 0.01 *** 0.001) label varwidth(10) replace"
   ]
  },
  {
   "cell_type": "code",
   "execution_count": null,
   "metadata": {},
   "outputs": [],
   "source": []
  }
 ],
 "metadata": {
  "kernelspec": {
   "display_name": "Stata",
   "language": "stata",
   "name": "stata"
  },
  "language_info": {
   "codemirror_mode": "stata",
   "file_extension": ".do",
   "mimetype": "text/x-stata",
   "name": "stata",
   "version": "15.1"
  }
 },
 "nbformat": 4,
 "nbformat_minor": 4
}
