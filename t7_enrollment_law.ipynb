{
 "cells": [
  {
   "cell_type": "markdown",
   "metadata": {},
   "source": [
    "## Replication for \"Asymmetry by Design\", October 22, 2020\n",
    "### By Adam Goldstein and Charlie Eaton\n",
    "\n",
    "### Table 7: Estimated moderation effect of multi-brand status on (log) average campus student enrollment following law enforcement actions against parent firm "
   ]
  },
  {
   "cell_type": "markdown",
   "metadata": {},
   "source": [
    "Install STATA packages"
   ]
  },
  {
   "cell_type": "code",
   "execution_count": 1,
   "metadata": {},
   "outputs": [],
   "source": [
    "*ssc install estout"
   ]
  },
  {
   "cell_type": "markdown",
   "metadata": {},
   "source": [
    "Download datasets"
   ]
  },
  {
   "cell_type": "code",
   "execution_count": 2,
   "metadata": {},
   "outputs": [],
   "source": [
    "*"
   ]
  },
  {
   "cell_type": "code",
   "execution_count": 3,
   "metadata": {},
   "outputs": [],
   "source": [
    "quietly {\n",
    "quietly use data/d_unitidasymmetry, clear\n",
    "    \n",
    "est clear\n",
    "sort unitid year\n",
    "gen law_enforce= 1 if law_enf_frst_this_yr==1 \n",
    "by unitid: carryforward law_enforce, replace\n",
    "    \n",
    "bys systemid year: egen Sys_law_enforce= min(law_enforce)\n",
    "sort systemid year\n",
    "by systemid: carryforward Sys_law_enforce, replace \n",
    "recode Sys_law_enforce .=0\n",
    "    \n",
    "    gen campus=1 if total_enrollment_log!=.\n",
    "bysort systemid year: egen sys_campuses=total(campus)\n",
    "\n",
    "gen interact = multi_brand * Sys_law_enforce\n",
    "\n",
    "xi i.year i.iclevel\n",
    "xtset unitid year\n",
    "\n",
    "**Estimates Using Anderson-Hsaio first difference IV\n",
    "est clear\n",
    "set more off\n",
    "\n",
    "eststo: xtivreg total_enrollment_log l.total_enrollment_log multi_brand Sys_law_enforce ///\n",
    "    interact online selective sys_campuses _Iiclevel* _Iyear_* dpct* ///\n",
    "    (l.total_enrollment_log= l2.total_enrollment_log l3.total_enrollment_log ) if year>2003 & year<2017, ///\n",
    "    fd vce(cluster unitid)\n",
    "\n",
    "esttab using tables/t7_enrollment_law.rtf, replace mlabel(\"enrollment change (log)\") noomitted ///\n",
    "order(LD.total_enrollment_log D.multi_brand D.Sys_law_enforce D.interact ///\n",
    "D.sys_campuses D.online D.selective D._Iiclevel* D.dpct* _cons) ///\n",
    "drop(oLD.total_enrollment_log oD.dpcttype_other D._Iyear_* oD._Iyear_*)  ///\n",
    "coeflabel(LD.total_enrollment_log \"Lagged enrollment (log)\" D.multi_brand \"mutli-brand\" ///\n",
    "D.Sys_law_enforce \"legal action\" D.online \"online\" D.interact \"multi-brand x legal action\" ///\n",
    "D.sys_campuses \"firm size (# colleges)\" D.selective \"selective admissions\" ///\n",
    "D._Iiclevel_3 \"BA offered\" D._Iiclevel_2 \"AA offered\" D.dpcttype_health \"% degr. health\" ///\n",
    "D.dpcttype_law \"% degr. law\" D.dpcttype_culinarycosmetic \"% degr. personal service\" D.dpcttype_arts \"% degr. art\" ///\n",
    "D.dpcttype_tech \"% degr. tech\" D.dpcttype_biz \"% degr. biz\" _cons \"Constant\") ///\n",
    "se(%9.2fc) b(%9.2fc) nogaps star(* 0.05 ** 0.01 *** 0.001) varwidth(15) label ///\n",
    "stats(N_clust N, fmt(%9.0fc) label(\"Schools\" \"N\"))\n",
    "}"
   ]
  },
  {
   "cell_type": "code",
   "execution_count": 4,
   "metadata": {},
   "outputs": [
    {
     "data": {
      "text/html": [
       "\n",
       "<table border=\"0\" width=\"*\">\n",
       "<tr><td colspan=2><hr></td></tr>\n",
       "<tr><td>               </td><td>         (1)              </td></tr>\n",
       "<tr><td>               </td><td>enrollment change (log)              </td></tr>\n",
       "<tr><td colspan=2><hr></td></tr>\n",
       "<tr><td>Lagged enrollment (log)</td><td>       -0.15<sup>***</sup></td></tr>\n",
       "<tr><td>               </td><td>      (0.01)              </td></tr>\n",
       "<tr><td>mutli-brand    </td><td>       -0.01              </td></tr>\n",
       "<tr><td>               </td><td>      (0.01)              </td></tr>\n",
       "<tr><td>legal action   </td><td>       -0.09<sup>***</sup></td></tr>\n",
       "<tr><td>               </td><td>      (0.02)              </td></tr>\n",
       "<tr><td>multi-brand x legal action</td><td>        0.05<sup>**</sup> </td></tr>\n",
       "<tr><td>               </td><td>      (0.02)              </td></tr>\n",
       "<tr><td>firm size (# colleges)</td><td>        0.00<sup>***</sup></td></tr>\n",
       "<tr><td>               </td><td>      (0.00)              </td></tr>\n",
       "<tr><td>online         </td><td>        0.13<sup>**</sup> </td></tr>\n",
       "<tr><td>               </td><td>      (0.04)              </td></tr>\n",
       "<tr><td>selective admissions</td><td>       -0.04<sup>**</sup> </td></tr>\n",
       "<tr><td>               </td><td>      (0.01)              </td></tr>\n",
       "<tr><td>AA offered     </td><td>       -0.03              </td></tr>\n",
       "<tr><td>               </td><td>      (0.02)              </td></tr>\n",
       "<tr><td>BA offered     </td><td>       -0.06              </td></tr>\n",
       "<tr><td>               </td><td>      (0.04)              </td></tr>\n",
       "<tr><td>% degr. health </td><td>        0.28<sup>***</sup></td></tr>\n",
       "<tr><td>               </td><td>      (0.08)              </td></tr>\n",
       "<tr><td>% degr. law    </td><td>       -0.08              </td></tr>\n",
       "<tr><td>               </td><td>      (0.10)              </td></tr>\n",
       "<tr><td>% degr. personal service</td><td>        0.24<sup>*</sup>  </td></tr>\n",
       "<tr><td>               </td><td>      (0.10)              </td></tr>\n",
       "<tr><td>% degr. art    </td><td>        0.06              </td></tr>\n",
       "<tr><td>               </td><td>      (0.11)              </td></tr>\n",
       "<tr><td>% degr. tech   </td><td>        0.08              </td></tr>\n",
       "<tr><td>               </td><td>      (0.08)              </td></tr>\n",
       "<tr><td>% degr. biz    </td><td>       -0.01              </td></tr>\n",
       "<tr><td>               </td><td>      (0.08)              </td></tr>\n",
       "<tr><td>Constant       </td><td>       -0.01<sup>***</sup></td></tr>\n",
       "<tr><td>               </td><td>      (0.00)              </td></tr>\n",
       "<tr><td colspan=2><hr></td></tr>\n",
       "<tr><td>Schools        </td><td>       3,565              </td></tr>\n",
       "<tr><td>N              </td><td>      27,943              </td></tr>\n",
       "<tr><td colspan=2><hr></td></tr>\n",
       "<tr><td colspan=2>\n",
       "Standard errors in parentheses\n",
       "<br /><sup>*</sup> <i>p</i> < 0.05, <sup>**</sup> <i>p</i> < 0.01, <sup>***</sup> <i>p</i> < 0.001\n",
       "</td></tr>\n",
       "</table>\n",
       "\n"
      ],
      "text/plain": [
       "This front-end or document format cannot display HTML"
      ]
     },
     "metadata": {},
     "output_type": "display_data"
    }
   ],
   "source": [
    "%html\n",
    "esttab, html mlabel(\"enrollment change (log)\") noomitted ///\n",
    "order(LD.total_enrollment_log D.multi_brand D.Sys_law_enforce D.interact ///\n",
    "D.sys_campuses D.online D.selective D._Iiclevel* D.dpct* _cons) ///\n",
    "drop(oLD.total_enrollment_log oD.dpcttype_other D._Iyear_* oD._Iyear_*)  ///\n",
    "coeflabel(LD.total_enrollment_log \"Lagged enrollment (log)\" D.multi_brand \"mutli-brand\" ///\n",
    "D.Sys_law_enforce \"legal action\" D.online \"online\" D.interact \"multi-brand x legal action\" ///\n",
    "D.sys_campuses \"firm size (# colleges)\" D.selective \"selective admissions\" ///\n",
    "D._Iiclevel_3 \"BA offered\" D._Iiclevel_2 \"AA offered\" D.dpcttype_health \"% degr. health\" ///\n",
    "D.dpcttype_law \"% degr. law\" D.dpcttype_culinarycosmetic \"% degr. personal service\" D.dpcttype_arts \"% degr. art\" ///\n",
    "D.dpcttype_tech \"% degr. tech\" D.dpcttype_biz \"% degr. biz\" _cons \"Constant\") ///\n",
    "se(%9.2fc) b(%9.2fc) nogaps star(* 0.05 ** 0.01 *** 0.001) varwidth(15) label ///\n",
    "stats(N_clust N, fmt(%9.0fc) label(\"Schools\" \"N\"))"
   ]
  },
  {
   "cell_type": "code",
   "execution_count": null,
   "metadata": {},
   "outputs": [],
   "source": []
  }
 ],
 "metadata": {
  "kernelspec": {
   "display_name": "Stata",
   "language": "stata",
   "name": "stata"
  },
  "language_info": {
   "codemirror_mode": "stata",
   "file_extension": ".do",
   "mimetype": "text/x-stata",
   "name": "stata",
   "version": "15.1"
  }
 },
 "nbformat": 4,
 "nbformat_minor": 4
}
