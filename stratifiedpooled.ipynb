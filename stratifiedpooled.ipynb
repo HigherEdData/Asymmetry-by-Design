{
 "cells": [
  {
   "cell_type": "markdown",
   "metadata": {},
   "source": [
    "## Replication for \"Asymmetry by Design\", March 22, 2020\n",
    "### By Adam Goldstein and Charlie Eaton\n",
    "\n",
    "### Table 4 Stratification by Ownership alternative POOLED models"
   ]
  },
  {
   "cell_type": "code",
   "execution_count": 10,
   "metadata": {},
   "outputs": [],
   "source": [
    "quietly use \"/Users/Charlie/Dropbox/asymmetry by Design/Data/asymmetry_20191229.dta\", clear\n",
    "quietly set scheme plotplain\n",
    "quietly set more off\n",
    "quietly est clear\n",
    "quietly xtset unitid year"
   ]
  },
  {
   "cell_type": "code",
   "execution_count": 11,
   "metadata": {},
   "outputs": [],
   "source": [
    "est clear\n",
    "\n",
    "quietly eststo: reg tuitionall_c_w alt2multi_brands_all system_under all_under online selective i.iclevel ///\n",
    "pell_grants_per_fte_c_w white_share_w black_share_w hisp_share_w dpcttype* i.year if pe_po==1,    cluster(systemid)\n",
    "\n",
    "quietly eststo: reg tuitionall_c_w   alt2multi_brands_all system_under all_under online selective i.iclevel ///\n",
    "pell_grants_per_fte_c_w white_share_w black_share_w hisp_share_w dpcttype* i.year if pe_po==0,    cluster(systemid)\n",
    "\n",
    "quietly eststo: reg loan_amount_borrower_c_w alt2multi_brands_all  system_under online all_under i.iclevel ///\n",
    "pell_grants_per_fte_c_w white_share_w black_share_w hisp_share_w selective dpcttype* i.year if pe_po==1,    cluster(systemid)\n",
    "\n",
    "quietly eststo: reg loan_amount_borrower_c_w   alt2multi_brands_all system_under online all_under i.iclevel ///\n",
    "pell_grants_per_fte_c_w white_share_w black_share_w hisp_share_w selective dpcttype* i.year if pe_po==0,    cluster(systemid)\n",
    "\n",
    "**MIGHT BE BETTER TO DO THIS WITH ALL TITLE IV RATHER THAN JUST FOR-PROFITS\n",
    "quietly eststo: reg ft_faculty_per_100fte_w alt2multi_brands_all  system_under online all_under selective ///\n",
    "pell_grants_per_fte_c_w white_share_w black_share_w hisp_share_w i.iclevel dpcttype* i.year if pe_po==1,    cluster(systemid)\n",
    "\n",
    "quietly eststo: reg ft_faculty_per_100fte_w   alt2multi_brands_all system_under online all_under selective ///\n",
    "pell_grants_per_fte_c_w white_share_w black_share_w hisp_share_w i.iclevel dpcttype* i.year if pe_po==0,    cluster(systemid)\n",
    "\n",
    "quietly replace grad_rate_150_p_w=grad_rate_150_p_w*100 if grad_rate_150_p_w!=0\n",
    "\n",
    "quietly eststo: reg grad_rate_150_p_w alt2multi_brands_all  system_under online all_under i.iclevel dpcttype* i.year ///\n",
    "pell_grants_per_fte_c_w pctchrtgrbkaat pctchrtgrhispt pctchrtgrwhitt selective if pe_po==1,    cluster(systemid)\n",
    "\n",
    "quietly eststo: reg grad_rate_150_p_w   alt2multi_brands_all system_under online all_under i.iclevel dpcttype* i.year ///\n",
    "pell_grants_per_fte_c_w pctchrtgrbkaat pctchrtgrhispt pctchrtgrwhitt selective if pe_po==0,    cluster(systemid)\n",
    "\n",
    "quietly use \"/Users/Charlie/Dropbox/asymmetry by Design/Data/d_OPEID_asymmetry.dta\", clear\n",
    "quietly gen pe_po=0\n",
    "quietly replace pe_po=1 if pe_ind==1 | public==1\n",
    "quietly replace alt2multi_brands_all=alt2multi_brands_all4\n",
    "\n",
    "quietly eststo: reg mn_earn_wne_p6_c_w l2.alt2multi_brands_all ///\n",
    "all_under system_under online selective iclevel ///\n",
    "white_share_w black_share_w hisp_share_w dpcttype* i.year earn_pct_lo if pe_po==1,  cluster(systemid)\n",
    "\n",
    "quietly eststo: reg mn_earn_wne_p6_c_w l2.alt2multi_brands_all ///\n",
    "all_under system_under online selective iclevel ///\n",
    "white_share_w black_share_w hisp_share_w dpcttype* i.year earn_pct_lo if pe_po==0,   cluster(systemid)\n",
    " \n",
    "quietly eststo: reg rpy_3yr_rt_supp_w l2.alt2multi_brands_all system_under all_under online selective iclevel  ///\n",
    "white_share_w black_share_w hisp_share_w dpcttype* i.year rpy_3yr_pct_lo if pe_po==1,   cluster(systemid)\n",
    "\n",
    "quietly eststo: reg rpy_3yr_rt_supp_w l2.alt2multi_brands_all system_under all_under online selective iclevel ///\n",
    "white_share_w black_share_w hisp_share_w dpcttype* i.year rpy_3yr_pct_lo if pe_po==0,  cluster(systemid)\n",
    "\n",
    "quietly use \"/Users/Charlie/Dropbox/asymmetry by Design/Data/asymmetry_20191229.dta\", clear\n",
    "quietly replace alt2multi_brands_all=alt2multi_brands_all4\n",
    "quietly collapse (mean) selective online ///\n",
    "white_share_w black_share_w hisp_share_w pell_grants_per_fte_c_w ///\n",
    "dpcttype_health dpcttype_law dpcttype_culinarycosmetic dpcttype_arts dpcttype_tech dpcttype_biz ///\n",
    "(first) state_n (min) iclevel (max) pe_po system_under pe_ind public law_enf_frst_this_yr alt2multi_brands_all, by(systemid year)\n",
    "\n",
    "quietly xtset systemid year\n",
    "\n",
    "quietly eststo: reg f1.law_enf_frst_this_yr alt2multi_brands_all ///\n",
    "system_under online i.iclevel dpcttype* i.year ///\n",
    "white_share_w black_share_w hisp_share_w selective pell_grants_per_fte_c_w  if pe_po==1, cluster(systemid)\n",
    "\n",
    "quietly eststo: reg f1.law_enf_frst_this_yr alt2multi_brands_all ///\n",
    "system_under online i.iclevel dpcttype* i.year ///\n",
    "white_share_w black_share_w hisp_share_w selective pell_grants_per_fte_c_w if pe_po==0, cluster(systemid)"
   ]
  },
  {
   "cell_type": "code",
   "execution_count": 12,
   "metadata": {},
   "outputs": [
    {
     "data": {
      "text/html": [
       "\n",
       "<table border=\"0\" width=\"*\">\n",
       "<tr><td colspan=29><hr></td></tr>\n",
       "<tr><td> </td><td>(1)</td><td>              </td><td>(2)</td><td>              </td><td>(3)</td><td>              </td><td>(4)</td><td>              </td><td>(5)</td><td>              </td><td>(6)</td><td>              </td><td>(7)</td><td>              </td><td>(8)</td><td>              </td><td>(9)</td><td>              </td><td>(10)</td><td>              </td><td>(11)</td><td>              </td><td>(12)</td><td>              </td><td>(13)</td><td>              </td><td>(14)</td><td>              </td></tr>\n",
       "<tr><td> </td><td>tuitionall_c_w</td><td>              </td><td>tuitionall_c_w</td><td>              </td><td>loan_amount_borrower_c_w</td><td>              </td><td>loan_amount_borrower_c_w</td><td>              </td><td>ft_faculty_per_100fte_w</td><td>              </td><td>ft_faculty_per_100fte_w</td><td>              </td><td>grad_rate_150_p_w</td><td>              </td><td>grad_rate_150_p_w</td><td>              </td><td>mn_earn_wne_p6_c_w</td><td>              </td><td>mn_earn_wne_p6_c_w</td><td>              </td><td>rpy_3yr_rt_supp_w</td><td>              </td><td>rpy_3yr_rt_supp_w</td><td>              </td><td>F.law_enf_frst_this_yr</td><td>              </td><td>F.law_enf_frst_this_yr</td><td>              </td></tr>\n",
       "<tr><td colspan=29><hr></td></tr>\n",
       "<tr><td>alt2multi_brands_all</td><td>958</td><td><sup>*</sup>  </td><td>2019</td><td><sup>**</sup> </td><td>160</td><td>              </td><td>692</td><td><sup>*</sup>  </td><td>-.43</td><td><sup>***</sup></td><td>-.34</td><td>              </td><td>2.3</td><td>              </td><td>7.5</td><td>              </td><td> </td><td>              </td><td> </td><td>              </td><td> </td><td>              </td><td> </td><td>              </td><td>.056</td><td><sup>**</sup> </td><td>.027</td><td>              </td></tr>\n",
       "<tr><td> </td><td>[538]</td><td>              </td><td>[963]</td><td>              </td><td>[228]</td><td>              </td><td>[369]</td><td>              </td><td>[.14]</td><td>              </td><td>[.39]</td><td>              </td><td>[2.2]</td><td>              </td><td>[5.6]</td><td>              </td><td> </td><td>              </td><td> </td><td>              </td><td> </td><td>              </td><td> </td><td>              </td><td>[.026]</td><td>              </td><td>[.022]</td><td>              </td></tr>\n",
       "<tr><td>L2.alt2multi_brands_all</td><td> </td><td>              </td><td> </td><td>              </td><td> </td><td>              </td><td> </td><td>              </td><td> </td><td>              </td><td> </td><td>              </td><td> </td><td>              </td><td> </td><td>              </td><td>-2231</td><td><sup>***</sup></td><td>-2071</td><td><sup>**</sup> </td><td>-1.7</td><td><sup>**</sup> </td><td>2.4</td><td>              </td><td> </td><td>              </td><td> </td><td>              </td></tr>\n",
       "<tr><td> </td><td> </td><td>              </td><td> </td><td>              </td><td> </td><td>              </td><td> </td><td>              </td><td> </td><td>              </td><td> </td><td>              </td><td> </td><td>              </td><td> </td><td>              </td><td>[537]</td><td>              </td><td>[914]</td><td>              </td><td>[.71]</td><td>              </td><td>[3.2]</td><td>              </td><td> </td><td>              </td><td> </td><td>              </td></tr>\n",
       "<tr><td colspan=29><hr></td></tr>\n",
       "<tr><td><i>N</i></td><td>12794</td><td>              </td><td>26309</td><td>              </td><td>12155</td><td>              </td><td>20930</td><td>              </td><td>6408</td><td>              </td><td>3560</td><td>              </td><td>5164</td><td>              </td><td>7217</td><td>              </td><td>1313</td><td>              </td><td>4623</td><td>              </td><td>2422</td><td>              </td><td>6447</td><td>              </td><td>886</td><td>              </td><td>21129</td><td>              </td></tr>\n",
       "<tr><td><i>R</i><sup>2</sup></td><td>.21</td><td>              </td><td>.23</td><td>              </td><td>.23</td><td>              </td><td>.22</td><td>              </td><td>.14</td><td>              </td><td>.17</td><td>              </td><td>.48</td><td>              </td><td>.22</td><td>              </td><td>.75</td><td>              </td><td>.62</td><td>              </td><td>.78</td><td>              </td><td>.57</td><td>              </td><td>.064</td><td>              </td><td>.012</td><td>              </td></tr>\n",
       "<tr><td>adj. <i>R</i><sup>2</sup></td><td>0.206</td><td>              </td><td>0.224</td><td>              </td><td>0.223</td><td>              </td><td>0.220</td><td>              </td><td>0.137</td><td>              </td><td>0.159</td><td>              </td><td>0.474</td><td>              </td><td>0.212</td><td>              </td><td>0.751</td><td>              </td><td>0.617</td><td>              </td><td>0.773</td><td>              </td><td>0.564</td><td>              </td><td>0.020</td><td>              </td><td>0.010</td><td>              </td></tr>\n",
       "<tr><td colspan=29><hr></td></tr>\n",
       "<tr><td colspan=29>\n",
       "Standard errors in brackets\n",
       "<br /><sup>*</sup> <i>p</i> < 0.10, <sup>**</sup> <i>p</i> < 0.05, <sup>***</sup> <i>p</i> < 0.01\n",
       "</td></tr>\n",
       "</table>\n",
       "\n"
      ],
      "text/plain": [
       "This front-end or document format cannot display HTML"
      ]
     },
     "metadata": {},
     "output_type": "display_data"
    }
   ],
   "source": [
    "%html\n",
    "esttab, html ///\n",
    " keep (alt2multi_brands_all L2.alt2multi_brands_all) r2(%9.1g) se(%9.1g) b(%9.1g) nogaps stardetach ///\n",
    " star(* 0.10 ** 0.05 *** 0.01) varwidth(1) replace  ar2  br  nocon modelwidth(1)"
   ]
  },
  {
   "cell_type": "code",
   "execution_count": null,
   "metadata": {},
   "outputs": [],
   "source": []
  }
 ],
 "metadata": {
  "kernelspec": {
   "display_name": "Stata",
   "language": "stata",
   "name": "stata"
  },
  "language_info": {
   "codemirror_mode": "stata",
   "file_extension": ".do",
   "mimetype": "text/x-stata",
   "name": "stata",
   "version": "15.1"
  }
 },
 "nbformat": 4,
 "nbformat_minor": 4
}
