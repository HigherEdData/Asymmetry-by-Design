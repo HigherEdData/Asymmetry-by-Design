{
 "cells": [
  {
   "cell_type": "code",
   "execution_count": 1,
   "id": "93b9b0c3-916d-453e-8fcc-96fcb71bb9d2",
   "metadata": {},
   "outputs": [],
   "source": [
    "use data/d_unitidasymmetry, clear"
   ]
  },
  {
   "cell_type": "code",
   "execution_count": 2,
   "id": "4ce2bf8c-8f73-4d23-bf63-8e21d23aafb2",
   "metadata": {},
   "outputs": [],
   "source": [
    "qui drop if opeid==\"\"\n",
    "qui drop if opeid==\"-2\"\n",
    "\n",
    "collapse (first) state_n system_under systemnm systemid multi_brand ///\n",
    "multi_brand2 multi_brand4 (min) iclevel (rawsum) law_enf_frst_this_yr ///\n",
    "all_under fte_count (mean) pell_grants_per_fte_c_w online selective ///\n",
    "white_share_w black_share_w hisp_share_w dpctty* tuitionall_c_w ///\n",
    "grad_rate_150_p_w, by(opeid year)\n",
    "rename opeid opeidstring"
   ]
  },
  {
   "cell_type": "code",
   "execution_count": 3,
   "id": "e24ad414-1b06-4c81-b969-50218adaca60",
   "metadata": {},
   "outputs": [
    {
     "name": "stdout",
     "output_type": "stream",
     "text": [
      "\n",
      "(note: variable opeidstring was str8, now str10 to accommodate using data's\n",
      "       values)\n",
      "\n",
      "    Result                           # of obs.\n",
      "    -----------------------------------------\n",
      "    not matched                        64,660\n",
      "        from master                     2,048  \n",
      "        from using                     62,612  \n",
      "\n",
      "    matched                            50,443  \n",
      "    -----------------------------------------\n",
      "\n",
      "\n",
      "(105,175 missing values generated)\n",
      "\n",
      "(102,050 missing values generated)\n",
      "\n",
      "(10,159 real changes made)\n",
      "\n",
      "(2,048 observations deleted)\n",
      "\n",
      "       panel variable:  opeid (unbalanced)\n",
      "        time variable:  year, 1987 to 2016, but with gaps\n",
      "                delta:  1 unit\n"
     ]
    }
   ],
   "source": [
    "merge 1:1 opeidstring year using data/d_opeidfrompehighered, nogen\n",
    "\n",
    "egen rpy_3yr_n = rowtotal(lo_inc_rpy_3yr_n md_inc_rpy_3yr_n hi_inc_rpy_3yr_n)\n",
    "gen rpy_3yr_pct_lo= lo_inc_rpy_3yr_n / rpy_3yr_n * 100\n",
    "gen earn_pct_lo=lo_inc_yr6_n / overall_yr6_n\n",
    "\n",
    "replace rpy_3yr_rt_supp_w=rpy_3yr_rt_supp_w*100\n",
    "\n",
    "drop if opeid==.\n",
    "xtset opeid year"
   ]
  },
  {
   "cell_type": "code",
   "execution_count": 4,
   "id": "0f976a6a-9da8-4dd9-bf35-c80a28d98222",
   "metadata": {},
   "outputs": [
    {
     "name": "stdout",
     "output_type": "stream",
     "text": [
      "\n",
      "\n",
      "\n",
      "(0 observations deleted)\n",
      "\n",
      "\n",
      "(101,830 observations deleted)\n",
      "\n",
      "\n",
      "(0 observations deleted)\n",
      "\n",
      "\n",
      "    Result                           # of obs.\n",
      "    -----------------------------------------\n",
      "    not matched                        10,466\n",
      "        from master                    10,376  \n",
      "        from using                         90  \n",
      "\n",
      "    matched                             1,537  \n",
      "    -----------------------------------------\n",
      "\n",
      "\n",
      "file /var/folders/zn/15gt96jj7cq826sfh5w_8fkm0000gn/T//St34059.000002 saved\n",
      "\n",
      "\n",
      "(note: variable control was byte, now float to accommodate using data's\n",
      "       values)\n",
      "\n",
      "    Result                           # of obs.\n",
      "    -----------------------------------------\n",
      "    not matched                       101,920\n",
      "        from master                   101,830  (_merge==1)\n",
      "        from using                         90  (_merge==2)\n",
      "\n",
      "    matched                            11,913  (_merge==3)\n",
      "    -----------------------------------------\n"
     ]
    }
   ],
   "source": [
    "preserve\n",
    "\n",
    "*save d_opeidasymmetry, replace\n",
    "\n",
    "bysort opeid year: egen rankopeid=rank(opeid), unique\n",
    "keep if rankopeid==1\n",
    "\n",
    "bysort opeid: egen maxyear=max(year)\n",
    "keep if maxyear==year\n",
    "keep opeid year\n",
    "\n",
    "drop if opeid==.\n",
    "\n",
    "merge 1:m opeid using data/d_opeidborrowerdefense, nogen\n",
    "\n",
    "tempfile matchedborrowerdefense\n",
    "\n",
    "save `matchedborrowerdefense'\n",
    "\n",
    "restore\n",
    "\n",
    "merge 1:m opeid year using `matchedborrowerdefense'"
   ]
  },
  {
   "cell_type": "code",
   "execution_count": 5,
   "id": "9b3891d5-3ddf-43fa-8e8c-df74c79c92cf",
   "metadata": {},
   "outputs": [
    {
     "name": "stdout",
     "output_type": "stream",
     "text": [
      "\n",
      "\n",
      "\n",
      "\n",
      "\n",
      "\n",
      "\n",
      "(7,864 real changes made)\n",
      "\n",
      "\n"
     ]
    }
   ],
   "source": [
    "bysort opeid year: egen rankopeid=rank(opeid), unique\n",
    "\n",
    "qui gen investor=0\n",
    "qui replace investor=1 if pe_ind==1 | public==1\n",
    "\n",
    "label var pell_grants_per_fte_c_w \"Pell $ per student\"\n",
    "\n",
    "label var tuitionall_c_w \"tuition (1,000s)\"\n",
    "\n",
    "label var grad_rate_150_p \"undergrad grad rate\" \n",
    "\n",
    "replace mn_earn_wne_p6_c_w= mn_earn_wne_p6_c_w /1000\n",
    "\n",
    "label var mn_earn_wne_p6_c_w \"earnings 1,000s\"\n",
    "\n",
    "label var system_under \"firm enrollment (1,000s)\""
   ]
  },
  {
   "cell_type": "code",
   "execution_count": 6,
   "id": "a3dc2cf4-34a5-4b00-bc1c-3a3068958857",
   "metadata": {},
   "outputs": [
    {
     "name": "stdout",
     "output_type": "stream",
     "text": [
      "file data/d_opeidasymmetry.dta saved\n"
     ]
    }
   ],
   "source": [
    "save data/d_opeidasymmetry, replace"
   ]
  },
  {
   "cell_type": "code",
   "execution_count": null,
   "id": "ce23406c-7435-471a-aff3-adeea0e96128",
   "metadata": {},
   "outputs": [],
   "source": []
  }
 ],
 "metadata": {
  "kernelspec": {
   "display_name": "Stata",
   "language": "stata",
   "name": "stata"
  },
  "language_info": {
   "codemirror_mode": "stata",
   "file_extension": ".do",
   "mimetype": "text/x-stata",
   "name": "stata",
   "version": "15.1"
  }
 },
 "nbformat": 4,
 "nbformat_minor": 5
}
