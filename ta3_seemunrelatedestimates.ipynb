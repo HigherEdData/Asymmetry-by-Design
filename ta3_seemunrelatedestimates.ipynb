{
 "cells": [
  {
   "cell_type": "markdown",
   "metadata": {},
   "source": [
    "## Replication for \"Asymmetry by Design\", March 22, 2020\n",
    "### By Adam Goldstein and Charlie Eaton\n",
    "\n",
    "Table A3. Re-estimation of Pooled Tuition, Loan, and Graduation Rate Standard Errors with Seemingly Unrelated Regression"
   ]
  },
  {
   "cell_type": "markdown",
   "metadata": {},
   "source": [
    "Install STATA packages"
   ]
  },
  {
   "cell_type": "code",
   "execution_count": 1,
   "metadata": {},
   "outputs": [],
   "source": [
    "*ssc install estout\n",
    "*ssc install suest"
   ]
  },
  {
   "cell_type": "markdown",
   "metadata": {},
   "source": [
    "Download datasets"
   ]
  },
  {
   "cell_type": "code",
   "execution_count": 2,
   "metadata": {},
   "outputs": [],
   "source": [
    "*"
   ]
  },
  {
   "cell_type": "code",
   "execution_count": 3,
   "metadata": {},
   "outputs": [],
   "source": [
    "qui {\n",
    "quietly use data/d_unitidasymmetry, clear\n",
    "quietly xtset unitid year\n",
    "    est clear\n",
    "    \n",
    "eststo tuition: reg tuitionall_c_w multi_brand system_under all_under online selective ib3.iclevel ///\n",
    "pell_grants_per_fte_c_w white_share_w black_share_w hisp_share_w dpcttype* grad_rate_150_p_w ///\n",
    " i.state_n ib1.year, \n",
    "    \n",
    "eststo loan: reg loan_amount_borrower_c_w multi_brand system_under all_under online selective ib3.iclevel ///\n",
    "pell_grants_per_fte_c_w white_share_w black_share_w hisp_share_w dpcttype* grad_rate_150_p_w ///\n",
    " i.state_n ib1.year,\n",
    "\n",
    "eststo faculty: reg ft_faculty_per_100fte_w multi_brand system_under all_under online selective ib3.iclevel ///\n",
    "pell_grants_per_fte_c_w white_share_w black_share_w hisp_share_w dpcttype* tuitionall_c_w ///\n",
    "    i.state_n ib1.year,\n",
    "    \n",
    "eststo grad4yr : reg grad_rate_150_p4yr_w multi_brand system_under online selective all_under ib3.iclevel ///\n",
    "pell_grants_per_fte_c_w white_share_w black_share_w hisp_share_w selective dpcttype* tuitionall_c_w ///\n",
    "  i.state_n ib1.year,\n",
    "\n",
    "eststo grad2yr: reg grad_rate_150_p2yr_w multi_brand system_under online selective all_under ib3.iclevel ///\n",
    "pell_grants_per_fte_c_w white_share_w black_share_w hisp_share_w selective dpcttype* tuitionall_c_w ///\n",
    "  i.state_n ib1.year,\n",
    "    \n",
    "eststo nreport: reg grad_rate_150_p_w multi_brand system_under online selective all_under ib3.iclevel ///\n",
    "pell_grants_per_fte_c_w white_share_w black_share_w hisp_share_w selective dpcttype* tuitionall_c_w ///\n",
    "  i.state_n ib1.year, \n",
    "\n",
    "set matsize 1000\n",
    "    \n",
    "    eststo: suest tuition loan faculty grad4yr grad2yr nreport, cluster(systemid)\n",
    "    \n",
    "set line 255\n",
    "    \n",
    "esttab est7 using tables/ta3_unitidseemunrelatedreg.rtf, keep(multi_brand system_under online all_under 1.iclevel 2.iclevel ///\n",
    "pell_grants_per_fte_c_w white_share_w black_share_w hisp_share_w selective dpcttype* ///\n",
    "tuitionall_c_w grad_rate_150_p_w) noomitted ///\n",
    "unstack se(%9.2fc) b(%9.2fc) nogaps label ///\n",
    "star(* 0.05 ** 0.01 *** 0.001) varwidth(10) replace\n",
    "}"
   ]
  },
  {
   "cell_type": "code",
   "execution_count": 4,
   "metadata": {},
   "outputs": [
    {
     "data": {
      "text/html": [
       ". esttab est7, keep(multi_brand system_under online all_under 1.iclevel 2.iclevel pell_grants_per_fte_c_w white_share_w black_share_w hisp_share_w selective dpcttype* tuitionall_c_w grad_rate_150_p_w) noomitted unstack se(%9.2fc) b(%9.2fc) nogaps label star(* 0.05 ** 0.01 *** 0.001) html varwidth(10)\n",
       "\n",
       "<table border=\"0\" width=\"*\">\n",
       "<tr><td colspan=7><hr></td></tr>\n",
       "<tr><td>          </td><td>         (1)              </td><td>                          </td><td>                          </td><td>                          </td><td>                          </td><td>                          </td></tr>\n",
       "<tr><td>          </td><td>                          </td><td>                          </td><td>                          </td><td>                          </td><td>                          </td><td>                          </td></tr>\n",
       "<tr><td>          </td><td>tuition_mean              </td><td>   loan_mean              </td><td>faculty_mean              </td><td>grad4yr_mean              </td><td>grad2yr_mean              </td><td>nreport_mean              </td></tr>\n",
       "<tr><td colspan=7><hr></td></tr>\n",
       "<tr><td>multi-brand</td><td>        2.84<sup>***</sup></td><td>        0.58<sup>*</sup>  </td><td>       -0.80<sup>***</sup></td><td>       -5.74<sup>**</sup> </td><td>       -1.10              </td><td>       -1.46              </td></tr>\n",
       "<tr><td>          </td><td>      (0.65)              </td><td>      (0.23)              </td><td>      (0.13)              </td><td>      (2.04)              </td><td>      (2.14)              </td><td>      (1.89)              </td></tr>\n",
       "<tr><td>firm-level enrollment (1,000s)</td><td>       -0.01<sup>*</sup>  </td><td>        0.01<sup>**</sup> </td><td>       -0.00              </td><td>       -0.08<sup>**</sup> </td><td>       -0.11<sup>**</sup> </td><td>       -0.09<sup>***</sup></td></tr>\n",
       "<tr><td>          </td><td>      (0.00)              </td><td>      (0.00)              </td><td>      (0.00)              </td><td>      (0.03)              </td><td>      (0.04)              </td><td>      (0.03)              </td></tr>\n",
       "<tr><td>campus enrollment (1,000s)</td><td>       -0.02              </td><td>       -0.01              </td><td>       -0.02<sup>*</sup>  </td><td>       -0.23<sup>**</sup> </td><td>       -0.30<sup>**</sup> </td><td>       -0.24<sup>**</sup> </td></tr>\n",
       "<tr><td>          </td><td>      (0.03)              </td><td>      (0.01)              </td><td>      (0.01)              </td><td>      (0.09)              </td><td>      (0.11)              </td><td>      (0.08)              </td></tr>\n",
       "<tr><td>online    </td><td>        1.30              </td><td>       -0.01              </td><td>       -0.25              </td><td>       -3.57              </td><td>        3.64<sup>*</sup>  </td><td>        2.28              </td></tr>\n",
       "<tr><td>          </td><td>      (0.71)              </td><td>      (0.27)              </td><td>      (0.31)              </td><td>      (3.32)              </td><td>      (1.84)              </td><td>      (2.03)              </td></tr>\n",
       "<tr><td>selective admissions</td><td>        0.29              </td><td>        0.34              </td><td>        0.17              </td><td>        3.49              </td><td>        0.53              </td><td>        1.47              </td></tr>\n",
       "<tr><td>          </td><td>      (0.40)              </td><td>      (0.24)              </td><td>      (0.17)              </td><td>      (3.02)              </td><td>      (1.23)              </td><td>      (1.20)              </td></tr>\n",
       "<tr><td>BA offered</td><td>        0.58              </td><td>        0.60              </td><td>       -0.58<sup>***</sup></td><td>      -10.86<sup>*</sup>  </td><td>      -16.03<sup>***</sup></td><td>      -18.57<sup>***</sup></td></tr>\n",
       "<tr><td>          </td><td>      (0.66)              </td><td>      (0.31)              </td><td>      (0.17)              </td><td>      (4.79)              </td><td>      (1.50)              </td><td>      (1.98)              </td></tr>\n",
       "<tr><td>AA offered</td><td>        0.55              </td><td>       -0.02              </td><td>                          </td><td>                          </td><td>       -4.27<sup>***</sup></td><td>       -4.44<sup>**</sup> </td></tr>\n",
       "<tr><td>          </td><td>      (0.54)              </td><td>      (0.28)              </td><td>                          </td><td>                          </td><td>      (1.23)              </td><td>      (1.45)              </td></tr>\n",
       "<tr><td>Pell $ per student (1,000s)</td><td>       -0.02              </td><td>        0.00              </td><td>        0.03              </td><td>        0.45<sup>**</sup> </td><td>       -0.05              </td><td>       -0.01              </td></tr>\n",
       "<tr><td>          </td><td>      (0.02)              </td><td>      (0.01)              </td><td>      (0.02)              </td><td>      (0.14)              </td><td>      (0.04)              </td><td>      (0.04)              </td></tr>\n",
       "<tr><td>% White   </td><td>       -1.83<sup>***</sup></td><td>       -0.21              </td><td>        0.63<sup>**</sup> </td><td>        5.97              </td><td>        3.92<sup>*</sup>  </td><td>        4.97<sup>*</sup>  </td></tr>\n",
       "<tr><td>          </td><td>      (0.49)              </td><td>      (0.29)              </td><td>      (0.24)              </td><td>      (3.21)              </td><td>      (1.92)              </td><td>      (2.10)              </td></tr>\n",
       "<tr><td>% Black   </td><td>       -1.17              </td><td>       -0.79<sup>*</sup>  </td><td>       -0.90<sup>**</sup> </td><td>       -4.14              </td><td>      -11.68<sup>***</sup></td><td>      -10.55<sup>***</sup></td></tr>\n",
       "<tr><td>          </td><td>      (0.91)              </td><td>      (0.38)              </td><td>      (0.31)              </td><td>      (6.18)              </td><td>      (2.34)              </td><td>      (2.35)              </td></tr>\n",
       "<tr><td>% Hispanic</td><td>       -1.98<sup>*</sup>  </td><td>       -1.69<sup>***</sup></td><td>       -0.74<sup>*</sup>  </td><td>       -8.31              </td><td>        7.61<sup>**</sup> </td><td>        7.49<sup>**</sup> </td></tr>\n",
       "<tr><td>          </td><td>      (1.01)              </td><td>      (0.36)              </td><td>      (0.38)              </td><td>      (5.83)              </td><td>      (2.34)              </td><td>      (2.63)              </td></tr>\n",
       "<tr><td>% degr. health</td><td>       -0.94              </td><td>        0.09              </td><td>       -1.79              </td><td>       -1.19              </td><td>       -6.80<sup>*</sup>  </td><td>        1.80              </td></tr>\n",
       "<tr><td>          </td><td>      (1.28)              </td><td>      (0.43)              </td><td>      (0.92)              </td><td>      (6.60)              </td><td>      (3.02)              </td><td>      (4.83)              </td></tr>\n",
       "<tr><td>% degr. law</td><td>       -5.33<sup>***</sup></td><td>       -0.34              </td><td>       -3.38<sup>***</sup></td><td>       10.66              </td><td>      -34.98<sup>***</sup></td><td>      -27.35<sup>***</sup></td></tr>\n",
       "<tr><td>          </td><td>      (1.40)              </td><td>      (0.49)              </td><td>      (1.00)              </td><td>      (9.71)              </td><td>      (4.70)              </td><td>      (6.22)              </td></tr>\n",
       "<tr><td>% degr. personal services</td><td>       -0.41              </td><td>       -0.27              </td><td>       -1.45              </td><td>        2.76              </td><td>       -2.32              </td><td>        5.53              </td></tr>\n",
       "<tr><td>          </td><td>      (1.63)              </td><td>      (0.50)              </td><td>      (0.98)              </td><td>     (10.87)              </td><td>      (3.16)              </td><td>      (4.62)              </td></tr>\n",
       "<tr><td>% degr. art</td><td>        3.08<sup>*</sup>  </td><td>        1.55<sup>***</sup></td><td>       -1.60              </td><td>       -3.29              </td><td>      -11.73<sup>**</sup> </td><td>       -1.56              </td></tr>\n",
       "<tr><td>          </td><td>      (1.37)              </td><td>      (0.46)              </td><td>      (0.95)              </td><td>      (5.78)              </td><td>      (3.57)              </td><td>      (4.43)              </td></tr>\n",
       "<tr><td>% degr. tech</td><td>        3.48              </td><td>        2.41<sup>**</sup> </td><td>       -2.41<sup>*</sup>  </td><td>       -8.75              </td><td>      -14.49<sup>**</sup> </td><td>       -6.44              </td></tr>\n",
       "<tr><td>          </td><td>      (1.79)              </td><td>      (0.76)              </td><td>      (1.04)              </td><td>      (5.89)              </td><td>      (4.74)              </td><td>      (6.02)              </td></tr>\n",
       "<tr><td>% degr. biz</td><td>       -2.38              </td><td>       -0.99<sup>*</sup>  </td><td>       -3.09<sup>***</sup></td><td>      -22.11<sup>**</sup> </td><td>      -22.60<sup>***</sup></td><td>      -17.34<sup>**</sup> </td></tr>\n",
       "<tr><td>          </td><td>      (1.34)              </td><td>      (0.49)              </td><td>      (0.85)              </td><td>      (7.52)              </td><td>      (3.78)              </td><td>      (5.44)              </td></tr>\n",
       "<tr><td>undergrad grad rate</td><td>        0.01              </td><td>       -0.00              </td><td>                          </td><td>                          </td><td>                          </td><td>                          </td></tr>\n",
       "<tr><td>          </td><td>      (0.01)              </td><td>      (0.00)              </td><td>                          </td><td>                          </td><td>                          </td><td>                          </td></tr>\n",
       "<tr><td>tuition (1,000s)</td><td>                          </td><td>                          </td><td>        0.04<sup>***</sup></td><td>        0.23              </td><td>        0.06              </td><td>        0.10              </td></tr>\n",
       "<tr><td>          </td><td>                          </td><td>                          </td><td>      (0.01)              </td><td>      (0.13)              </td><td>      (0.06)              </td><td>      (0.06)              </td></tr>\n",
       "<tr><td colspan=7><hr></td></tr>\n",
       "<tr><td>Observations</td><td>       21292              </td><td>                          </td><td>                          </td><td>                          </td><td>                          </td><td>                          </td></tr>\n",
       "<tr><td colspan=7><hr></td></tr>\n",
       "<tr><td colspan=7>\n",
       "Standard errors in parentheses\n",
       "<br /><sup>*</sup> <i>p</i> < 0.05, <sup>**</sup> <i>p</i> < 0.01, <sup>***</sup> <i>p</i> < 0.001\n",
       "</td></tr>\n",
       "</table>\n",
       "\n"
      ],
      "text/plain": [
       "This front-end or document format cannot display HTML"
      ]
     },
     "metadata": {},
     "output_type": "display_data"
    }
   ],
   "source": [
    "%html\n",
    "esttab est7, keep(multi_brand system_under online all_under 1.iclevel 2.iclevel ///\n",
    "pell_grants_per_fte_c_w white_share_w black_share_w hisp_share_w selective dpcttype* ///\n",
    "tuitionall_c_w grad_rate_150_p_w) noomitted ///\n",
    "unstack se(%9.2fc) b(%9.2fc) nogaps label ///\n",
    "star(* 0.05 ** 0.01 *** 0.001) html varwidth(10)\n"
   ]
  },
  {
   "cell_type": "code",
   "execution_count": null,
   "metadata": {},
   "outputs": [],
   "source": []
  }
 ],
 "metadata": {
  "kernelspec": {
   "display_name": "Stata",
   "language": "stata",
   "name": "stata"
  },
  "language_info": {
   "codemirror_mode": "stata",
   "file_extension": ".do",
   "mimetype": "text/x-stata",
   "name": "stata",
   "version": "15.1"
  }
 },
 "nbformat": 4,
 "nbformat_minor": 4
}
