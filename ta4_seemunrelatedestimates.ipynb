{
 "cells": [
  {
   "cell_type": "markdown",
   "metadata": {},
   "source": [
    "## Replication for \"Asymmetry by Design\", March 22, 2020\n",
    "### By Adam Goldstein and Charlie Eaton\n",
    "\n",
    "### Table A4. Re-estimation of Pooled Earnings and Repayment Standard Errors with Seemingly Unrelated Regression for OPEID-Level Tuition Dependent Variable Model"
   ]
  },
  {
   "cell_type": "markdown",
   "metadata": {},
   "source": [
    "Install STATA packages"
   ]
  },
  {
   "cell_type": "code",
   "execution_count": 1,
   "metadata": {},
   "outputs": [],
   "source": [
    "*ssc install estout\n",
    "*ssc install reghdfe"
   ]
  },
  {
   "cell_type": "markdown",
   "metadata": {},
   "source": [
    "Download datasets"
   ]
  },
  {
   "cell_type": "code",
   "execution_count": 2,
   "metadata": {},
   "outputs": [],
   "source": [
    "*"
   ]
  },
  {
   "cell_type": "code",
   "execution_count": 3,
   "metadata": {},
   "outputs": [],
   "source": [
    "quietly {\n",
    "    quietly use data/d_opeidasymmetry, clear\n",
    "keep if rankopeid==1\n",
    "xtset opeid year\n",
    "    \n",
    "quietly gen l2multi_brand=l2.multi_brand\n",
    "quietly replace multi_brand=l2multi_brand\n",
    "    \n",
    "est clear\n",
    "    \n",
    "eststo tuition: reg tuitionall_c_w multi_brand system_under all_under online selective ib3.iclevel ///\n",
    "pell_grants_per_fte_c_w white_share_w black_share_w hisp_share_w dpcttype* ///\n",
    " i.state_n ib2007.year,\n",
    "\n",
    "eststo earning: reg mn_earn_wne_p6_c_w multi_brand system_under all_under selective online ib3.iclevel  ///\n",
    "earn_pct_lo white_share_w black_share_w hisp_share_w dpcttype* tuitionall_c_w ///\n",
    "  i.state_n ib2007.year, \n",
    "    \n",
    "eststo repay: reg rpy_3yr_rt_supp_w multi_brand system_under all_under selective online ib3.iclevel  ///\n",
    "rpy_3yr_pct_lo white_share_w black_share_w hisp_share_w dpcttype* tuitionall_c_w ///\n",
    "  i.state_n ib2007.year,\n",
    "\n",
    "quietly label var earn_pct_lo \"% low-income\"\n",
    "label var multi_brand \"multi-brand\"\n",
    "label var system_under \"firm enrollment (1,000s)\"\n",
    "label var all_under \"campus enrollment (1,000s)\"\n",
    "label var online \"online\"\n",
    "label var selective \"selective admissions\"\n",
    "label define iclevel 1 \"BA offered\" 2 \"AA offered\" \n",
    "    label values iclevel iclevel\n",
    "label var black_share_w \"% Black\"\n",
    "label var hisp_share_w \"% Hispanic\"\n",
    "label var white_share_w \"% White\"\n",
    "label var dpcttype_arts \"% degr. art\"\n",
    "label var dpcttype_biz \"% degr. biz\"\n",
    "label var dpcttype_culinarycosmetic \"% degr. personal services\"\n",
    "label var dpcttype_health \"% degr. health\"\n",
    "label var dpcttype_law \"% degr. law (undergrad)\"\n",
    "label var dpcttype_tech \"% degr. tech\"\n",
    "label var tuitionall_c_w \"tuition (1,000s)\"\n",
    "\n",
    "eststo: suest tuition earning repay, cluster(systemid) \n",
    "    \n",
    "esttab est4 using tables/ta4_opeidseemunrelatedreg.rtf, keep(multi_brand system_under online all_under 1.iclevel 2.iclevel ///\n",
    "pell_grants_per_fte_c_w white_share_w black_share_w hisp_share_w selective dpcttype* ///\n",
    "tuitionall_c_w earn_pct_lo rpy_3yr_pct_lo) order(multi_brand system_under all_under online selective ///\n",
    "1.iclevel 2.iclevel pell_grants_per_fte_c_w white_share_w black_share_w hisp_share_w selective dpcttype* ///\n",
    "tuitionall_c_w earn_pct_lo rpy_3yr_pct_lo) unstack se(%9.2fc) b(%9.2fc) nogaps ///\n",
    "star(* 0.05 ** 0.01 *** 0.001) replace varwidth(10) label noomitted\n",
    "}"
   ]
  },
  {
   "cell_type": "code",
   "execution_count": 4,
   "metadata": {},
   "outputs": [
    {
     "data": {
      "text/html": [
       "\n",
       "<table border=\"0\" width=\"*\">\n",
       "<tr><td colspan=4><hr></td></tr>\n",
       "<tr><td>          </td><td>         (1)              </td><td>                          </td><td>                          </td></tr>\n",
       "<tr><td>          </td><td>                          </td><td>                          </td><td>                          </td></tr>\n",
       "<tr><td>          </td><td>tuition_mean              </td><td>earning_mean              </td><td>  repay_mean              </td></tr>\n",
       "<tr><td colspan=4><hr></td></tr>\n",
       "<tr><td>multi-brand</td><td>        2.60<sup>***</sup></td><td>       -1.83<sup>***</sup></td><td>       -3.77<sup>**</sup> </td></tr>\n",
       "<tr><td>          </td><td>      (0.47)              </td><td>      (0.42)              </td><td>      (1.22)              </td></tr>\n",
       "<tr><td>firm enrollment (1,000s)</td><td>       -0.01              </td><td>       -0.01              </td><td>       -0.04<sup>*</sup>  </td></tr>\n",
       "<tr><td>          </td><td>      (0.01)              </td><td>      (0.01)              </td><td>      (0.02)              </td></tr>\n",
       "<tr><td>campus enrollment (1,000s)</td><td>       -0.01              </td><td>        0.15<sup>***</sup></td><td>       -0.02              </td></tr>\n",
       "<tr><td>          </td><td>      (0.02)              </td><td>      (0.01)              </td><td>      (0.03)              </td></tr>\n",
       "<tr><td>online    </td><td>        1.88<sup>**</sup> </td><td>        2.22<sup>*</sup>  </td><td>        4.29<sup>**</sup> </td></tr>\n",
       "<tr><td>          </td><td>      (0.72)              </td><td>      (1.07)              </td><td>      (1.37)              </td></tr>\n",
       "<tr><td>selective admissions</td><td>        0.44              </td><td>       -0.11              </td><td>        5.06<sup>***</sup></td></tr>\n",
       "<tr><td>          </td><td>      (0.28)              </td><td>      (0.40)              </td><td>      (1.27)              </td></tr>\n",
       "<tr><td>BA offered</td><td>        3.19<sup>***</sup></td><td>        4.06<sup>***</sup></td><td>       -4.10<sup>***</sup></td></tr>\n",
       "<tr><td>          </td><td>      (0.46)              </td><td>      (0.67)              </td><td>      (1.06)              </td></tr>\n",
       "<tr><td>AA offered</td><td>        3.15<sup>***</sup></td><td>        1.02<sup>*</sup>  </td><td>       -2.57<sup>***</sup></td></tr>\n",
       "<tr><td>          </td><td>      (0.30)              </td><td>      (0.40)              </td><td>      (0.67)              </td></tr>\n",
       "<tr><td>Pell $ per student</td><td>        0.00              </td><td>                          </td><td>                          </td></tr>\n",
       "<tr><td>          </td><td>      (0.01)              </td><td>                          </td><td>                          </td></tr>\n",
       "<tr><td>% White   </td><td>       -0.52              </td><td>       -4.41<sup>***</sup></td><td>        2.97              </td></tr>\n",
       "<tr><td>          </td><td>      (0.46)              </td><td>      (1.06)              </td><td>      (1.67)              </td></tr>\n",
       "<tr><td>% Black   </td><td>       -0.53              </td><td>       -2.30              </td><td>      -27.02<sup>***</sup></td></tr>\n",
       "<tr><td>          </td><td>      (0.56)              </td><td>      (1.26)              </td><td>      (2.02)              </td></tr>\n",
       "<tr><td>% Hispanic</td><td>       -1.14              </td><td>       -4.17<sup>***</sup></td><td>       -0.96              </td></tr>\n",
       "<tr><td>          </td><td>      (0.65)              </td><td>      (1.27)              </td><td>      (2.23)              </td></tr>\n",
       "<tr><td>% degr. health</td><td>        0.10              </td><td>       -8.61<sup>***</sup></td><td>       -1.95              </td></tr>\n",
       "<tr><td>          </td><td>      (0.90)              </td><td>      (1.95)              </td><td>      (1.64)              </td></tr>\n",
       "<tr><td>% degr. law (undergrad)</td><td>       -3.59<sup>**</sup> </td><td>       -7.94<sup>***</sup></td><td>       -4.74<sup>*</sup>  </td></tr>\n",
       "<tr><td>          </td><td>      (1.13)              </td><td>      (2.18)              </td><td>      (2.25)              </td></tr>\n",
       "<tr><td>% degr. personal services</td><td>       -0.17              </td><td>      -15.37<sup>***</sup></td><td>        0.28              </td></tr>\n",
       "<tr><td>          </td><td>      (0.89)              </td><td>      (1.94)              </td><td>      (1.62)              </td></tr>\n",
       "<tr><td>% degr. art</td><td>        4.04<sup>***</sup></td><td>      -12.44<sup>***</sup></td><td>        2.73              </td></tr>\n",
       "<tr><td>          </td><td>      (1.05)              </td><td>      (2.15)              </td><td>      (1.99)              </td></tr>\n",
       "<tr><td>% degr. tech</td><td>        3.60<sup>**</sup> </td><td>       -1.08              </td><td>       -1.06              </td></tr>\n",
       "<tr><td>          </td><td>      (1.15)              </td><td>      (2.02)              </td><td>      (1.99)              </td></tr>\n",
       "<tr><td>% degr. biz</td><td>       -1.72              </td><td>      -10.58<sup>***</sup></td><td>       -5.40<sup>*</sup>  </td></tr>\n",
       "<tr><td>          </td><td>      (1.00)              </td><td>      (2.04)              </td><td>      (2.18)              </td></tr>\n",
       "<tr><td>tuition (1,000s)</td><td>                          </td><td>        0.16<sup>***</sup></td><td>       -0.03              </td></tr>\n",
       "<tr><td>          </td><td>                          </td><td>      (0.03)              </td><td>      (0.05)              </td></tr>\n",
       "<tr><td>% low-income</td><td>                          </td><td>      -26.92<sup>***</sup></td><td>                          </td></tr>\n",
       "<tr><td>          </td><td>                          </td><td>      (1.87)              </td><td>                          </td></tr>\n",
       "<tr><td>rpy_3yr_pct_lo</td><td>                          </td><td>                          </td><td>       -0.30<sup>***</sup></td></tr>\n",
       "<tr><td>          </td><td>                          </td><td>                          </td><td>      (0.02)              </td></tr>\n",
       "<tr><td colspan=4><hr></td></tr>\n",
       "<tr><td>Observations</td><td>       30120              </td><td>                          </td><td>                          </td></tr>\n",
       "<tr><td colspan=4><hr></td></tr>\n",
       "<tr><td colspan=4>\n",
       "Standard errors in parentheses\n",
       "<br /><sup>*</sup> <i>p</i> < 0.05, <sup>**</sup> <i>p</i> < 0.01, <sup>***</sup> <i>p</i> < 0.001\n",
       "</td></tr>\n",
       "</table>\n"
      ],
      "text/plain": [
       "This front-end or document format cannot display HTML"
      ]
     },
     "metadata": {},
     "output_type": "display_data"
    }
   ],
   "source": [
    "%html\n",
    "esttab est4, keep(multi_brand system_under online all_under 1.iclevel 2.iclevel ///\n",
    "pell_grants_per_fte_c_w white_share_w black_share_w hisp_share_w selective dpcttype* ///\n",
    "tuitionall_c_w earn_pct_lo rpy_3yr_pct_lo) order(multi_brand system_under all_under online selective ///\n",
    "1.iclevel 2.iclevel pell_grants_per_fte_c_w white_share_w black_share_w hisp_share_w selective dpcttype* ///\n",
    "tuitionall_c_w earn_pct_lo rpy_3yr_pct_lo) unstack se(%9.2fc) b(%9.2fc) nogaps ///\n",
    "star(* 0.05 ** 0.01 *** 0.001) html varwidth(10) label noomitted"
   ]
  },
  {
   "cell_type": "code",
   "execution_count": null,
   "metadata": {},
   "outputs": [],
   "source": []
  }
 ],
 "metadata": {
  "kernelspec": {
   "display_name": "Stata",
   "language": "stata",
   "name": "stata"
  },
  "language_info": {
   "codemirror_mode": "stata",
   "file_extension": ".do",
   "mimetype": "text/x-stata",
   "name": "stata",
   "version": "15.1"
  }
 },
 "nbformat": 4,
 "nbformat_minor": 4
}
