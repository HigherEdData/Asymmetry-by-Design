{
 "cells": [
  {
   "cell_type": "markdown",
   "metadata": {},
   "source": [
    "## Replication for \"Asymmetry by Design\", October 22, 2020\n",
    "### By Adam Goldstein and Charlie Eaton\n",
    "\n",
    "### Table 8: Brand-Specific News Mentions after Law Enforcement Against Parent Firm"
   ]
  },
  {
   "cell_type": "markdown",
   "metadata": {},
   "source": [
    "Install STATA packages"
   ]
  },
  {
   "cell_type": "code",
   "execution_count": 1,
   "metadata": {},
   "outputs": [],
   "source": [
    "*ssc install estout"
   ]
  },
  {
   "cell_type": "markdown",
   "metadata": {},
   "source": [
    "Download datasets"
   ]
  },
  {
   "cell_type": "code",
   "execution_count": 2,
   "metadata": {},
   "outputs": [],
   "source": [
    "*"
   ]
  },
  {
   "cell_type": "code",
   "execution_count": 3,
   "metadata": {},
   "outputs": [],
   "source": [
    "qui {\n",
    "    quietly use data/d_unitidasymmetry, clear\n",
    "\n",
    "quietly collapse (rawsum) sftesale sftetotl (mean) all_under system_under grad_rate_150_p_w ///\n",
    "loan_amount_borrower_c_w tuitionall_c_w selective white_share_w black_share_w hisp_share_w ///\n",
    "pell_grants_per_fte_c_w ft_faculty_per_100fte_w dpcttype_health dpcttype_law ///\n",
    "dpcttype_culinarycosmetic dpcttype_arts dpcttype_tech dpcttype_biz online ///\n",
    "(first) state_n (min) iclevel (max) law_enf_frst_this_yr multi_brand, by(systemid year)\n",
    "    \n",
    "merge 1:m systemid year using data/d_brandnews, ///\n",
    "keep(3) nogen keepusing(brandarticles incident_id systemnm inst_name_new name_first7)\n",
    "\n",
    "label define multi_brand 0 \"Two or fewer brands\" 1 \"More than 3 brands\"\n",
    "label values multi_brand multi_brand\n",
    "}"
   ]
  },
  {
   "cell_type": "code",
   "execution_count": 4,
   "metadata": {},
   "outputs": [],
   "source": [
    "quietly {\n",
    "est clear\n",
    " eststo: nbreg brandarticles multi_brand system_under ///\n",
    "online selective i.iclevel dpct* i.year state_n, cluster(incident) ro\n",
    "\n",
    "label var brandarticles \"# of articles\"\n",
    "label var multi_brand \"multi-brand\"\n",
    "label var system_under \"firm enrollment (1,000s)\"\n",
    "label var online \"online\"\n",
    "label var selective \"selective admissions\"\n",
    "    label drop iclevel\n",
    "label define iclevel 1 \"BA offered\" 2 \"AA offered\" \n",
    "    label values iclevel iclevel\n",
    "label var dpcttype_arts \"% degr. art\"\n",
    "label var dpcttype_biz \"% degr. biz\"\n",
    "label var dpcttype_culinarycosmetic \"% degr. personal services\"\n",
    "label var dpcttype_health \"% degr. health\"\n",
    "label var dpcttype_law \"% degr. law (undergrad)\"\n",
    "label var dpcttype_tech \"% degr. tech\"\n",
    "    \n",
    "esttab using tables/t8_brandnewsmentions.rtf, replace order(multi_brand system_under online selective) ///\n",
    "keep(multi_brand system_under online selective 1.iclevel 2.iclevel ///\n",
    "dpcttype_law dpcttype_culinarycosmetic dpcttype_arts dpcttype_tech dpcttype_biz _cons)  ///\n",
    "se(%9.2fc) b(%9.2fc) nogaps eqlabels(none) ///\n",
    " star(* 0.05 ** 0.01 *** 0.001) varwidth(15) label ///\n",
    "stats(r2_p N_clust N, fmt(2 %9.0fc %9.0fc) label(\"pseudo r2\" \"incident clusters\" \"N\"))\n",
    "}"
   ]
  },
  {
   "cell_type": "code",
   "execution_count": 5,
   "metadata": {},
   "outputs": [
    {
     "name": "stdout",
     "output_type": "stream",
     "text": [
      "\n",
      "------------------------------------\n",
      "        multi-brand | mean(branda~s)\n",
      "--------------------+---------------\n",
      "Two or fewer brands |       30.91954\n",
      " More than 3 brands |      12.193717\n",
      "------------------------------------\n"
     ]
    }
   ],
   "source": [
    "table multi_brand, c(mean brandarticles)"
   ]
  },
  {
   "cell_type": "code",
   "execution_count": 6,
   "metadata": {},
   "outputs": [
    {
     "data": {
      "text/html": [
       "\n",
       "<table border=\"0\" width=\"*\">\n",
       "<tr><td colspan=2><hr></td></tr>\n",
       "<tr><td>               </td><td>         (1)              </td></tr>\n",
       "<tr><td>               </td><td># of articles              </td></tr>\n",
       "<tr><td colspan=2><hr></td></tr>\n",
       "<tr><td>multi-brand    </td><td>       -2.52<sup>***</sup></td></tr>\n",
       "<tr><td>               </td><td>      (0.58)              </td></tr>\n",
       "<tr><td>firm enrollment (1,000s)</td><td>        0.03<sup>***</sup></td></tr>\n",
       "<tr><td>               </td><td>      (0.01)              </td></tr>\n",
       "<tr><td>online         </td><td>       -0.82              </td></tr>\n",
       "<tr><td>               </td><td>      (2.21)              </td></tr>\n",
       "<tr><td>selective admissions</td><td>        3.64              </td></tr>\n",
       "<tr><td>               </td><td>      (2.30)              </td></tr>\n",
       "<tr><td>BA offered     </td><td>        0.00              </td></tr>\n",
       "<tr><td>               </td><td>         (.)              </td></tr>\n",
       "<tr><td>AA offered     </td><td>        0.91              </td></tr>\n",
       "<tr><td>               </td><td>      (0.68)              </td></tr>\n",
       "<tr><td>% degr. law (undergrad)</td><td>       14.08<sup>**</sup> </td></tr>\n",
       "<tr><td>               </td><td>      (4.93)              </td></tr>\n",
       "<tr><td>% degr. personal services</td><td>       -8.16<sup>***</sup></td></tr>\n",
       "<tr><td>               </td><td>      (1.45)              </td></tr>\n",
       "<tr><td>% degr. art    </td><td>       -6.34<sup>***</sup></td></tr>\n",
       "<tr><td>               </td><td>      (1.85)              </td></tr>\n",
       "<tr><td>% degr. tech   </td><td>       -6.81<sup>***</sup></td></tr>\n",
       "<tr><td>               </td><td>      (1.32)              </td></tr>\n",
       "<tr><td>% degr. biz    </td><td>      -13.93<sup>***</sup></td></tr>\n",
       "<tr><td>               </td><td>      (3.11)              </td></tr>\n",
       "<tr><td>Constant       </td><td>        8.55<sup>***</sup></td></tr>\n",
       "<tr><td>               </td><td>      (1.67)              </td></tr>\n",
       "<tr><td colspan=2><hr></td></tr>\n",
       "<tr><td>pseudo r2      </td><td>        0.07              </td></tr>\n",
       "<tr><td>incident clusters</td><td>          76              </td></tr>\n",
       "<tr><td>N              </td><td>         270              </td></tr>\n",
       "<tr><td colspan=2><hr></td></tr>\n",
       "<tr><td colspan=2>\n",
       "Standard errors in parentheses\n",
       "<br /><sup>*</sup> <i>p</i> < 0.05, <sup>**</sup> <i>p</i> < 0.01, <sup>***</sup> <i>p</i> < 0.001\n",
       "</td></tr>\n",
       "</table>\n",
       "\n"
      ],
      "text/plain": [
       "This front-end or document format cannot display HTML"
      ]
     },
     "metadata": {},
     "output_type": "display_data"
    }
   ],
   "source": [
    "%html\n",
    "esttab, html order(multi_brand system_under online selective 1.iclevel 2.iclevel) ///\n",
    "keep(multi_brand system_under online selective 1.iclevel 2.iclevel ///\n",
    "dpcttype_law dpcttype_culinarycosmetic dpcttype_arts dpcttype_tech dpcttype_biz _cons)  ///\n",
    "se(%9.2fc) b(%9.2fc) nogaps eqlabels(none) ///\n",
    " star(* 0.05 ** 0.01 *** 0.001) varwidth(15) label ///\n",
    "stats(r2_p N_clust N, fmt(2 %9.0fc %9.0fc) label(\"pseudo r2\" \"incident clusters\" \"N\"))"
   ]
  },
  {
   "cell_type": "code",
   "execution_count": 7,
   "metadata": {},
   "outputs": [
    {
     "name": "stdout",
     "output_type": "stream",
     "text": [
      "\n",
      "\n",
      "  Variables that uniquely identify margins: multi_brand\n"
     ]
    },
    {
     "data": {
      "application/pdf": "[encoded data removed]",
      "image/svg+xml": [
       "<?xml version=\"1.0\" encoding=\"UTF-8\" standalone=\"no\"?>\n",
       "<!-- This is a Stata 15.1 generated SVG file (http://www.stata.com) -->\n",
       "\n",
       "<svg version=\"1.1\" width=\"800px\" height=\"267px\" viewBox=\"0 0 3240 1080\" xmlns=\"http://www.w3.org/2000/svg\" xmlns:xlink=\"http://www.w3.org/1999/xlink\">\n",
       "\t<desc>Stata Graph - news_content_analysis_brands</desc>\n",
       "\t<rect x=\"0\" y=\"0\" width=\"3240\" height=\"1080\" style=\"fill:#FFFFFF;stroke:none\"/>\n",
       "\t<rect x=\"0.00\" y=\"0.00\" width=\"3239.80\" height=\"1080.00\" style=\"fill:#FFFFFF\"/>\n",
       "\t<rect x=\"1.50\" y=\"1.50\" width=\"3236.80\" height=\"1077.00\" style=\"fill:none;stroke:#FFFFFF;stroke-width:3.00\"/>\n",
       "\t<line x1=\"923.50\" y1=\"649.46\" x2=\"3096.43\" y2=\"649.46\" style=\"stroke:#606060;stroke-width:7.78\"/>\n",
       "\t<line x1=\"3096.43\" y1=\"665.66\" x2=\"3096.43\" y2=\"633.26\" stroke-linecap=\"round\" style=\"stroke:#606060;stroke-width:7.78\"/>\n",
       "\t<line x1=\"923.50\" y1=\"665.66\" x2=\"923.50\" y2=\"633.26\" stroke-linecap=\"round\" style=\"stroke:#606060;stroke-width:7.78\"/>\n",
       "\t<line x1=\"1075.88\" y1=\"143.38\" x2=\"1118.61\" y2=\"143.38\" style=\"stroke:#606060;stroke-width:7.78\"/>\n",
       "\t<line x1=\"1118.61\" y1=\"159.58\" x2=\"1118.61\" y2=\"127.18\" stroke-linecap=\"round\" style=\"stroke:#606060;stroke-width:7.78\"/>\n",
       "\t<line x1=\"1075.88\" y1=\"159.58\" x2=\"1075.88\" y2=\"127.18\" stroke-linecap=\"round\" style=\"stroke:#606060;stroke-width:7.78\"/>\n",
       "\t<circle cx=\"2009.91\" cy=\"649.46\" r=\"16.20\" style=\"fill:none;stroke:#606060;stroke-width:7.78\"/>\n",
       "\t<circle cx=\"1097.25\" cy=\"143.48\" r=\"16.20\" style=\"fill:none;stroke:#606060;stroke-width:7.78\"/>\n",
       "\t<line x1=\"866.40\" y1=\"649.46\" x2=\"830.45\" y2=\"649.46\" style=\"stroke:#A0A0A0;stroke-width:5.18\"/>\n",
       "\t<text x=\"812.43\" y=\"674.68\" style=\"font-family:'Helvetica';font-size:71.99px;fill:#000000\" text-anchor=\"end\">Two or fewer brands</text>\n",
       "\t<line x1=\"866.40\" y1=\"143.38\" x2=\"830.45\" y2=\"143.38\" style=\"stroke:#A0A0A0;stroke-width:5.18\"/>\n",
       "\t<text x=\"812.43\" y=\"168.60\" style=\"font-family:'Helvetica';font-size:71.99px;fill:#000000\" text-anchor=\"end\">More than 3 brands</text>\n",
       "\t<line x1=\"866.40\" y1=\"649.46\" x2=\"866.40\" y2=\"143.38\" style=\"stroke:#A0A0A0;stroke-width:6.48\"/>\n",
       "\t<line x1=\"1028.40\" y1=\"706.47\" x2=\"1028.40\" y2=\"742.41\" style=\"stroke:#A0A0A0;stroke-width:5.18\"/>\n",
       "\t<text x=\"1028.40\" y=\"810.78\" style=\"font-family:'Helvetica';font-size:71.99px;fill:#000000\" text-anchor=\"middle\">0</text>\n",
       "\t<line x1=\"1432.69\" y1=\"706.47\" x2=\"1432.69\" y2=\"742.41\" style=\"stroke:#A0A0A0;stroke-width:5.18\"/>\n",
       "\t<text x=\"1432.69\" y=\"810.78\" style=\"font-family:'Helvetica';font-size:71.99px;fill:#000000\" text-anchor=\"middle\">50</text>\n",
       "\t<line x1=\"1836.98\" y1=\"706.47\" x2=\"1836.98\" y2=\"742.41\" style=\"stroke:#A0A0A0;stroke-width:5.18\"/>\n",
       "\t<text x=\"1836.98\" y=\"810.78\" style=\"font-family:'Helvetica';font-size:71.99px;fill:#000000\" text-anchor=\"middle\">100</text>\n",
       "\t<line x1=\"2241.37\" y1=\"706.47\" x2=\"2241.37\" y2=\"742.41\" style=\"stroke:#A0A0A0;stroke-width:5.18\"/>\n",
       "\t<text x=\"2241.37\" y=\"810.78\" style=\"font-family:'Helvetica';font-size:71.99px;fill:#000000\" text-anchor=\"middle\">150</text>\n",
       "\t<line x1=\"2645.66\" y1=\"706.47\" x2=\"2645.66\" y2=\"742.41\" style=\"stroke:#A0A0A0;stroke-width:5.18\"/>\n",
       "\t<text x=\"2645.66\" y=\"810.78\" style=\"font-family:'Helvetica';font-size:71.99px;fill:#000000\" text-anchor=\"middle\">200</text>\n",
       "\t<line x1=\"3049.95\" y1=\"706.47\" x2=\"3049.95\" y2=\"742.41\" style=\"stroke:#A0A0A0;stroke-width:5.18\"/>\n",
       "\t<text x=\"3049.95\" y=\"810.78\" style=\"font-family:'Helvetica';font-size:71.99px;fill:#000000\" text-anchor=\"middle\">250</text>\n",
       "\t<line x1=\"1028.40\" y1=\"706.47\" x2=\"3049.95\" y2=\"706.47\" style=\"stroke:#A0A0A0;stroke-width:6.48\"/>\n",
       "\t<text x=\"2009.91\" y=\"922.87\" style=\"font-family:'Helvetica';font-size:71.99px;fill:#000000\" text-anchor=\"middle\">Number of Articles Mentioning Brand</text>\n",
       "</svg>\n"
      ],
      "text/html": [
       "                <iframe frameborder=\"0\" scrolling=\"no\" height=\"267\" width=\"800\"                srcdoc=\"<html><body>&lt;?xml version=&quot;1.0&quot; encoding=&quot;UTF-8&quot; standalone=&quot;no&quot;?&gt;\n",
       "&lt;!-- This is a Stata 15.1 generated SVG file (http://www.stata.com) --&gt;\n",
       "\n",
       "&lt;svg version=&quot;1.1&quot; width=&quot;800px&quot; height=&quot;267px&quot; viewBox=&quot;0 0 3240 1080&quot; xmlns=&quot;http://www.w3.org/2000/svg&quot; xmlns:xlink=&quot;http://www.w3.org/1999/xlink&quot;&gt;\n",
       "\t&lt;desc&gt;Stata Graph - news_content_analysis_brands&lt;/desc&gt;\n",
       "\t&lt;rect x=&quot;0&quot; y=&quot;0&quot; width=&quot;3240&quot; height=&quot;1080&quot; style=&quot;fill:#FFFFFF;stroke:none&quot;/&gt;\n",
       "\t&lt;rect x=&quot;0.00&quot; y=&quot;0.00&quot; width=&quot;3239.80&quot; height=&quot;1080.00&quot; style=&quot;fill:#FFFFFF&quot;/&gt;\n",
       "\t&lt;rect x=&quot;1.50&quot; y=&quot;1.50&quot; width=&quot;3236.80&quot; height=&quot;1077.00&quot; style=&quot;fill:none;stroke:#FFFFFF;stroke-width:3.00&quot;/&gt;\n",
       "\t&lt;line x1=&quot;923.50&quot; y1=&quot;649.46&quot; x2=&quot;3096.43&quot; y2=&quot;649.46&quot; style=&quot;stroke:#606060;stroke-width:7.78&quot;/&gt;\n",
       "\t&lt;line x1=&quot;3096.43&quot; y1=&quot;665.66&quot; x2=&quot;3096.43&quot; y2=&quot;633.26&quot; stroke-linecap=&quot;round&quot; style=&quot;stroke:#606060;stroke-width:7.78&quot;/&gt;\n",
       "\t&lt;line x1=&quot;923.50&quot; y1=&quot;665.66&quot; x2=&quot;923.50&quot; y2=&quot;633.26&quot; stroke-linecap=&quot;round&quot; style=&quot;stroke:#606060;stroke-width:7.78&quot;/&gt;\n",
       "\t&lt;line x1=&quot;1075.88&quot; y1=&quot;143.38&quot; x2=&quot;1118.61&quot; y2=&quot;143.38&quot; style=&quot;stroke:#606060;stroke-width:7.78&quot;/&gt;\n",
       "\t&lt;line x1=&quot;1118.61&quot; y1=&quot;159.58&quot; x2=&quot;1118.61&quot; y2=&quot;127.18&quot; stroke-linecap=&quot;round&quot; style=&quot;stroke:#606060;stroke-width:7.78&quot;/&gt;\n",
       "\t&lt;line x1=&quot;1075.88&quot; y1=&quot;159.58&quot; x2=&quot;1075.88&quot; y2=&quot;127.18&quot; stroke-linecap=&quot;round&quot; style=&quot;stroke:#606060;stroke-width:7.78&quot;/&gt;\n",
       "\t&lt;circle cx=&quot;2009.91&quot; cy=&quot;649.46&quot; r=&quot;16.20&quot; style=&quot;fill:none;stroke:#606060;stroke-width:7.78&quot;/&gt;\n",
       "\t&lt;circle cx=&quot;1097.25&quot; cy=&quot;143.48&quot; r=&quot;16.20&quot; style=&quot;fill:none;stroke:#606060;stroke-width:7.78&quot;/&gt;\n",
       "\t&lt;line x1=&quot;866.40&quot; y1=&quot;649.46&quot; x2=&quot;830.45&quot; y2=&quot;649.46&quot; style=&quot;stroke:#A0A0A0;stroke-width:5.18&quot;/&gt;\n",
       "\t&lt;text x=&quot;812.43&quot; y=&quot;674.68&quot; style=&quot;font-family:&#x27;Helvetica&#x27;;font-size:71.99px;fill:#000000&quot; text-anchor=&quot;end&quot;&gt;Two or fewer brands&lt;/text&gt;\n",
       "\t&lt;line x1=&quot;866.40&quot; y1=&quot;143.38&quot; x2=&quot;830.45&quot; y2=&quot;143.38&quot; style=&quot;stroke:#A0A0A0;stroke-width:5.18&quot;/&gt;\n",
       "\t&lt;text x=&quot;812.43&quot; y=&quot;168.60&quot; style=&quot;font-family:&#x27;Helvetica&#x27;;font-size:71.99px;fill:#000000&quot; text-anchor=&quot;end&quot;&gt;More than 3 brands&lt;/text&gt;\n",
       "\t&lt;line x1=&quot;866.40&quot; y1=&quot;649.46&quot; x2=&quot;866.40&quot; y2=&quot;143.38&quot; style=&quot;stroke:#A0A0A0;stroke-width:6.48&quot;/&gt;\n",
       "\t&lt;line x1=&quot;1028.40&quot; y1=&quot;706.47&quot; x2=&quot;1028.40&quot; y2=&quot;742.41&quot; style=&quot;stroke:#A0A0A0;stroke-width:5.18&quot;/&gt;\n",
       "\t&lt;text x=&quot;1028.40&quot; y=&quot;810.78&quot; style=&quot;font-family:&#x27;Helvetica&#x27;;font-size:71.99px;fill:#000000&quot; text-anchor=&quot;middle&quot;&gt;0&lt;/text&gt;\n",
       "\t&lt;line x1=&quot;1432.69&quot; y1=&quot;706.47&quot; x2=&quot;1432.69&quot; y2=&quot;742.41&quot; style=&quot;stroke:#A0A0A0;stroke-width:5.18&quot;/&gt;\n",
       "\t&lt;text x=&quot;1432.69&quot; y=&quot;810.78&quot; style=&quot;font-family:&#x27;Helvetica&#x27;;font-size:71.99px;fill:#000000&quot; text-anchor=&quot;middle&quot;&gt;50&lt;/text&gt;\n",
       "\t&lt;line x1=&quot;1836.98&quot; y1=&quot;706.47&quot; x2=&quot;1836.98&quot; y2=&quot;742.41&quot; style=&quot;stroke:#A0A0A0;stroke-width:5.18&quot;/&gt;\n",
       "\t&lt;text x=&quot;1836.98&quot; y=&quot;810.78&quot; style=&quot;font-family:&#x27;Helvetica&#x27;;font-size:71.99px;fill:#000000&quot; text-anchor=&quot;middle&quot;&gt;100&lt;/text&gt;\n",
       "\t&lt;line x1=&quot;2241.37&quot; y1=&quot;706.47&quot; x2=&quot;2241.37&quot; y2=&quot;742.41&quot; style=&quot;stroke:#A0A0A0;stroke-width:5.18&quot;/&gt;\n",
       "\t&lt;text x=&quot;2241.37&quot; y=&quot;810.78&quot; style=&quot;font-family:&#x27;Helvetica&#x27;;font-size:71.99px;fill:#000000&quot; text-anchor=&quot;middle&quot;&gt;150&lt;/text&gt;\n",
       "\t&lt;line x1=&quot;2645.66&quot; y1=&quot;706.47&quot; x2=&quot;2645.66&quot; y2=&quot;742.41&quot; style=&quot;stroke:#A0A0A0;stroke-width:5.18&quot;/&gt;\n",
       "\t&lt;text x=&quot;2645.66&quot; y=&quot;810.78&quot; style=&quot;font-family:&#x27;Helvetica&#x27;;font-size:71.99px;fill:#000000&quot; text-anchor=&quot;middle&quot;&gt;200&lt;/text&gt;\n",
       "\t&lt;line x1=&quot;3049.95&quot; y1=&quot;706.47&quot; x2=&quot;3049.95&quot; y2=&quot;742.41&quot; style=&quot;stroke:#A0A0A0;stroke-width:5.18&quot;/&gt;\n",
       "\t&lt;text x=&quot;3049.95&quot; y=&quot;810.78&quot; style=&quot;font-family:&#x27;Helvetica&#x27;;font-size:71.99px;fill:#000000&quot; text-anchor=&quot;middle&quot;&gt;250&lt;/text&gt;\n",
       "\t&lt;line x1=&quot;1028.40&quot; y1=&quot;706.47&quot; x2=&quot;3049.95&quot; y2=&quot;706.47&quot; style=&quot;stroke:#A0A0A0;stroke-width:6.48&quot;/&gt;\n",
       "\t&lt;text x=&quot;2009.91&quot; y=&quot;922.87&quot; style=&quot;font-family:&#x27;Helvetica&#x27;;font-size:71.99px;fill:#000000&quot; text-anchor=&quot;middle&quot;&gt;Number of Articles Mentioning Brand&lt;/text&gt;\n",
       "&lt;/svg&gt;\n",
       "</body></html>\"></iframe>\n"
      ],
      "text/plain": [
       "This front-end cannot display the desired image type."
      ]
     },
     "metadata": {
      "image/svg+xml": {
       "height": 267,
       "width": 800
      },
      "text/html": {
       "height": 267,
       "width": 800
      }
     },
     "output_type": "display_data"
    }
   ],
   "source": [
    "quietly {\n",
    "    set scheme plotplain\n",
    "qui eststo: nbreg brandarticles i.multi_brand system_under online selective i.iclevel dpct* i.year, cluster(incident) ro\n",
    "margins i.multi_brand\n",
    "marginsplot, horizontal unique recast(scatter) title(\"\", margin(medsmall) yoffset(2) size(small)) ///\n",
    "scale(2.4) xsize(4.5) ysize(1.5) ytitle(\"\") xtitle(\"Number of Articles Mentioning Brand\", size(small)) ///\n",
    "name(news_content_analysis_brands, replace) graphregion(margin(large)) xlab(, nogrid) ylab(, nogrid) \n",
    "}"
   ]
  },
  {
   "cell_type": "code",
   "execution_count": null,
   "metadata": {},
   "outputs": [],
   "source": []
  }
 ],
 "metadata": {
  "kernelspec": {
   "display_name": "Stata",
   "language": "stata",
   "name": "stata"
  },
  "language_info": {
   "codemirror_mode": "stata",
   "file_extension": ".do",
   "mimetype": "text/x-stata",
   "name": "stata",
   "version": "15.1"
  }
 },
 "nbformat": 4,
 "nbformat_minor": 4
}
