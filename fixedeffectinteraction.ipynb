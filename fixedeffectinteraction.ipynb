{
 "cells": [
  {
   "cell_type": "markdown",
   "metadata": {},
   "source": [
    "## Replication for \"Asymmetry by Design\", March 22, 2020\n",
    "### By Adam Goldstein and Charlie Eaton\n",
    "\n",
    "### Table 4 alternative FIXED EFFECTS INTERACTED models"
   ]
  },
  {
   "cell_type": "code",
   "execution_count": 9,
   "metadata": {},
   "outputs": [],
   "source": [
    "quietly use \"/Users/Charlie/Dropbox/asymmetry by Design/Data/asymmetry_20191229.dta\", clear\n",
    "quietly set scheme plotplain\n",
    "quietly set more off\n",
    "quietly est clear\n",
    "quietly xtset unitid year"
   ]
  },
  {
   "cell_type": "code",
   "execution_count": 10,
   "metadata": {},
   "outputs": [],
   "source": [
    "est clear\n",
    "\n",
    "quietly eststo: reghdfe tuitionall_c_w i.pe_po system_under all_under online selective i.iclevel ///\n",
    "pell_grants_per_fte_c_w white_share_w black_share_w hisp_share_w dpcttype*   ,    absorb (unitid year) cluster(systemid year)\n",
    "\n",
    "quietly eststo: reghdfe tuitionall_c_w   i.pe_po##alt2multi_brands_all system_under all_under online selective i.iclevel ///\n",
    "pell_grants_per_fte_c_w white_share_w black_share_w hisp_share_w dpcttype*   ,    absorb (unitid year) cluster(systemid year)\n",
    "\n",
    "quietly eststo: reghdfe loan_amount_borrower_c_w i.pe_po  system_under online all_under i.iclevel ///\n",
    "pell_grants_per_fte_c_w white_share_w black_share_w hisp_share_w selective dpcttype*   ,    absorb (unitid year) cluster(systemid year)\n",
    "\n",
    "quietly eststo: reghdfe loan_amount_borrower_c_w   i.pe_po##alt2multi_brands_all system_under online all_under i.iclevel ///\n",
    "pell_grants_per_fte_c_w white_share_w black_share_w hisp_share_w selective dpcttype*   ,    absorb (unitid year) cluster(systemid year)\n",
    "\n",
    "**MIGHT BE BETTER TO DO THIS WITH ALL TITLE IV RATHER THAN JUST FOR-PROFITS\n",
    "quietly eststo: reghdfe ft_faculty_per_100fte_w i.pe_po  system_under online all_under selective ///\n",
    "pell_grants_per_fte_c_w white_share_w black_share_w hisp_share_w i.iclevel dpcttype*   ,    absorb (unitid year) cluster(systemid year)\n",
    "\n",
    "quietly eststo: reghdfe ft_faculty_per_100fte_w   i.pe_po##alt2multi_brands_all system_under online all_under selective ///\n",
    "pell_grants_per_fte_c_w white_share_w black_share_w hisp_share_w i.iclevel dpcttype*   ,    absorb (unitid year) cluster(systemid year)\n",
    "\n",
    "quietly replace grad_rate_150_p_w=grad_rate_150_p_w*100 if grad_rate_150_p_w!=0\n",
    "\n",
    "quietly eststo: reghdfe grad_rate_150_p_w i.pe_po  system_under online all_under i.iclevel dpcttype*   ///\n",
    "pell_grants_per_fte_c_w pctchrtgrbkaat pctchrtgrhispt pctchrtgrwhitt selective ,    absorb (unitid year) cluster(systemid year)\n",
    "\n",
    "quietly eststo: reghdfe grad_rate_150_p_w   i.pe_po##alt2multi_brands_all system_under online all_under i.iclevel dpcttype*   ///\n",
    "pell_grants_per_fte_c_w pctchrtgrbkaat pctchrtgrhispt pctchrtgrwhitt selective ,    absorb (unitid year) cluster(systemid year)\n",
    "\n",
    "quietly use \"/Users/Charlie/Dropbox/asymmetry by Design/Data/d_OPEID_asymmetry.dta\", clear\n",
    "quietly gen pe_po=0\n",
    "quietly replace pe_po=1 if pe_ind==1 | public==1\n",
    "quietly replace alt2multi_brands_all=alt2multi_brands_all4\n",
    "\n",
    "quietly eststo: reghdfe mn_earn_wne_p6_c_w l2.i.pe_po ///\n",
    "all_under system_under online selective iclevel ///\n",
    "white_share_w black_share_w hisp_share_w dpcttype*   earn_pct_lo ,  absorb (opeid year) cluster(systemid year)\n",
    "\n",
    "quietly eststo: reghdfe mn_earn_wne_p6_c_w l2.i.pe_po##l2.alt2multi_brands_all ///\n",
    "all_under system_under online selective iclevel ///\n",
    "white_share_w black_share_w hisp_share_w dpcttype*   earn_pct_lo ,   absorb (opeid year) cluster(systemid year)\n",
    " \n",
    "quietly eststo: reghdfe rpy_3yr_rt_supp_w l2.i.pe_po system_under all_under online selective iclevel  ///\n",
    "white_share_w black_share_w hisp_share_w dpcttype*   rpy_3yr_pct_lo ,   absorb (opeid year) cluster(systemid year)\n",
    "\n",
    "quietly eststo: reghdfe rpy_3yr_rt_supp_w l2.i.pe_po##l2.alt2multi_brands_all system_under all_under online selective iclevel ///\n",
    "white_share_w black_share_w hisp_share_w dpcttype*   rpy_3yr_pct_lo ,  absorb (opeid year) cluster(systemid year)\n",
    "\n",
    "quietly use \"/Users/Charlie/Dropbox/asymmetry by Design/Data/asymmetry_20191229.dta\", clear\n",
    "quietly replace alt2multi_brands_all=alt2multi_brands_all4\n",
    "quietly collapse (mean) selective online ///\n",
    "white_share_w black_share_w hisp_share_w pell_grants_per_fte_c_w ///\n",
    "dpcttype_health dpcttype_law dpcttype_culinarycosmetic dpcttype_arts dpcttype_tech dpcttype_biz ///\n",
    "(first) state_n (min) iclevel (max) pe_po system_under pe_ind public law_enf_frst_this_yr alt2multi_brands_all, by(systemid year)\n",
    "\n",
    "quietly xtset systemid year\n",
    "\n",
    "quietly eststo: reghdfe f1.law_enf_frst_this_yr i.pe_po ///\n",
    "system_under online i.iclevel dpcttype*   ///\n",
    "white_share_w black_share_w hisp_share_w selective pell_grants_per_fte_c_w  , absorb (systemid year) cluster(systemid year)\n",
    "\n",
    "quietly eststo: reghdfe f1.law_enf_frst_this_yr i.pe_po##alt2multi_brands_all ///\n",
    "system_under online i.iclevel dpcttype*   ///\n",
    "white_share_w black_share_w hisp_share_w selective pell_grants_per_fte_c_w , absorb (systemid year) cluster(systemid year)"
   ]
  },
  {
   "cell_type": "code",
   "execution_count": 11,
   "metadata": {},
   "outputs": [
    {
     "data": {
      "text/html": [
       "\n",
       "<table border=\"0\" width=\"*\">\n",
       "<tr><td colspan=29><hr></td></tr>\n",
       "<tr><td> </td><td>(1)</td><td>              </td><td>(2)</td><td>              </td><td>(3)</td><td>              </td><td>(4)</td><td>              </td><td>(5)</td><td>              </td><td>(6)</td><td>              </td><td>(7)</td><td>              </td><td>(8)</td><td>              </td><td>(9)</td><td>              </td><td>(10)</td><td>              </td><td>(11)</td><td>              </td><td>(12)</td><td>              </td><td>(13)</td><td>              </td><td>(14)</td><td>              </td></tr>\n",
       "<tr><td> </td><td>tuitionall_c_w</td><td>              </td><td>tuitionall_c_w</td><td>              </td><td>loan_amount_borrower_c_w</td><td>              </td><td>loan_amount_borrower_c_w</td><td>              </td><td>ft_faculty_per_100fte_w</td><td>              </td><td>ft_faculty_per_100fte_w</td><td>              </td><td>grad_rate_150_p_w</td><td>              </td><td>grad_rate_150_p_w</td><td>              </td><td>mn_earn_wne_p6_c_w</td><td>              </td><td>mn_earn_wne_p6_c_w</td><td>              </td><td>rpy_3yr_rt_supp_w</td><td>              </td><td>rpy_3yr_rt_supp_w</td><td>              </td><td>F.law_enf_frst_this_yr</td><td>              </td><td>F.law_enf_frst_this_yr</td><td>              </td></tr>\n",
       "<tr><td colspan=29><hr></td></tr>\n",
       "<tr><td>1.pe_po</td><td>679</td><td><sup>*</sup>  </td><td>570</td><td>              </td><td>786</td><td><sup>**</sup> </td><td>652</td><td><sup>**</sup> </td><td>-.61</td><td><sup>***</sup></td><td>-.56</td><td><sup>**</sup> </td><td>-4.5</td><td><sup>***</sup></td><td>-4.4</td><td><sup>***</sup></td><td> </td><td>              </td><td> </td><td>              </td><td> </td><td>              </td><td> </td><td>              </td><td>.013</td><td><sup>*</sup>  </td><td>.0092</td><td>              </td></tr>\n",
       "<tr><td> </td><td>[375]</td><td>              </td><td>[435]</td><td>              </td><td>[275]</td><td>              </td><td>[303]</td><td>              </td><td>[.19]</td><td>              </td><td>[.19]</td><td>              </td><td>[.91]</td><td>              </td><td>[.95]</td><td>              </td><td> </td><td>              </td><td> </td><td>              </td><td> </td><td>              </td><td> </td><td>              </td><td>[.0065]</td><td>              </td><td>[.0068]</td><td>              </td></tr>\n",
       "<tr><td>1.alt2multi_brands_all</td><td> </td><td>              </td><td>1092</td><td>              </td><td> </td><td>              </td><td>110</td><td>              </td><td> </td><td>              </td><td>-.27</td><td>              </td><td> </td><td>              </td><td>-3.6</td><td><sup>*</sup>  </td><td> </td><td>              </td><td> </td><td>              </td><td> </td><td>              </td><td> </td><td>              </td><td> </td><td>              </td><td>.044</td><td>              </td></tr>\n",
       "<tr><td> </td><td> </td><td>              </td><td>[655]</td><td>              </td><td> </td><td>              </td><td>[463]</td><td>              </td><td> </td><td>              </td><td>[.24]</td><td>              </td><td> </td><td>              </td><td>[1.8]</td><td>              </td><td> </td><td>              </td><td> </td><td>              </td><td> </td><td>              </td><td> </td><td>              </td><td> </td><td>              </td><td>[.035]</td><td>              </td></tr>\n",
       "<tr><td>1.pe_po#1.alt2multi_brands_all</td><td> </td><td>              </td><td>-581</td><td>              </td><td> </td><td>              </td><td>225</td><td>              </td><td> </td><td>              </td><td>.068</td><td>              </td><td> </td><td>              </td><td>2.4</td><td><sup>**</sup> </td><td> </td><td>              </td><td> </td><td>              </td><td> </td><td>              </td><td> </td><td>              </td><td> </td><td>              </td><td>.018</td><td>              </td></tr>\n",
       "<tr><td> </td><td> </td><td>              </td><td>[761]</td><td>              </td><td> </td><td>              </td><td>[516]</td><td>              </td><td> </td><td>              </td><td>[.32]</td><td>              </td><td> </td><td>              </td><td>[1.1]</td><td>              </td><td> </td><td>              </td><td> </td><td>              </td><td> </td><td>              </td><td> </td><td>              </td><td> </td><td>              </td><td>[.037]</td><td>              </td></tr>\n",
       "<tr><td>1L2.pe_po</td><td> </td><td>              </td><td> </td><td>              </td><td> </td><td>              </td><td> </td><td>              </td><td> </td><td>              </td><td> </td><td>              </td><td> </td><td>              </td><td> </td><td>              </td><td>-1122</td><td><sup>*</sup>  </td><td>-983</td><td>              </td><td>-2.3</td><td><sup>***</sup></td><td>-2.2</td><td><sup>***</sup></td><td> </td><td>              </td><td> </td><td>              </td></tr>\n",
       "<tr><td> </td><td> </td><td>              </td><td> </td><td>              </td><td> </td><td>              </td><td> </td><td>              </td><td> </td><td>              </td><td> </td><td>              </td><td> </td><td>              </td><td> </td><td>              </td><td>[443]</td><td>              </td><td>[529]</td><td>              </td><td>[.36]</td><td>              </td><td>[.59]</td><td>              </td><td> </td><td>              </td><td> </td><td>              </td></tr>\n",
       "<tr><td>1L2.alt2multi_brands_all</td><td> </td><td>              </td><td> </td><td>              </td><td> </td><td>              </td><td> </td><td>              </td><td> </td><td>              </td><td> </td><td>              </td><td> </td><td>              </td><td> </td><td>              </td><td> </td><td>              </td><td>-742</td><td>              </td><td> </td><td>              </td><td>-.36</td><td>              </td><td> </td><td>              </td><td> </td><td>              </td></tr>\n",
       "<tr><td> </td><td> </td><td>              </td><td> </td><td>              </td><td> </td><td>              </td><td> </td><td>              </td><td> </td><td>              </td><td> </td><td>              </td><td> </td><td>              </td><td> </td><td>              </td><td> </td><td>              </td><td>[655]</td><td>              </td><td> </td><td>              </td><td>[.76]</td><td>              </td><td> </td><td>              </td><td> </td><td>              </td></tr>\n",
       "<tr><td>1L2.pe_po#1L2.alt2multi_brands_all</td><td> </td><td>              </td><td> </td><td>              </td><td> </td><td>              </td><td> </td><td>              </td><td> </td><td>              </td><td> </td><td>              </td><td> </td><td>              </td><td> </td><td>              </td><td> </td><td>              </td><td>124</td><td>              </td><td> </td><td>              </td><td>.38</td><td>              </td><td> </td><td>              </td><td> </td><td>              </td></tr>\n",
       "<tr><td> </td><td> </td><td>              </td><td> </td><td>              </td><td> </td><td>              </td><td> </td><td>              </td><td> </td><td>              </td><td> </td><td>              </td><td> </td><td>              </td><td> </td><td>              </td><td> </td><td>              </td><td>[850]</td><td>              </td><td> </td><td>              </td><td>[1.3]</td><td>              </td><td> </td><td>              </td><td> </td><td>              </td></tr>\n",
       "<tr><td colspan=29><hr></td></tr>\n",
       "<tr><td><i>N</i></td><td>38744</td><td>              </td><td>38744</td><td>              </td><td>32686</td><td>              </td><td>32686</td><td>              </td><td>9590</td><td>              </td><td>9590</td><td>              </td><td>12240</td><td>              </td><td>12240</td><td>              </td><td>5947</td><td>              </td><td>5767</td><td>              </td><td>9037</td><td>              </td><td>8687</td><td>              </td><td>21765</td><td>              </td><td>21765</td><td>              </td></tr>\n",
       "<tr><td><i>R</i><sup>2</sup></td><td>.76</td><td>              </td><td>.76</td><td>              </td><td>.57</td><td>              </td><td>.57</td><td>              </td><td>.64</td><td>              </td><td>.64</td><td>              </td><td>.67</td><td>              </td><td>.67</td><td>              </td><td>.94</td><td>              </td><td>.94</td><td>              </td><td>.92</td><td>              </td><td>.92</td><td>              </td><td>.1</td><td>              </td><td>.11</td><td>              </td></tr>\n",
       "<tr><td>adj. <i>R</i><sup>2</sup></td><td>0.734</td><td>              </td><td>0.734</td><td>              </td><td>0.522</td><td>              </td><td>0.522</td><td>              </td><td>0.584</td><td>              </td><td>0.584</td><td>              </td><td>0.620</td><td>              </td><td>0.620</td><td>              </td><td>0.919</td><td>              </td><td>0.923</td><td>              </td><td>0.905</td><td>              </td><td>0.908</td><td>              </td><td>0.000</td><td>              </td><td>0.007</td><td>              </td></tr>\n",
       "<tr><td colspan=29><hr></td></tr>\n",
       "<tr><td colspan=29>\n",
       "Standard errors in brackets\n",
       "<br /><sup>*</sup> <i>p</i> < 0.10, <sup>**</sup> <i>p</i> < 0.05, <sup>***</sup> <i>p</i> < 0.01\n",
       "</td></tr>\n",
       "</table>\n",
       "\n"
      ],
      "text/plain": [
       "This front-end or document format cannot display HTML"
      ]
     },
     "metadata": {},
     "output_type": "display_data"
    }
   ],
   "source": [
    "%html\n",
    "esttab, html ///\n",
    "keep(1.pe_po 1.alt2multi_brands_all 1.pe_po#1.alt2multi_brands_all 1L2.pe_po 1L2.alt2multi_brands_all 1L2.pe_po#1L2.alt2multi_brands_all ) ///\n",
    "r2(%9.1g) se(%9.1g) b(%9.1g) nogaps stardetach ///\n",
    " star(* 0.10 ** 0.05 *** 0.01) varwidth(1) replace  ar2  br  nocon modelwidth(1)"
   ]
  },
  {
   "cell_type": "code",
   "execution_count": null,
   "metadata": {},
   "outputs": [],
   "source": []
  }
 ],
 "metadata": {
  "kernelspec": {
   "display_name": "Stata",
   "language": "stata",
   "name": "stata"
  },
  "language_info": {
   "codemirror_mode": "stata",
   "file_extension": ".do",
   "mimetype": "text/x-stata",
   "name": "stata",
   "version": "15.1"
  }
 },
 "nbformat": 4,
 "nbformat_minor": 4
}
